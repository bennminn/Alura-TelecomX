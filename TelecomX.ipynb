{
 "cells": [
  {
   "cell_type": "markdown",
   "id": "b51a1f6f",
   "metadata": {},
   "source": []
  },
  {
   "cell_type": "code",
   "execution_count": 1,
   "id": "547cf967",
   "metadata": {},
   "outputs": [],
   "source": [
    "import pandas as pd\n",
    "import numpy as np\n",
    "import requests\n",
    "\n",
    "df = pd.read_json('https://github.com/ingridcristh/challenge2-data-science-LATAM/blob/main/TelecomX_Data.json?raw=true')"
   ]
  },
  {
   "cell_type": "code",
   "execution_count": 2,
   "id": "729db7d7",
   "metadata": {},
   "outputs": [
    {
     "data": {
      "application/vnd.microsoft.datawrangler.viewer.v0+json": {
       "columns": [
        {
         "name": "index",
         "rawType": "int64",
         "type": "integer"
        },
        {
         "name": "customerID",
         "rawType": "object",
         "type": "string"
        },
        {
         "name": "Churn",
         "rawType": "object",
         "type": "string"
        },
        {
         "name": "customer",
         "rawType": "object",
         "type": "unknown"
        },
        {
         "name": "phone",
         "rawType": "object",
         "type": "unknown"
        },
        {
         "name": "internet",
         "rawType": "object",
         "type": "unknown"
        },
        {
         "name": "account",
         "rawType": "object",
         "type": "unknown"
        }
       ],
       "ref": "3375eb5d-47d1-405e-a59f-ddde34971362",
       "rows": [
        [
         "0",
         "0002-ORFBO",
         "No",
         "{'gender': 'Female', 'SeniorCitizen': 0, 'Partner': 'Yes', 'Dependents': 'Yes', 'tenure': 9}",
         "{'PhoneService': 'Yes', 'MultipleLines': 'No'}",
         "{'InternetService': 'DSL', 'OnlineSecurity': 'No', 'OnlineBackup': 'Yes', 'DeviceProtection': 'No', 'TechSupport': 'Yes', 'StreamingTV': 'Yes', 'StreamingMovies': 'No'}",
         "{'Contract': 'One year', 'PaperlessBilling': 'Yes', 'PaymentMethod': 'Mailed check', 'Charges': {'Monthly': 65.6, 'Total': '593.3'}}"
        ],
        [
         "1",
         "0003-MKNFE",
         "No",
         "{'gender': 'Male', 'SeniorCitizen': 0, 'Partner': 'No', 'Dependents': 'No', 'tenure': 9}",
         "{'PhoneService': 'Yes', 'MultipleLines': 'Yes'}",
         "{'InternetService': 'DSL', 'OnlineSecurity': 'No', 'OnlineBackup': 'No', 'DeviceProtection': 'No', 'TechSupport': 'No', 'StreamingTV': 'No', 'StreamingMovies': 'Yes'}",
         "{'Contract': 'Month-to-month', 'PaperlessBilling': 'No', 'PaymentMethod': 'Mailed check', 'Charges': {'Monthly': 59.9, 'Total': '542.4'}}"
        ],
        [
         "2",
         "0004-TLHLJ",
         "Yes",
         "{'gender': 'Male', 'SeniorCitizen': 0, 'Partner': 'No', 'Dependents': 'No', 'tenure': 4}",
         "{'PhoneService': 'Yes', 'MultipleLines': 'No'}",
         "{'InternetService': 'Fiber optic', 'OnlineSecurity': 'No', 'OnlineBackup': 'No', 'DeviceProtection': 'Yes', 'TechSupport': 'No', 'StreamingTV': 'No', 'StreamingMovies': 'No'}",
         "{'Contract': 'Month-to-month', 'PaperlessBilling': 'Yes', 'PaymentMethod': 'Electronic check', 'Charges': {'Monthly': 73.9, 'Total': '280.85'}}"
        ],
        [
         "3",
         "0011-IGKFF",
         "Yes",
         "{'gender': 'Male', 'SeniorCitizen': 1, 'Partner': 'Yes', 'Dependents': 'No', 'tenure': 13}",
         "{'PhoneService': 'Yes', 'MultipleLines': 'No'}",
         "{'InternetService': 'Fiber optic', 'OnlineSecurity': 'No', 'OnlineBackup': 'Yes', 'DeviceProtection': 'Yes', 'TechSupport': 'No', 'StreamingTV': 'Yes', 'StreamingMovies': 'Yes'}",
         "{'Contract': 'Month-to-month', 'PaperlessBilling': 'Yes', 'PaymentMethod': 'Electronic check', 'Charges': {'Monthly': 98.0, 'Total': '1237.85'}}"
        ],
        [
         "4",
         "0013-EXCHZ",
         "Yes",
         "{'gender': 'Female', 'SeniorCitizen': 1, 'Partner': 'Yes', 'Dependents': 'No', 'tenure': 3}",
         "{'PhoneService': 'Yes', 'MultipleLines': 'No'}",
         "{'InternetService': 'Fiber optic', 'OnlineSecurity': 'No', 'OnlineBackup': 'No', 'DeviceProtection': 'No', 'TechSupport': 'Yes', 'StreamingTV': 'Yes', 'StreamingMovies': 'No'}",
         "{'Contract': 'Month-to-month', 'PaperlessBilling': 'Yes', 'PaymentMethod': 'Mailed check', 'Charges': {'Monthly': 83.9, 'Total': '267.4'}}"
        ],
        [
         "5",
         "0013-MHZWF",
         "No",
         "{'gender': 'Female', 'SeniorCitizen': 0, 'Partner': 'No', 'Dependents': 'Yes', 'tenure': 9}",
         "{'PhoneService': 'Yes', 'MultipleLines': 'No'}",
         "{'InternetService': 'DSL', 'OnlineSecurity': 'No', 'OnlineBackup': 'No', 'DeviceProtection': 'No', 'TechSupport': 'Yes', 'StreamingTV': 'Yes', 'StreamingMovies': 'Yes'}",
         "{'Contract': 'Month-to-month', 'PaperlessBilling': 'Yes', 'PaymentMethod': 'Credit card (automatic)', 'Charges': {'Monthly': 69.4, 'Total': '571.45'}}"
        ],
        [
         "6",
         "0013-SMEOE",
         "No",
         "{'gender': 'Female', 'SeniorCitizen': 1, 'Partner': 'Yes', 'Dependents': 'No', 'tenure': 71}",
         "{'PhoneService': 'Yes', 'MultipleLines': 'No'}",
         "{'InternetService': 'Fiber optic', 'OnlineSecurity': 'Yes', 'OnlineBackup': 'Yes', 'DeviceProtection': 'Yes', 'TechSupport': 'Yes', 'StreamingTV': 'Yes', 'StreamingMovies': 'Yes'}",
         "{'Contract': 'Two year', 'PaperlessBilling': 'Yes', 'PaymentMethod': 'Bank transfer (automatic)', 'Charges': {'Monthly': 109.7, 'Total': '7904.25'}}"
        ],
        [
         "7",
         "0014-BMAQU",
         "No",
         "{'gender': 'Male', 'SeniorCitizen': 0, 'Partner': 'Yes', 'Dependents': 'No', 'tenure': 63}",
         "{'PhoneService': 'Yes', 'MultipleLines': 'Yes'}",
         "{'InternetService': 'Fiber optic', 'OnlineSecurity': 'Yes', 'OnlineBackup': 'No', 'DeviceProtection': 'No', 'TechSupport': 'Yes', 'StreamingTV': 'No', 'StreamingMovies': 'No'}",
         "{'Contract': 'Two year', 'PaperlessBilling': 'Yes', 'PaymentMethod': 'Credit card (automatic)', 'Charges': {'Monthly': 84.65, 'Total': '5377.8'}}"
        ],
        [
         "8",
         "0015-UOCOJ",
         "No",
         "{'gender': 'Female', 'SeniorCitizen': 1, 'Partner': 'No', 'Dependents': 'No', 'tenure': 7}",
         "{'PhoneService': 'Yes', 'MultipleLines': 'No'}",
         "{'InternetService': 'DSL', 'OnlineSecurity': 'Yes', 'OnlineBackup': 'No', 'DeviceProtection': 'No', 'TechSupport': 'No', 'StreamingTV': 'No', 'StreamingMovies': 'No'}",
         "{'Contract': 'Month-to-month', 'PaperlessBilling': 'Yes', 'PaymentMethod': 'Electronic check', 'Charges': {'Monthly': 48.2, 'Total': '340.35'}}"
        ],
        [
         "9",
         "0016-QLJIS",
         "No",
         "{'gender': 'Female', 'SeniorCitizen': 0, 'Partner': 'Yes', 'Dependents': 'Yes', 'tenure': 65}",
         "{'PhoneService': 'Yes', 'MultipleLines': 'Yes'}",
         "{'InternetService': 'DSL', 'OnlineSecurity': 'Yes', 'OnlineBackup': 'Yes', 'DeviceProtection': 'Yes', 'TechSupport': 'Yes', 'StreamingTV': 'Yes', 'StreamingMovies': 'Yes'}",
         "{'Contract': 'Two year', 'PaperlessBilling': 'Yes', 'PaymentMethod': 'Mailed check', 'Charges': {'Monthly': 90.45, 'Total': '5957.9'}}"
        ],
        [
         "10",
         "0017-DINOC",
         "No",
         "{'gender': 'Male', 'SeniorCitizen': 0, 'Partner': 'No', 'Dependents': 'No', 'tenure': 54}",
         "{'PhoneService': 'No', 'MultipleLines': 'No phone service'}",
         "{'InternetService': 'DSL', 'OnlineSecurity': 'Yes', 'OnlineBackup': 'No', 'DeviceProtection': 'No', 'TechSupport': 'Yes', 'StreamingTV': 'Yes', 'StreamingMovies': 'No'}",
         "{'Contract': 'Two year', 'PaperlessBilling': 'No', 'PaymentMethod': 'Credit card (automatic)', 'Charges': {'Monthly': 45.2, 'Total': '2460.55'}}"
        ],
        [
         "11",
         "0017-IUDMW",
         "No",
         "{'gender': 'Female', 'SeniorCitizen': 0, 'Partner': 'Yes', 'Dependents': 'Yes', 'tenure': 72}",
         "{'PhoneService': 'Yes', 'MultipleLines': 'Yes'}",
         "{'InternetService': 'Fiber optic', 'OnlineSecurity': 'Yes', 'OnlineBackup': 'Yes', 'DeviceProtection': 'Yes', 'TechSupport': 'Yes', 'StreamingTV': 'Yes', 'StreamingMovies': 'Yes'}",
         "{'Contract': 'Two year', 'PaperlessBilling': 'Yes', 'PaymentMethod': 'Credit card (automatic)', 'Charges': {'Monthly': 116.8, 'Total': '8456.75'}}"
        ],
        [
         "12",
         "0018-NYROU",
         "No",
         "{'gender': 'Female', 'SeniorCitizen': 0, 'Partner': 'Yes', 'Dependents': 'No', 'tenure': 5}",
         "{'PhoneService': 'Yes', 'MultipleLines': 'No'}",
         "{'InternetService': 'Fiber optic', 'OnlineSecurity': 'No', 'OnlineBackup': 'No', 'DeviceProtection': 'No', 'TechSupport': 'No', 'StreamingTV': 'No', 'StreamingMovies': 'No'}",
         "{'Contract': 'Month-to-month', 'PaperlessBilling': 'Yes', 'PaymentMethod': 'Electronic check', 'Charges': {'Monthly': 68.95, 'Total': '351.5'}}"
        ],
        [
         "13",
         "0019-EFAEP",
         "No",
         "{'gender': 'Female', 'SeniorCitizen': 0, 'Partner': 'No', 'Dependents': 'No', 'tenure': 72}",
         "{'PhoneService': 'Yes', 'MultipleLines': 'Yes'}",
         "{'InternetService': 'Fiber optic', 'OnlineSecurity': 'Yes', 'OnlineBackup': 'Yes', 'DeviceProtection': 'Yes', 'TechSupport': 'No', 'StreamingTV': 'Yes', 'StreamingMovies': 'No'}",
         "{'Contract': 'Two year', 'PaperlessBilling': 'Yes', 'PaymentMethod': 'Bank transfer (automatic)', 'Charges': {'Monthly': 101.3, 'Total': '7261.25'}}"
        ],
        [
         "14",
         "0019-GFNTW",
         "No",
         "{'gender': 'Female', 'SeniorCitizen': 0, 'Partner': 'No', 'Dependents': 'No', 'tenure': 56}",
         "{'PhoneService': 'No', 'MultipleLines': 'No phone service'}",
         "{'InternetService': 'DSL', 'OnlineSecurity': 'Yes', 'OnlineBackup': 'Yes', 'DeviceProtection': 'Yes', 'TechSupport': 'Yes', 'StreamingTV': 'No', 'StreamingMovies': 'No'}",
         "{'Contract': 'Two year', 'PaperlessBilling': 'No', 'PaymentMethod': 'Bank transfer (automatic)', 'Charges': {'Monthly': 45.05, 'Total': '2560.1'}}"
        ],
        [
         "15",
         "0020-INWCK",
         "No",
         "{'gender': 'Female', 'SeniorCitizen': 0, 'Partner': 'Yes', 'Dependents': 'Yes', 'tenure': 71}",
         "{'PhoneService': 'Yes', 'MultipleLines': 'Yes'}",
         "{'InternetService': 'Fiber optic', 'OnlineSecurity': 'No', 'OnlineBackup': 'Yes', 'DeviceProtection': 'Yes', 'TechSupport': 'No', 'StreamingTV': 'No', 'StreamingMovies': 'Yes'}",
         "{'Contract': 'Two year', 'PaperlessBilling': 'Yes', 'PaymentMethod': 'Credit card (automatic)', 'Charges': {'Monthly': 95.75, 'Total': '6849.4'}}"
        ],
        [
         "16",
         "0020-JDNXP",
         "No",
         "{'gender': 'Female', 'SeniorCitizen': 0, 'Partner': 'Yes', 'Dependents': 'Yes', 'tenure': 34}",
         "{'PhoneService': 'No', 'MultipleLines': 'No phone service'}",
         "{'InternetService': 'DSL', 'OnlineSecurity': 'Yes', 'OnlineBackup': 'No', 'DeviceProtection': 'Yes', 'TechSupport': 'Yes', 'StreamingTV': 'Yes', 'StreamingMovies': 'Yes'}",
         "{'Contract': 'One year', 'PaperlessBilling': 'No', 'PaymentMethod': 'Mailed check', 'Charges': {'Monthly': 61.25, 'Total': '1993.2'}}"
        ],
        [
         "17",
         "0021-IKXGC",
         "No",
         "{'gender': 'Female', 'SeniorCitizen': 1, 'Partner': 'No', 'Dependents': 'No', 'tenure': 1}",
         "{'PhoneService': 'Yes', 'MultipleLines': 'Yes'}",
         "{'InternetService': 'Fiber optic', 'OnlineSecurity': 'No', 'OnlineBackup': 'No', 'DeviceProtection': 'No', 'TechSupport': 'No', 'StreamingTV': 'No', 'StreamingMovies': 'No'}",
         "{'Contract': 'Month-to-month', 'PaperlessBilling': 'Yes', 'PaymentMethod': 'Electronic check', 'Charges': {'Monthly': 72.1, 'Total': '72.1'}}"
        ],
        [
         "18",
         "0022-TCJCI",
         "Yes",
         "{'gender': 'Male', 'SeniorCitizen': 1, 'Partner': 'No', 'Dependents': 'No', 'tenure': 45}",
         "{'PhoneService': 'Yes', 'MultipleLines': 'No'}",
         "{'InternetService': 'DSL', 'OnlineSecurity': 'Yes', 'OnlineBackup': 'No', 'DeviceProtection': 'Yes', 'TechSupport': 'No', 'StreamingTV': 'No', 'StreamingMovies': 'Yes'}",
         "{'Contract': 'One year', 'PaperlessBilling': 'No', 'PaymentMethod': 'Credit card (automatic)', 'Charges': {'Monthly': 62.7, 'Total': '2791.5'}}"
        ],
        [
         "19",
         "0023-HGHWL",
         "Yes",
         "{'gender': 'Male', 'SeniorCitizen': 1, 'Partner': 'No', 'Dependents': 'No', 'tenure': 1}",
         "{'PhoneService': 'No', 'MultipleLines': 'No phone service'}",
         "{'InternetService': 'DSL', 'OnlineSecurity': 'No', 'OnlineBackup': 'No', 'DeviceProtection': 'No', 'TechSupport': 'No', 'StreamingTV': 'No', 'StreamingMovies': 'No'}",
         "{'Contract': 'Month-to-month', 'PaperlessBilling': 'Yes', 'PaymentMethod': 'Electronic check', 'Charges': {'Monthly': 25.1, 'Total': '25.1'}}"
        ],
        [
         "20",
         "0023-UYUPN",
         "No",
         "{'gender': 'Female', 'SeniorCitizen': 1, 'Partner': 'Yes', 'Dependents': 'No', 'tenure': 50}",
         "{'PhoneService': 'Yes', 'MultipleLines': 'Yes'}",
         "{'InternetService': 'No', 'OnlineSecurity': 'No internet service', 'OnlineBackup': 'No internet service', 'DeviceProtection': 'No internet service', 'TechSupport': 'No internet service', 'StreamingTV': 'No internet service', 'StreamingMovies': 'No internet service'}",
         "{'Contract': 'One year', 'PaperlessBilling': 'No', 'PaymentMethod': 'Electronic check', 'Charges': {'Monthly': 25.2, 'Total': '1306.3'}}"
        ],
        [
         "21",
         "0023-XUOPT",
         "Yes",
         "{'gender': 'Female', 'SeniorCitizen': 0, 'Partner': 'Yes', 'Dependents': 'No', 'tenure': 13}",
         "{'PhoneService': 'Yes', 'MultipleLines': 'Yes'}",
         "{'InternetService': 'Fiber optic', 'OnlineSecurity': 'No', 'OnlineBackup': 'Yes', 'DeviceProtection': 'Yes', 'TechSupport': 'No', 'StreamingTV': 'Yes', 'StreamingMovies': 'No'}",
         "{'Contract': 'Month-to-month', 'PaperlessBilling': 'No', 'PaymentMethod': 'Electronic check', 'Charges': {'Monthly': 94.1, 'Total': '1215.6'}}"
        ],
        [
         "22",
         "0027-KWYKW",
         "No",
         "{'gender': 'Female', 'SeniorCitizen': 0, 'Partner': 'Yes', 'Dependents': 'Yes', 'tenure': 23}",
         "{'PhoneService': 'Yes', 'MultipleLines': 'Yes'}",
         "{'InternetService': 'Fiber optic', 'OnlineSecurity': 'No', 'OnlineBackup': 'No', 'DeviceProtection': 'No', 'TechSupport': 'No', 'StreamingTV': 'Yes', 'StreamingMovies': 'No'}",
         "{'Contract': 'Month-to-month', 'PaperlessBilling': 'Yes', 'PaymentMethod': 'Electronic check', 'Charges': {'Monthly': 83.75, 'Total': '1849.95'}}"
        ],
        [
         "23",
         "0030-FNXPP",
         "No",
         "{'gender': 'Female', 'SeniorCitizen': 0, 'Partner': 'No', 'Dependents': 'No', 'tenure': 3}",
         "{'PhoneService': 'Yes', 'MultipleLines': 'No'}",
         "{'InternetService': 'No', 'OnlineSecurity': 'No internet service', 'OnlineBackup': 'No internet service', 'DeviceProtection': 'No internet service', 'TechSupport': 'No internet service', 'StreamingTV': 'No internet service', 'StreamingMovies': 'No internet service'}",
         "{'Contract': 'Month-to-month', 'PaperlessBilling': 'No', 'PaymentMethod': 'Mailed check', 'Charges': {'Monthly': 19.85, 'Total': '57.2'}}"
        ],
        [
         "24",
         "0031-PVLZI",
         "Yes",
         "{'gender': 'Female', 'SeniorCitizen': 0, 'Partner': 'Yes', 'Dependents': 'Yes', 'tenure': 4}",
         "{'PhoneService': 'Yes', 'MultipleLines': 'No'}",
         "{'InternetService': 'No', 'OnlineSecurity': 'No internet service', 'OnlineBackup': 'No internet service', 'DeviceProtection': 'No internet service', 'TechSupport': 'No internet service', 'StreamingTV': 'No internet service', 'StreamingMovies': 'No internet service'}",
         "{'Contract': 'Month-to-month', 'PaperlessBilling': 'No', 'PaymentMethod': 'Mailed check', 'Charges': {'Monthly': 20.35, 'Total': '76.35'}}"
        ],
        [
         "25",
         "0032-PGELS",
         "Yes",
         "{'gender': 'Female', 'SeniorCitizen': 0, 'Partner': 'Yes', 'Dependents': 'Yes', 'tenure': 1}",
         "{'PhoneService': 'No', 'MultipleLines': 'No phone service'}",
         "{'InternetService': 'DSL', 'OnlineSecurity': 'Yes', 'OnlineBackup': 'No', 'DeviceProtection': 'No', 'TechSupport': 'No', 'StreamingTV': 'No', 'StreamingMovies': 'No'}",
         "{'Contract': 'Month-to-month', 'PaperlessBilling': 'No', 'PaymentMethod': 'Bank transfer (automatic)', 'Charges': {'Monthly': 30.5, 'Total': '30.5'}}"
        ],
        [
         "26",
         "0036-IHMOT",
         "No",
         "{'gender': 'Female', 'SeniorCitizen': 0, 'Partner': 'Yes', 'Dependents': 'Yes', 'tenure': 55}",
         "{'PhoneService': 'Yes', 'MultipleLines': 'No'}",
         "{'InternetService': 'Fiber optic', 'OnlineSecurity': 'No', 'OnlineBackup': 'Yes', 'DeviceProtection': 'Yes', 'TechSupport': 'Yes', 'StreamingTV': 'Yes', 'StreamingMovies': 'Yes'}",
         "{'Contract': 'One year', 'PaperlessBilling': 'Yes', 'PaymentMethod': 'Bank transfer (automatic)', 'Charges': {'Monthly': 103.7, 'Total': '5656.75'}}"
        ],
        [
         "27",
         "0040-HALCW",
         "No",
         "{'gender': 'Male', 'SeniorCitizen': 0, 'Partner': 'Yes', 'Dependents': 'Yes', 'tenure': 54}",
         "{'PhoneService': 'Yes', 'MultipleLines': 'No'}",
         "{'InternetService': 'No', 'OnlineSecurity': 'No internet service', 'OnlineBackup': 'No internet service', 'DeviceProtection': 'No internet service', 'TechSupport': 'No internet service', 'StreamingTV': 'No internet service', 'StreamingMovies': 'No internet service'}",
         "{'Contract': 'Two year', 'PaperlessBilling': 'No', 'PaymentMethod': 'Credit card (automatic)', 'Charges': {'Monthly': 20.4, 'Total': '1090.6'}}"
        ],
        [
         "28",
         "0042-JVWOJ",
         "No",
         "{'gender': 'Male', 'SeniorCitizen': 0, 'Partner': 'No', 'Dependents': 'No', 'tenure': 26}",
         "{'PhoneService': 'Yes', 'MultipleLines': 'No'}",
         "{'InternetService': 'No', 'OnlineSecurity': 'No internet service', 'OnlineBackup': 'No internet service', 'DeviceProtection': 'No internet service', 'TechSupport': 'No internet service', 'StreamingTV': 'No internet service', 'StreamingMovies': 'No internet service'}",
         "{'Contract': 'One year', 'PaperlessBilling': 'Yes', 'PaymentMethod': 'Bank transfer (automatic)', 'Charges': {'Monthly': 19.6, 'Total': '471.85'}}"
        ],
        [
         "29",
         "0042-RLHYP",
         "No",
         "{'gender': 'Female', 'SeniorCitizen': 0, 'Partner': 'Yes', 'Dependents': 'Yes', 'tenure': 69}",
         "{'PhoneService': 'Yes', 'MultipleLines': 'No'}",
         "{'InternetService': 'No', 'OnlineSecurity': 'No internet service', 'OnlineBackup': 'No internet service', 'DeviceProtection': 'No internet service', 'TechSupport': 'No internet service', 'StreamingTV': 'No internet service', 'StreamingMovies': 'No internet service'}",
         "{'Contract': 'Two year', 'PaperlessBilling': 'No', 'PaymentMethod': 'Bank transfer (automatic)', 'Charges': {'Monthly': 19.7, 'Total': '1396.9'}}"
        ],
        [
         "30",
         "0047-ZHDTW",
         "",
         "{'gender': 'Female', 'SeniorCitizen': 0, 'Partner': 'No', 'Dependents': 'No', 'tenure': 11}",
         "{'PhoneService': 'Yes', 'MultipleLines': 'Yes'}",
         "{'InternetService': 'Fiber optic', 'OnlineSecurity': 'Yes', 'OnlineBackup': 'No', 'DeviceProtection': 'No', 'TechSupport': 'No', 'StreamingTV': 'No', 'StreamingMovies': 'No'}",
         "{'Contract': 'Month-to-month', 'PaperlessBilling': 'Yes', 'PaymentMethod': 'Bank transfer (automatic)', 'Charges': {'Monthly': 79.0, 'Total': '929.3'}}"
        ],
        [
         "31",
         "0048-LUMLS",
         "No",
         "{'gender': 'Male', 'SeniorCitizen': 0, 'Partner': 'Yes', 'Dependents': 'Yes', 'tenure': 37}",
         "{'PhoneService': 'Yes', 'MultipleLines': 'No'}",
         "{'InternetService': 'Fiber optic', 'OnlineSecurity': 'No', 'OnlineBackup': 'No', 'DeviceProtection': 'No', 'TechSupport': 'No', 'StreamingTV': 'Yes', 'StreamingMovies': 'Yes'}",
         "{'Contract': 'One year', 'PaperlessBilling': 'No', 'PaymentMethod': 'Credit card (automatic)', 'Charges': {'Monthly': 91.2, 'Total': '3247.55'}}"
        ],
        [
         "32",
         "0048-PIHNL",
         "No",
         "{'gender': 'Female', 'SeniorCitizen': 0, 'Partner': 'Yes', 'Dependents': 'No', 'tenure': 49}",
         "{'PhoneService': 'Yes', 'MultipleLines': 'No'}",
         "{'InternetService': 'No', 'OnlineSecurity': 'No internet service', 'OnlineBackup': 'No internet service', 'DeviceProtection': 'No internet service', 'TechSupport': 'No internet service', 'StreamingTV': 'No internet service', 'StreamingMovies': 'No internet service'}",
         "{'Contract': 'One year', 'PaperlessBilling': 'No', 'PaymentMethod': 'Bank transfer (automatic)', 'Charges': {'Monthly': 20.45, 'Total': '900.9'}}"
        ],
        [
         "33",
         "0052-DCKON",
         "No",
         "{'gender': 'Male', 'SeniorCitizen': 0, 'Partner': 'Yes', 'Dependents': 'No', 'tenure': 66}",
         "{'PhoneService': 'Yes', 'MultipleLines': 'Yes'}",
         "{'InternetService': 'Fiber optic', 'OnlineSecurity': 'Yes', 'OnlineBackup': 'Yes', 'DeviceProtection': 'Yes', 'TechSupport': 'Yes', 'StreamingTV': 'Yes', 'StreamingMovies': 'Yes'}",
         "{'Contract': 'One year', 'PaperlessBilling': 'No', 'PaymentMethod': 'Bank transfer (automatic)', 'Charges': {'Monthly': 115.8, 'Total': '7942.15'}}"
        ],
        [
         "34",
         "0052-YNYOT",
         "No",
         "{'gender': 'Female', 'SeniorCitizen': 0, 'Partner': 'No', 'Dependents': 'No', 'tenure': 67}",
         "{'PhoneService': 'Yes', 'MultipleLines': 'No'}",
         "{'InternetService': 'No', 'OnlineSecurity': 'No internet service', 'OnlineBackup': 'No internet service', 'DeviceProtection': 'No internet service', 'TechSupport': 'No internet service', 'StreamingTV': 'No internet service', 'StreamingMovies': 'No internet service'}",
         "{'Contract': 'One year', 'PaperlessBilling': 'No', 'PaymentMethod': 'Electronic check', 'Charges': {'Monthly': 20.55, 'Total': '1343.4'}}"
        ],
        [
         "35",
         "0056-EPFBG",
         "No",
         "{'gender': 'Male', 'SeniorCitizen': 0, 'Partner': 'Yes', 'Dependents': 'Yes', 'tenure': 20}",
         "{'PhoneService': 'No', 'MultipleLines': 'No phone service'}",
         "{'InternetService': 'DSL', 'OnlineSecurity': 'Yes', 'OnlineBackup': 'No', 'DeviceProtection': 'Yes', 'TechSupport': 'Yes', 'StreamingTV': 'No', 'StreamingMovies': 'No'}",
         "{'Contract': 'Two year', 'PaperlessBilling': 'Yes', 'PaymentMethod': 'Credit card (automatic)', 'Charges': {'Monthly': 39.4, 'Total': '825.4'}}"
        ],
        [
         "36",
         "0057-QBUQH",
         "No",
         "{'gender': 'Female', 'SeniorCitizen': 0, 'Partner': 'No', 'Dependents': 'Yes', 'tenure': 43}",
         "{'PhoneService': 'Yes', 'MultipleLines': 'Yes'}",
         "{'InternetService': 'No', 'OnlineSecurity': 'No internet service', 'OnlineBackup': 'No internet service', 'DeviceProtection': 'No internet service', 'TechSupport': 'No internet service', 'StreamingTV': 'No internet service', 'StreamingMovies': 'No internet service'}",
         "{'Contract': 'Two year', 'PaperlessBilling': 'Yes', 'PaymentMethod': 'Electronic check', 'Charges': {'Monthly': 25.1, 'Total': '1070.15'}}"
        ],
        [
         "37",
         "0058-EVZWM",
         "No",
         "{'gender': 'Female', 'SeniorCitizen': 0, 'Partner': 'Yes', 'Dependents': 'No', 'tenure': 55}",
         "{'PhoneService': 'Yes', 'MultipleLines': 'Yes'}",
         "{'InternetService': 'Fiber optic', 'OnlineSecurity': 'Yes', 'OnlineBackup': 'No', 'DeviceProtection': 'No', 'TechSupport': 'No', 'StreamingTV': 'Yes', 'StreamingMovies': 'No'}",
         "{'Contract': 'Month-to-month', 'PaperlessBilling': 'Yes', 'PaymentMethod': 'Bank transfer (automatic)', 'Charges': {'Monthly': 89.8, 'Total': '4959.6'}}"
        ],
        [
         "38",
         "0060-FUALY",
         "No",
         "{'gender': 'Female', 'SeniorCitizen': 0, 'Partner': 'Yes', 'Dependents': 'No', 'tenure': 59}",
         "{'PhoneService': 'Yes', 'MultipleLines': 'Yes'}",
         "{'InternetService': 'Fiber optic', 'OnlineSecurity': 'Yes', 'OnlineBackup': 'Yes', 'DeviceProtection': 'No', 'TechSupport': 'No', 'StreamingTV': 'Yes', 'StreamingMovies': 'No'}",
         "{'Contract': 'Month-to-month', 'PaperlessBilling': 'Yes', 'PaymentMethod': 'Electronic check', 'Charges': {'Monthly': 94.75, 'Total': '5597.65'}}"
        ],
        [
         "39",
         "0064-SUDOG",
         "No",
         "{'gender': 'Female', 'SeniorCitizen': 0, 'Partner': 'Yes', 'Dependents': 'Yes', 'tenure': 12}",
         "{'PhoneService': 'Yes', 'MultipleLines': 'No'}",
         "{'InternetService': 'No', 'OnlineSecurity': 'No internet service', 'OnlineBackup': 'No internet service', 'DeviceProtection': 'No internet service', 'TechSupport': 'No internet service', 'StreamingTV': 'No internet service', 'StreamingMovies': 'No internet service'}",
         "{'Contract': 'Two year', 'PaperlessBilling': 'No', 'PaymentMethod': 'Bank transfer (automatic)', 'Charges': {'Monthly': 20.3, 'Total': '224.5'}}"
        ],
        [
         "40",
         "0064-YIJGF",
         "No",
         "{'gender': 'Male', 'SeniorCitizen': 0, 'Partner': 'Yes', 'Dependents': 'Yes', 'tenure': 27}",
         "{'PhoneService': 'Yes', 'MultipleLines': 'Yes'}",
         "{'InternetService': 'Fiber optic', 'OnlineSecurity': 'No', 'OnlineBackup': 'No', 'DeviceProtection': 'No', 'TechSupport': 'No', 'StreamingTV': 'No', 'StreamingMovies': 'No'}",
         "{'Contract': 'Month-to-month', 'PaperlessBilling': 'Yes', 'PaymentMethod': 'Bank transfer (automatic)', 'Charges': {'Monthly': 75.75, 'Total': '1929'}}"
        ],
        [
         "41",
         "0067-DKWBL",
         "Yes",
         "{'gender': 'Male', 'SeniorCitizen': 1, 'Partner': 'No', 'Dependents': 'No', 'tenure': 2}",
         "{'PhoneService': 'Yes', 'MultipleLines': 'No'}",
         "{'InternetService': 'DSL', 'OnlineSecurity': 'Yes', 'OnlineBackup': 'No', 'DeviceProtection': 'No', 'TechSupport': 'No', 'StreamingTV': 'No', 'StreamingMovies': 'No'}",
         "{'Contract': 'Month-to-month', 'PaperlessBilling': 'Yes', 'PaymentMethod': 'Electronic check', 'Charges': {'Monthly': 49.25, 'Total': '91.1'}}"
        ],
        [
         "42",
         "0068-FIGTF",
         "No",
         "{'gender': 'Female', 'SeniorCitizen': 0, 'Partner': 'No', 'Dependents': 'No', 'tenure': 27}",
         "{'PhoneService': 'Yes', 'MultipleLines': 'No'}",
         "{'InternetService': 'DSL', 'OnlineSecurity': 'No', 'OnlineBackup': 'Yes', 'DeviceProtection': 'Yes', 'TechSupport': 'Yes', 'StreamingTV': 'Yes', 'StreamingMovies': 'Yes'}",
         "{'Contract': 'One year', 'PaperlessBilling': 'No', 'PaymentMethod': 'Mailed check', 'Charges': {'Monthly': 78.2, 'Total': '2078.95'}}"
        ],
        [
         "43",
         "0071-NDAFP",
         "No",
         "{'gender': 'Male', 'SeniorCitizen': 0, 'Partner': 'Yes', 'Dependents': 'Yes', 'tenure': 25}",
         "{'PhoneService': 'Yes', 'MultipleLines': 'Yes'}",
         "{'InternetService': 'No', 'OnlineSecurity': 'No internet service', 'OnlineBackup': 'No internet service', 'DeviceProtection': 'No internet service', 'TechSupport': 'No internet service', 'StreamingTV': 'No internet service', 'StreamingMovies': 'No internet service'}",
         "{'Contract': 'Two year', 'PaperlessBilling': 'No', 'PaymentMethod': 'Credit card (automatic)', 'Charges': {'Monthly': 25.5, 'Total': '630.6'}}"
        ],
        [
         "44",
         "0074-HDKDG",
         "No",
         "{'gender': 'Male', 'SeniorCitizen': 0, 'Partner': 'Yes', 'Dependents': 'Yes', 'tenure': 25}",
         "{'PhoneService': 'Yes', 'MultipleLines': 'No'}",
         "{'InternetService': 'DSL', 'OnlineSecurity': 'Yes', 'OnlineBackup': 'Yes', 'DeviceProtection': 'Yes', 'TechSupport': 'No', 'StreamingTV': 'No', 'StreamingMovies': 'No'}",
         "{'Contract': 'One year', 'PaperlessBilling': 'Yes', 'PaymentMethod': 'Bank transfer (automatic)', 'Charges': {'Monthly': 61.6, 'Total': '1611'}}"
        ],
        [
         "45",
         "0076-LVEPS",
         "No",
         "{'gender': 'Male', 'SeniorCitizen': 0, 'Partner': 'No', 'Dependents': 'Yes', 'tenure': 29}",
         "{'PhoneService': 'No', 'MultipleLines': 'No phone service'}",
         "{'InternetService': 'DSL', 'OnlineSecurity': 'Yes', 'OnlineBackup': 'Yes', 'DeviceProtection': 'Yes', 'TechSupport': 'Yes', 'StreamingTV': 'No', 'StreamingMovies': 'No'}",
         "{'Contract': 'Month-to-month', 'PaperlessBilling': 'Yes', 'PaymentMethod': 'Mailed check', 'Charges': {'Monthly': 45.0, 'Total': '1242.45'}}"
        ],
        [
         "46",
         "0078-XZMHT",
         "No",
         "{'gender': 'Male', 'SeniorCitizen': 0, 'Partner': 'Yes', 'Dependents': 'No', 'tenure': 72}",
         "{'PhoneService': 'Yes', 'MultipleLines': 'Yes'}",
         "{'InternetService': 'DSL', 'OnlineSecurity': 'No', 'OnlineBackup': 'Yes', 'DeviceProtection': 'Yes', 'TechSupport': 'Yes', 'StreamingTV': 'Yes', 'StreamingMovies': 'Yes'}",
         "{'Contract': 'Two year', 'PaperlessBilling': 'Yes', 'PaymentMethod': 'Bank transfer (automatic)', 'Charges': {'Monthly': 85.15, 'Total': '6316.2'}}"
        ],
        [
         "47",
         "0080-EMYVY",
         "No",
         "{'gender': 'Female', 'SeniorCitizen': 0, 'Partner': 'No', 'Dependents': 'No', 'tenure': 14}",
         "{'PhoneService': 'Yes', 'MultipleLines': 'No'}",
         "{'InternetService': 'DSL', 'OnlineSecurity': 'No', 'OnlineBackup': 'Yes', 'DeviceProtection': 'No', 'TechSupport': 'No', 'StreamingTV': 'No', 'StreamingMovies': 'No'}",
         "{'Contract': 'One year', 'PaperlessBilling': 'No', 'PaymentMethod': 'Credit card (automatic)', 'Charges': {'Monthly': 51.45, 'Total': '727.85'}}"
        ],
        [
         "48",
         "0080-OROZO",
         "No",
         "{'gender': 'Female', 'SeniorCitizen': 0, 'Partner': 'No', 'Dependents': 'No', 'tenure': 35}",
         "{'PhoneService': 'Yes', 'MultipleLines': 'No'}",
         "{'InternetService': 'Fiber optic', 'OnlineSecurity': 'No', 'OnlineBackup': 'No', 'DeviceProtection': 'Yes', 'TechSupport': 'Yes', 'StreamingTV': 'Yes', 'StreamingMovies': 'Yes'}",
         "{'Contract': 'One year', 'PaperlessBilling': 'Yes', 'PaymentMethod': 'Electronic check', 'Charges': {'Monthly': 99.25, 'Total': '3532'}}"
        ],
        [
         "49",
         "0082-LDZUE",
         "No",
         "{'gender': 'Male', 'SeniorCitizen': 0, 'Partner': 'No', 'Dependents': 'No', 'tenure': 1}",
         "{'PhoneService': 'Yes', 'MultipleLines': 'No'}",
         "{'InternetService': 'DSL', 'OnlineSecurity': 'No', 'OnlineBackup': 'No', 'DeviceProtection': 'No', 'TechSupport': 'No', 'StreamingTV': 'No', 'StreamingMovies': 'No'}",
         "{'Contract': 'Month-to-month', 'PaperlessBilling': 'Yes', 'PaymentMethod': 'Mailed check', 'Charges': {'Monthly': 44.3, 'Total': '44.3'}}"
        ]
       ],
       "shape": {
        "columns": 6,
        "rows": 7267
       }
      },
      "text/html": [
       "<div>\n",
       "<style scoped>\n",
       "    .dataframe tbody tr th:only-of-type {\n",
       "        vertical-align: middle;\n",
       "    }\n",
       "\n",
       "    .dataframe tbody tr th {\n",
       "        vertical-align: top;\n",
       "    }\n",
       "\n",
       "    .dataframe thead th {\n",
       "        text-align: right;\n",
       "    }\n",
       "</style>\n",
       "<table border=\"1\" class=\"dataframe\">\n",
       "  <thead>\n",
       "    <tr style=\"text-align: right;\">\n",
       "      <th></th>\n",
       "      <th>customerID</th>\n",
       "      <th>Churn</th>\n",
       "      <th>customer</th>\n",
       "      <th>phone</th>\n",
       "      <th>internet</th>\n",
       "      <th>account</th>\n",
       "    </tr>\n",
       "  </thead>\n",
       "  <tbody>\n",
       "    <tr>\n",
       "      <th>0</th>\n",
       "      <td>0002-ORFBO</td>\n",
       "      <td>No</td>\n",
       "      <td>{'gender': 'Female', 'SeniorCitizen': 0, 'Part...</td>\n",
       "      <td>{'PhoneService': 'Yes', 'MultipleLines': 'No'}</td>\n",
       "      <td>{'InternetService': 'DSL', 'OnlineSecurity': '...</td>\n",
       "      <td>{'Contract': 'One year', 'PaperlessBilling': '...</td>\n",
       "    </tr>\n",
       "    <tr>\n",
       "      <th>1</th>\n",
       "      <td>0003-MKNFE</td>\n",
       "      <td>No</td>\n",
       "      <td>{'gender': 'Male', 'SeniorCitizen': 0, 'Partne...</td>\n",
       "      <td>{'PhoneService': 'Yes', 'MultipleLines': 'Yes'}</td>\n",
       "      <td>{'InternetService': 'DSL', 'OnlineSecurity': '...</td>\n",
       "      <td>{'Contract': 'Month-to-month', 'PaperlessBilli...</td>\n",
       "    </tr>\n",
       "    <tr>\n",
       "      <th>2</th>\n",
       "      <td>0004-TLHLJ</td>\n",
       "      <td>Yes</td>\n",
       "      <td>{'gender': 'Male', 'SeniorCitizen': 0, 'Partne...</td>\n",
       "      <td>{'PhoneService': 'Yes', 'MultipleLines': 'No'}</td>\n",
       "      <td>{'InternetService': 'Fiber optic', 'OnlineSecu...</td>\n",
       "      <td>{'Contract': 'Month-to-month', 'PaperlessBilli...</td>\n",
       "    </tr>\n",
       "    <tr>\n",
       "      <th>3</th>\n",
       "      <td>0011-IGKFF</td>\n",
       "      <td>Yes</td>\n",
       "      <td>{'gender': 'Male', 'SeniorCitizen': 1, 'Partne...</td>\n",
       "      <td>{'PhoneService': 'Yes', 'MultipleLines': 'No'}</td>\n",
       "      <td>{'InternetService': 'Fiber optic', 'OnlineSecu...</td>\n",
       "      <td>{'Contract': 'Month-to-month', 'PaperlessBilli...</td>\n",
       "    </tr>\n",
       "    <tr>\n",
       "      <th>4</th>\n",
       "      <td>0013-EXCHZ</td>\n",
       "      <td>Yes</td>\n",
       "      <td>{'gender': 'Female', 'SeniorCitizen': 1, 'Part...</td>\n",
       "      <td>{'PhoneService': 'Yes', 'MultipleLines': 'No'}</td>\n",
       "      <td>{'InternetService': 'Fiber optic', 'OnlineSecu...</td>\n",
       "      <td>{'Contract': 'Month-to-month', 'PaperlessBilli...</td>\n",
       "    </tr>\n",
       "    <tr>\n",
       "      <th>...</th>\n",
       "      <td>...</td>\n",
       "      <td>...</td>\n",
       "      <td>...</td>\n",
       "      <td>...</td>\n",
       "      <td>...</td>\n",
       "      <td>...</td>\n",
       "    </tr>\n",
       "    <tr>\n",
       "      <th>7262</th>\n",
       "      <td>9987-LUTYD</td>\n",
       "      <td>No</td>\n",
       "      <td>{'gender': 'Female', 'SeniorCitizen': 0, 'Part...</td>\n",
       "      <td>{'PhoneService': 'Yes', 'MultipleLines': 'No'}</td>\n",
       "      <td>{'InternetService': 'DSL', 'OnlineSecurity': '...</td>\n",
       "      <td>{'Contract': 'One year', 'PaperlessBilling': '...</td>\n",
       "    </tr>\n",
       "    <tr>\n",
       "      <th>7263</th>\n",
       "      <td>9992-RRAMN</td>\n",
       "      <td>Yes</td>\n",
       "      <td>{'gender': 'Male', 'SeniorCitizen': 0, 'Partne...</td>\n",
       "      <td>{'PhoneService': 'Yes', 'MultipleLines': 'Yes'}</td>\n",
       "      <td>{'InternetService': 'Fiber optic', 'OnlineSecu...</td>\n",
       "      <td>{'Contract': 'Month-to-month', 'PaperlessBilli...</td>\n",
       "    </tr>\n",
       "    <tr>\n",
       "      <th>7264</th>\n",
       "      <td>9992-UJOEL</td>\n",
       "      <td>No</td>\n",
       "      <td>{'gender': 'Male', 'SeniorCitizen': 0, 'Partne...</td>\n",
       "      <td>{'PhoneService': 'Yes', 'MultipleLines': 'No'}</td>\n",
       "      <td>{'InternetService': 'DSL', 'OnlineSecurity': '...</td>\n",
       "      <td>{'Contract': 'Month-to-month', 'PaperlessBilli...</td>\n",
       "    </tr>\n",
       "    <tr>\n",
       "      <th>7265</th>\n",
       "      <td>9993-LHIEB</td>\n",
       "      <td>No</td>\n",
       "      <td>{'gender': 'Male', 'SeniorCitizen': 0, 'Partne...</td>\n",
       "      <td>{'PhoneService': 'Yes', 'MultipleLines': 'No'}</td>\n",
       "      <td>{'InternetService': 'DSL', 'OnlineSecurity': '...</td>\n",
       "      <td>{'Contract': 'Two year', 'PaperlessBilling': '...</td>\n",
       "    </tr>\n",
       "    <tr>\n",
       "      <th>7266</th>\n",
       "      <td>9995-HOTOH</td>\n",
       "      <td>No</td>\n",
       "      <td>{'gender': 'Male', 'SeniorCitizen': 0, 'Partne...</td>\n",
       "      <td>{'PhoneService': 'No', 'MultipleLines': 'No ph...</td>\n",
       "      <td>{'InternetService': 'DSL', 'OnlineSecurity': '...</td>\n",
       "      <td>{'Contract': 'Two year', 'PaperlessBilling': '...</td>\n",
       "    </tr>\n",
       "  </tbody>\n",
       "</table>\n",
       "<p>7267 rows × 6 columns</p>\n",
       "</div>"
      ],
      "text/plain": [
       "      customerID Churn                                           customer  \\\n",
       "0     0002-ORFBO    No  {'gender': 'Female', 'SeniorCitizen': 0, 'Part...   \n",
       "1     0003-MKNFE    No  {'gender': 'Male', 'SeniorCitizen': 0, 'Partne...   \n",
       "2     0004-TLHLJ   Yes  {'gender': 'Male', 'SeniorCitizen': 0, 'Partne...   \n",
       "3     0011-IGKFF   Yes  {'gender': 'Male', 'SeniorCitizen': 1, 'Partne...   \n",
       "4     0013-EXCHZ   Yes  {'gender': 'Female', 'SeniorCitizen': 1, 'Part...   \n",
       "...          ...   ...                                                ...   \n",
       "7262  9987-LUTYD    No  {'gender': 'Female', 'SeniorCitizen': 0, 'Part...   \n",
       "7263  9992-RRAMN   Yes  {'gender': 'Male', 'SeniorCitizen': 0, 'Partne...   \n",
       "7264  9992-UJOEL    No  {'gender': 'Male', 'SeniorCitizen': 0, 'Partne...   \n",
       "7265  9993-LHIEB    No  {'gender': 'Male', 'SeniorCitizen': 0, 'Partne...   \n",
       "7266  9995-HOTOH    No  {'gender': 'Male', 'SeniorCitizen': 0, 'Partne...   \n",
       "\n",
       "                                                  phone  \\\n",
       "0        {'PhoneService': 'Yes', 'MultipleLines': 'No'}   \n",
       "1       {'PhoneService': 'Yes', 'MultipleLines': 'Yes'}   \n",
       "2        {'PhoneService': 'Yes', 'MultipleLines': 'No'}   \n",
       "3        {'PhoneService': 'Yes', 'MultipleLines': 'No'}   \n",
       "4        {'PhoneService': 'Yes', 'MultipleLines': 'No'}   \n",
       "...                                                 ...   \n",
       "7262     {'PhoneService': 'Yes', 'MultipleLines': 'No'}   \n",
       "7263    {'PhoneService': 'Yes', 'MultipleLines': 'Yes'}   \n",
       "7264     {'PhoneService': 'Yes', 'MultipleLines': 'No'}   \n",
       "7265     {'PhoneService': 'Yes', 'MultipleLines': 'No'}   \n",
       "7266  {'PhoneService': 'No', 'MultipleLines': 'No ph...   \n",
       "\n",
       "                                               internet  \\\n",
       "0     {'InternetService': 'DSL', 'OnlineSecurity': '...   \n",
       "1     {'InternetService': 'DSL', 'OnlineSecurity': '...   \n",
       "2     {'InternetService': 'Fiber optic', 'OnlineSecu...   \n",
       "3     {'InternetService': 'Fiber optic', 'OnlineSecu...   \n",
       "4     {'InternetService': 'Fiber optic', 'OnlineSecu...   \n",
       "...                                                 ...   \n",
       "7262  {'InternetService': 'DSL', 'OnlineSecurity': '...   \n",
       "7263  {'InternetService': 'Fiber optic', 'OnlineSecu...   \n",
       "7264  {'InternetService': 'DSL', 'OnlineSecurity': '...   \n",
       "7265  {'InternetService': 'DSL', 'OnlineSecurity': '...   \n",
       "7266  {'InternetService': 'DSL', 'OnlineSecurity': '...   \n",
       "\n",
       "                                                account  \n",
       "0     {'Contract': 'One year', 'PaperlessBilling': '...  \n",
       "1     {'Contract': 'Month-to-month', 'PaperlessBilli...  \n",
       "2     {'Contract': 'Month-to-month', 'PaperlessBilli...  \n",
       "3     {'Contract': 'Month-to-month', 'PaperlessBilli...  \n",
       "4     {'Contract': 'Month-to-month', 'PaperlessBilli...  \n",
       "...                                                 ...  \n",
       "7262  {'Contract': 'One year', 'PaperlessBilling': '...  \n",
       "7263  {'Contract': 'Month-to-month', 'PaperlessBilli...  \n",
       "7264  {'Contract': 'Month-to-month', 'PaperlessBilli...  \n",
       "7265  {'Contract': 'Two year', 'PaperlessBilling': '...  \n",
       "7266  {'Contract': 'Two year', 'PaperlessBilling': '...  \n",
       "\n",
       "[7267 rows x 6 columns]"
      ]
     },
     "execution_count": 2,
     "metadata": {},
     "output_type": "execute_result"
    }
   ],
   "source": [
    "df"
   ]
  },
  {
   "cell_type": "code",
   "execution_count": 4,
   "id": "c7990600",
   "metadata": {},
   "outputs": [],
   "source": [
    "df.to_json('TelecomX_Data.json', orient='records', lines=True)"
   ]
  },
  {
   "cell_type": "code",
   "execution_count": 13,
   "id": "0060600f",
   "metadata": {},
   "outputs": [
    {
     "data": {
      "application/vnd.microsoft.datawrangler.viewer.v0+json": {
       "columns": [
        {
         "name": "index",
         "rawType": "int64",
         "type": "integer"
        },
        {
         "name": "gender",
         "rawType": "object",
         "type": "string"
        },
        {
         "name": "SeniorCitizen",
         "rawType": "int64",
         "type": "integer"
        },
        {
         "name": "Partner",
         "rawType": "object",
         "type": "string"
        },
        {
         "name": "Dependents",
         "rawType": "object",
         "type": "string"
        },
        {
         "name": "tenure",
         "rawType": "int64",
         "type": "integer"
        }
       ],
       "ref": "0b368412-2891-4bfc-9ecd-34ad3a475de6",
       "rows": [
        [
         "0",
         "Female",
         "0",
         "Yes",
         "Yes",
         "9"
        ],
        [
         "1",
         "Male",
         "0",
         "No",
         "No",
         "9"
        ],
        [
         "2",
         "Male",
         "0",
         "No",
         "No",
         "4"
        ],
        [
         "3",
         "Male",
         "1",
         "Yes",
         "No",
         "13"
        ],
        [
         "4",
         "Female",
         "1",
         "Yes",
         "No",
         "3"
        ],
        [
         "5",
         "Female",
         "0",
         "No",
         "Yes",
         "9"
        ],
        [
         "6",
         "Female",
         "1",
         "Yes",
         "No",
         "71"
        ],
        [
         "7",
         "Male",
         "0",
         "Yes",
         "No",
         "63"
        ],
        [
         "8",
         "Female",
         "1",
         "No",
         "No",
         "7"
        ],
        [
         "9",
         "Female",
         "0",
         "Yes",
         "Yes",
         "65"
        ],
        [
         "10",
         "Male",
         "0",
         "No",
         "No",
         "54"
        ],
        [
         "11",
         "Female",
         "0",
         "Yes",
         "Yes",
         "72"
        ],
        [
         "12",
         "Female",
         "0",
         "Yes",
         "No",
         "5"
        ],
        [
         "13",
         "Female",
         "0",
         "No",
         "No",
         "72"
        ],
        [
         "14",
         "Female",
         "0",
         "No",
         "No",
         "56"
        ],
        [
         "15",
         "Female",
         "0",
         "Yes",
         "Yes",
         "71"
        ],
        [
         "16",
         "Female",
         "0",
         "Yes",
         "Yes",
         "34"
        ],
        [
         "17",
         "Female",
         "1",
         "No",
         "No",
         "1"
        ],
        [
         "18",
         "Male",
         "1",
         "No",
         "No",
         "45"
        ],
        [
         "19",
         "Male",
         "1",
         "No",
         "No",
         "1"
        ],
        [
         "20",
         "Female",
         "1",
         "Yes",
         "No",
         "50"
        ],
        [
         "21",
         "Female",
         "0",
         "Yes",
         "No",
         "13"
        ],
        [
         "22",
         "Female",
         "0",
         "Yes",
         "Yes",
         "23"
        ],
        [
         "23",
         "Female",
         "0",
         "No",
         "No",
         "3"
        ],
        [
         "24",
         "Female",
         "0",
         "Yes",
         "Yes",
         "4"
        ],
        [
         "25",
         "Female",
         "0",
         "Yes",
         "Yes",
         "1"
        ],
        [
         "26",
         "Female",
         "0",
         "Yes",
         "Yes",
         "55"
        ],
        [
         "27",
         "Male",
         "0",
         "Yes",
         "Yes",
         "54"
        ],
        [
         "28",
         "Male",
         "0",
         "No",
         "No",
         "26"
        ],
        [
         "29",
         "Female",
         "0",
         "Yes",
         "Yes",
         "69"
        ],
        [
         "30",
         "Female",
         "0",
         "No",
         "No",
         "11"
        ],
        [
         "31",
         "Male",
         "0",
         "Yes",
         "Yes",
         "37"
        ],
        [
         "32",
         "Female",
         "0",
         "Yes",
         "No",
         "49"
        ],
        [
         "33",
         "Male",
         "0",
         "Yes",
         "No",
         "66"
        ],
        [
         "34",
         "Female",
         "0",
         "No",
         "No",
         "67"
        ],
        [
         "35",
         "Male",
         "0",
         "Yes",
         "Yes",
         "20"
        ],
        [
         "36",
         "Female",
         "0",
         "No",
         "Yes",
         "43"
        ],
        [
         "37",
         "Female",
         "0",
         "Yes",
         "No",
         "55"
        ],
        [
         "38",
         "Female",
         "0",
         "Yes",
         "No",
         "59"
        ],
        [
         "39",
         "Female",
         "0",
         "Yes",
         "Yes",
         "12"
        ],
        [
         "40",
         "Male",
         "0",
         "Yes",
         "Yes",
         "27"
        ],
        [
         "41",
         "Male",
         "1",
         "No",
         "No",
         "2"
        ],
        [
         "42",
         "Female",
         "0",
         "No",
         "No",
         "27"
        ],
        [
         "43",
         "Male",
         "0",
         "Yes",
         "Yes",
         "25"
        ],
        [
         "44",
         "Male",
         "0",
         "Yes",
         "Yes",
         "25"
        ],
        [
         "45",
         "Male",
         "0",
         "No",
         "Yes",
         "29"
        ],
        [
         "46",
         "Male",
         "0",
         "Yes",
         "No",
         "72"
        ],
        [
         "47",
         "Female",
         "0",
         "No",
         "No",
         "14"
        ],
        [
         "48",
         "Female",
         "0",
         "No",
         "No",
         "35"
        ],
        [
         "49",
         "Male",
         "0",
         "No",
         "No",
         "1"
        ]
       ],
       "shape": {
        "columns": 5,
        "rows": 7267
       }
      },
      "text/html": [
       "<div>\n",
       "<style scoped>\n",
       "    .dataframe tbody tr th:only-of-type {\n",
       "        vertical-align: middle;\n",
       "    }\n",
       "\n",
       "    .dataframe tbody tr th {\n",
       "        vertical-align: top;\n",
       "    }\n",
       "\n",
       "    .dataframe thead th {\n",
       "        text-align: right;\n",
       "    }\n",
       "</style>\n",
       "<table border=\"1\" class=\"dataframe\">\n",
       "  <thead>\n",
       "    <tr style=\"text-align: right;\">\n",
       "      <th></th>\n",
       "      <th>gender</th>\n",
       "      <th>SeniorCitizen</th>\n",
       "      <th>Partner</th>\n",
       "      <th>Dependents</th>\n",
       "      <th>tenure</th>\n",
       "    </tr>\n",
       "  </thead>\n",
       "  <tbody>\n",
       "    <tr>\n",
       "      <th>0</th>\n",
       "      <td>Female</td>\n",
       "      <td>0</td>\n",
       "      <td>Yes</td>\n",
       "      <td>Yes</td>\n",
       "      <td>9</td>\n",
       "    </tr>\n",
       "    <tr>\n",
       "      <th>1</th>\n",
       "      <td>Male</td>\n",
       "      <td>0</td>\n",
       "      <td>No</td>\n",
       "      <td>No</td>\n",
       "      <td>9</td>\n",
       "    </tr>\n",
       "    <tr>\n",
       "      <th>2</th>\n",
       "      <td>Male</td>\n",
       "      <td>0</td>\n",
       "      <td>No</td>\n",
       "      <td>No</td>\n",
       "      <td>4</td>\n",
       "    </tr>\n",
       "    <tr>\n",
       "      <th>3</th>\n",
       "      <td>Male</td>\n",
       "      <td>1</td>\n",
       "      <td>Yes</td>\n",
       "      <td>No</td>\n",
       "      <td>13</td>\n",
       "    </tr>\n",
       "    <tr>\n",
       "      <th>4</th>\n",
       "      <td>Female</td>\n",
       "      <td>1</td>\n",
       "      <td>Yes</td>\n",
       "      <td>No</td>\n",
       "      <td>3</td>\n",
       "    </tr>\n",
       "    <tr>\n",
       "      <th>...</th>\n",
       "      <td>...</td>\n",
       "      <td>...</td>\n",
       "      <td>...</td>\n",
       "      <td>...</td>\n",
       "      <td>...</td>\n",
       "    </tr>\n",
       "    <tr>\n",
       "      <th>7262</th>\n",
       "      <td>Female</td>\n",
       "      <td>0</td>\n",
       "      <td>No</td>\n",
       "      <td>No</td>\n",
       "      <td>13</td>\n",
       "    </tr>\n",
       "    <tr>\n",
       "      <th>7263</th>\n",
       "      <td>Male</td>\n",
       "      <td>0</td>\n",
       "      <td>Yes</td>\n",
       "      <td>No</td>\n",
       "      <td>22</td>\n",
       "    </tr>\n",
       "    <tr>\n",
       "      <th>7264</th>\n",
       "      <td>Male</td>\n",
       "      <td>0</td>\n",
       "      <td>No</td>\n",
       "      <td>No</td>\n",
       "      <td>2</td>\n",
       "    </tr>\n",
       "    <tr>\n",
       "      <th>7265</th>\n",
       "      <td>Male</td>\n",
       "      <td>0</td>\n",
       "      <td>Yes</td>\n",
       "      <td>Yes</td>\n",
       "      <td>67</td>\n",
       "    </tr>\n",
       "    <tr>\n",
       "      <th>7266</th>\n",
       "      <td>Male</td>\n",
       "      <td>0</td>\n",
       "      <td>Yes</td>\n",
       "      <td>Yes</td>\n",
       "      <td>63</td>\n",
       "    </tr>\n",
       "  </tbody>\n",
       "</table>\n",
       "<p>7267 rows × 5 columns</p>\n",
       "</div>"
      ],
      "text/plain": [
       "      gender  SeniorCitizen Partner Dependents  tenure\n",
       "0     Female              0     Yes        Yes       9\n",
       "1       Male              0      No         No       9\n",
       "2       Male              0      No         No       4\n",
       "3       Male              1     Yes         No      13\n",
       "4     Female              1     Yes         No       3\n",
       "...      ...            ...     ...        ...     ...\n",
       "7262  Female              0      No         No      13\n",
       "7263    Male              0     Yes         No      22\n",
       "7264    Male              0      No         No       2\n",
       "7265    Male              0     Yes        Yes      67\n",
       "7266    Male              0     Yes        Yes      63\n",
       "\n",
       "[7267 rows x 5 columns]"
      ]
     },
     "execution_count": 13,
     "metadata": {},
     "output_type": "execute_result"
    }
   ],
   "source": [
    "datos_cli = pd.json_normalize(df['customer'])\n",
    "datos_cli"
   ]
  },
  {
   "cell_type": "markdown",
   "id": "7f941743",
   "metadata": {},
   "source": [
    "## Exploración de columnas y tipos de datos\n",
    "A continuación se muestran las columnas del dataset y sus tipos de datos. También se consulta el diccionario de variables para comprender el significado de cada una y se identifican las columnas más relevantes para el análisis de evasión."
   ]
  },
  {
   "cell_type": "code",
   "execution_count": null,
   "id": "c939b67d",
   "metadata": {},
   "outputs": [],
   "source": [
    "# Mostrar las columnas y los tipos de datos del DataFrame de clientes\n",
    "print('Columnas:', datos_cli.columns.tolist())\n",
    "print('\\nTipos de datos:')\n",
    "print(datos_cli.dtypes)"
   ]
  },
  {
   "cell_type": "code",
   "execution_count": null,
   "id": "26501274",
   "metadata": {},
   "outputs": [],
   "source": [
    "# Mostrar las primeras filas para explorar visualmente los datos\n",
    "datos_cli.head()"
   ]
  },
  {
   "cell_type": "markdown",
   "id": "9bed946e",
   "metadata": {},
   "source": [
    "### Consulta del diccionario de variables\n",
    "Para comprender mejor el significado de cada columna, es importante consultar el diccionario de variables proporcionado con el dataset o en la documentación del reto."
   ]
  },
  {
   "cell_type": "markdown",
   "id": "d91e8464",
   "metadata": {},
   "source": [
    "### Verificación de problemas en los datos\n",
    "En este paso se revisan valores ausentes, duplicados, errores de formato e inconsistencias en las categorías para asegurar la calidad de los datos antes del análisis."
   ]
  },
  {
   "cell_type": "code",
   "execution_count": null,
   "id": "c50d0870",
   "metadata": {},
   "outputs": [],
   "source": [
    "# Verificar valores ausentes y duplicados\n",
    "print('Valores ausentes por columna:')\n",
    "print(datos_cli.isnull().sum())\n",
    "\n",
    "print('\\nFilas duplicadas:', datos_cli.duplicated().sum())"
   ]
  },
  {
   "cell_type": "code",
   "execution_count": null,
   "id": "1bd14054",
   "metadata": {},
   "outputs": [],
   "source": [
    "# Buscar errores de formato e inconsistencias en variables categóricas\n",
    "# Seleccionar columnas categóricas automáticamente\n",
    "cat_cols = datos_cli.select_dtypes(include=['object', 'category']).columns\n",
    "for col in cat_cols:\n",
    "    print(f'Valores únicos en {col}:', datos_cli[col].unique())"
   ]
  },
  {
   "cell_type": "code",
   "execution_count": null,
   "id": "ab5b8348",
   "metadata": {},
   "outputs": [],
   "source": [
    "# Si hay columnas de fecha, normalizarlas y revisar formato\n",
    "fecha_cols = datos_cli.select_dtypes(include=['datetime', 'datetime64[ns]']).columns\n",
    "for col in fecha_cols:\n",
    "    datos_cli[col] = pd.to_datetime(datos_cli[col], errors='coerce')\n",
    "    print(f'Fechas normalizadas en {col}:', datos_cli[col].dt.normalize().unique())"
   ]
  },
  {
   "cell_type": "markdown",
   "id": "cbd19ec0",
   "metadata": {},
   "source": [
    "### Manejo de inconsistencias y limpieza de datos\n",
    "En esta sección se corrigen valores ausentes, duplicados y se estandarizan las categorías y formatos para asegurar la coherencia del dataset antes del análisis."
   ]
  },
  {
   "cell_type": "code",
   "execution_count": null,
   "id": "ea14371d",
   "metadata": {},
   "outputs": [],
   "source": [
    "# Eliminar filas duplicadas\n",
    "datos_cli = datos_cli.drop_duplicates()\n",
    "\n",
    "# Rellenar o eliminar valores nulos según el caso\n",
    "# Ejemplo: rellenar nulos en columnas categóricas con 'desconocido' y en numéricas con la mediana\n",
    "for col in datos_cli.columns:\n",
    "    if datos_cli[col].dtype == 'object':\n",
    "        datos_cli[col] = datos_cli[col].fillna('desconocido')\n",
    "    else:\n",
    "        datos_cli[col] = datos_cli[col].fillna(datos_cli[col].median())\n",
    "\n",
    "# Estandarizar strings en columnas categóricas: minúsculas y sin espacios\n",
    "cat_cols = datos_cli.select_dtypes(include=['object', 'category']).columns\n",
    "for col in cat_cols:\n",
    "    datos_cli[col] = datos_cli[col].str.lower().str.strip().str.replace('á','a').str.replace('é','e').str.replace('í','i').str.replace('ó','o').str.replace('ú','u')\n",
    "\n",
    "# Mostrar resumen de limpieza\n",
    "print('Datos limpios. Filas:', len(datos_cli))"
   ]
  },
  {
   "cell_type": "code",
   "execution_count": null,
   "id": "269baf2b",
   "metadata": {},
   "outputs": [],
   "source": [
    "# Crear columna 'Cuentas_Diarias' a partir de la facturación mensual\n",
    "# Suponiendo que la columna de facturación mensual se llama 'monthly_charges' (ajustar si el nombre es diferente)\n",
    "if 'monthly_charges' in datos_cli.columns:\n",
    "    datos_cli['Cuentas_Diarias'] = datos_cli['monthly_charges'] / 30\n",
    "    print('Columna Cuentas_Diarias creada exitosamente.')\n",
    "else:\n",
    "    print('No se encontró la columna monthly_charges. Verifica el nombre de la columna de facturación mensual.')\n",
    "\n",
    "# Mostrar las primeras filas para verificar\n",
    "datos_cli[['monthly_charges','Cuentas_Diarias']].head() if 'Cuentas_Diarias' in datos_cli.columns else None"
   ]
  },
  {
   "cell_type": "markdown",
   "id": "08f77dc4",
   "metadata": {},
   "source": [
    "### Estandarización y transformación de datos (opcional)\n",
    "En esta sección se transforman valores textuales a binarios y se renombran columnas para facilitar el análisis y la interpretación de los resultados."
   ]
  },
  {
   "cell_type": "code",
   "execution_count": null,
   "id": "0daa2582",
   "metadata": {},
   "outputs": [],
   "source": [
    "# Transformar valores textuales a binarios (ejemplo: 'sí'/'no' a 1/0)\n",
    "bin_map = {'sí': 1, 'si': 1, 'no': 0, 'desconocido': np.nan}\n",
    "# Ajusta los nombres de las columnas según corresponda\n",
    "for col in datos_cli.columns:\n",
    "    if datos_cli[col].dtype == 'object' and set(datos_cli[col].unique()).intersection(bin_map.keys()):\n",
    "        datos_cli[col] = datos_cli[col].map(bin_map).fillna(datos_cli[col])\n",
    "\n",
    "# Renombrar columnas para mayor claridad (ejemplo)\n",
    "datos_cli = datos_cli.rename(columns={'monthly_charges': 'Facturacion_Mensual', 'Cuentas_Diarias': 'Cuentas_Diarias'})\n",
    "\n",
    "# Mostrar primeras filas para verificar cambios\n",
    "datos_cli.head()"
   ]
  },
  {
   "cell_type": "markdown",
   "id": "3c8bf3c3",
   "metadata": {},
   "source": [
    "## Análisis Descriptivo\n",
    "En esta sección se calculan métricas como media, mediana, desviación estándar y otras medidas para comprender la distribución y el comportamiento de los clientes."
   ]
  },
  {
   "cell_type": "code",
   "execution_count": null,
   "id": "ee9abdb7",
   "metadata": {},
   "outputs": [],
   "source": [
    "# Estadísticas descriptivas generales\n",
    "datos_cli.describe(include='all').T"
   ]
  },
  {
   "cell_type": "markdown",
   "id": "b083d0e1",
   "metadata": {},
   "source": [
    "## Distribución de evasión (churn)\n",
    "A continuación se analiza y visualiza la proporción de clientes que permanecieron y los que se dieron de baja."
   ]
  },
  {
   "cell_type": "code",
   "execution_count": null,
   "id": "777f1b9b",
   "metadata": {},
   "outputs": [],
   "source": [
    "import matplotlib.pyplot as plt\n",
    "import seaborn as sns\n",
    "\n",
    "# Conteo de valores de churn\n",
    "distribucion_churn = datos_cli['churn'].value_counts(dropna=False)\n",
    "print('Distribución de churn:')\n",
    "print(distribucion_churn)\n",
    "\n",
    "# Gráfico de pastel\n",
    "distribucion_churn.plot.pie(autopct='%1.1f%%', labels=['No Evasión', 'Evasión'] if len(distribucion_churn)==2 else distribucion_churn.index, colors=sns.color_palette('pastel'), figsize=(6,6))\n",
    "plt.title('Distribución de Evasión (Churn)')\n",
    "plt.ylabel('')\n",
    "plt.show()"
   ]
  },
  {
   "cell_type": "markdown",
   "id": "982dd793",
   "metadata": {},
   "source": [
    "## Recuento de evasión por variables categóricas\n",
    "A continuación se analiza la distribución de la evasión (churn) según variables categóricas como género, tipo de contrato y método de pago."
   ]
  },
  {
   "cell_type": "code",
   "execution_count": null,
   "id": "4d70590a",
   "metadata": {},
   "outputs": [],
   "source": [
    "# Variables categóricas de interés (ajusta según tu dataset)\n",
    "cat_vars = ['gender', 'contract_type', 'payment_method']\n",
    "for var in cat_vars:\n",
    "    if var in datos_cli.columns:\n",
    "        print(f'\\nEvasión por {var}:')\n",
    "        display(pd.crosstab(datos_cli[var], datos_cli['churn'], margins=True))\n",
    "        # Gráfico de barras\n",
    "        ax = pd.crosstab(datos_cli[var], datos_cli['churn'], normalize='index').plot(kind='bar', stacked=True, color=['#8ecae6','#ffb703'])\n",
    "        plt.title(f'Evasión por {var}')\n",
    "        plt.xlabel(var)\n",
    "        plt.ylabel('Proporción')\n",
    "        plt.legend(['No Evasión', 'Evasión'])\n",
    "        plt.show()"
   ]
  },
  {
   "cell_type": "markdown",
   "id": "d7345362",
   "metadata": {},
   "source": [
    "## Evasión por variables numéricas\n",
    "A continuación se analiza cómo se distribuyen variables numéricas como 'total gastado' o 'tiempo de contrato' entre clientes que cancelaron y los que no."
   ]
  },
  {
   "cell_type": "code",
   "execution_count": null,
   "id": "fe6c8af6",
   "metadata": {},
   "outputs": [],
   "source": [
    "# Variables numéricas de interés (ajusta según tu dataset)\n",
    "num_vars = ['total_charges', 'tenure', 'Facturacion_Mensual', 'Cuentas_Diarias']\n",
    "for var in num_vars:\n",
    "    if var in datos_cli.columns:\n",
    "        print(f'\\nDistribución de {var} por churn:')\n",
    "        sns.boxplot(x='churn', y=var, data=datos_cli, palette=['#8ecae6','#ffb703'])\n",
    "        plt.title(f'{var} por churn')\n",
    "        plt.xlabel('Churn (0=No, 1=Sí)')\n",
    "        plt.ylabel(var)\n",
    "        plt.show()"
   ]
  },
  {
   "cell_type": "markdown",
   "id": "e2b3c802",
   "metadata": {},
   "source": [
    "# Informe Final: Análisis de Evasión de Clientes (Churn) en TelecomX\n",
    "\n",
    "## Introducción\n",
    "El objetivo de este análisis es comprender los factores que influyen en la evasión de clientes (churn) en TelecomX. La evasión de clientes representa un desafío importante para las empresas de telecomunicaciones, ya que impacta directamente en los ingresos y la sostenibilidad del negocio. Identificar patrones y variables asociadas a la cancelación del servicio permite diseñar estrategias para retener clientes y mejorar la experiencia.\n",
    "\n",
    "## Limpieza y Tratamiento de Datos\n",
    "- Se importaron los datos desde una fuente externa y se normalizó la estructura para facilitar el análisis.\n",
    "- Se eliminaron duplicados y se trataron valores ausentes, rellenando con \"desconocido\" en variables categóricas y la mediana en variables numéricas.\n",
    "- Se estandarizaron los textos (minúsculas, sin tildes ni espacios extra) y se transformaron variables textuales como \"sí\"/\"no\" a valores binarios (1/0).\n",
    "- Se crearon nuevas variables como \"Cuentas_Diarias\" para obtener una visión más granular del comportamiento de facturación.\n",
    "\n",
    "## Análisis Exploratorio de Datos\n",
    "- Se realizó un análisis descriptivo general para conocer la distribución de las variables principales.\n",
    "- Se visualizó la proporción de clientes que permanecen y los que se dieron de baja (churn), identificando el porcentaje de evasión.\n",
    "- Se analizaron los patrones de evasión según variables categóricas (género, tipo de contrato, método de pago) y numéricas (total gastado, tiempo de contrato, facturación mensual, cuentas diarias), utilizando gráficos de barras y cajas para detectar tendencias y diferencias entre grupos.\n",
    "\n",
    "## Conclusiones e Insights\n",
    "- Se identificaron variables y segmentos con mayor propensión a la evasión, como ciertos tipos de contrato o métodos de pago.\n",
    "- Los clientes con menor tiempo de contrato y menor gasto total tienden a presentar mayor tasa de churn.\n",
    "- Existen diferencias notables en la evasión según el perfil del cliente, lo que sugiere la necesidad de estrategias personalizadas.\n",
    "\n",
    "## Recomendaciones\n",
    "- Implementar campañas de retención dirigidas a segmentos con mayor riesgo de evasión, especialmente aquellos con contratos de corto plazo o bajo gasto.\n",
    "- Mejorar la experiencia del cliente y ofrecer incentivos para aumentar la permanencia y el valor del ciclo de vida.\n",
    "- Monitorear continuamente las variables identificadas como críticas y ajustar las estrategias según los cambios en el comportamiento de los clientes.\n",
    "\n",
    "---\n",
    "\n",
    "Este informe proporciona una base sólida para la toma de decisiones orientadas a reducir la evasión y fortalecer la relación con los clientes de TelecomX."
   ]
  },
  {
   "cell_type": "markdown",
   "id": "700af2a2",
   "metadata": {},
   "source": [
    "## Extra: Análisis de correlación entre variables\n",
    "Como paso adicional, se explora la correlación entre variables numéricas y la evasión de clientes (churn), así como la relación entre la cantidad de servicios contratados y la probabilidad de churn."
   ]
  },
  {
   "cell_type": "code",
   "execution_count": null,
   "id": "d8cf8623",
   "metadata": {},
   "outputs": [],
   "source": [
    "# Matriz de correlación entre variables numéricas y churn\n",
    "corr = datos_cli.corr(numeric_only=True)\n",
    "print('Matriz de correlación:')\n",
    "display(corr)\n",
    "\n",
    "# Visualizar la matriz de correlación\n",
    "plt.figure(figsize=(8,6))\n",
    "sns.heatmap(corr, annot=True, cmap='coolwarm', fmt='.2f')\n",
    "plt.title('Matriz de correlación entre variables numéricas')\n",
    "plt.show()\n",
    "\n",
    "# Gráfico de dispersión: Cuentas Diarias vs Churn\n",
    "if 'Cuentas_Diarias' in datos_cli.columns and 'churn' in datos_cli.columns:\n",
    "    sns.boxplot(x='churn', y='Cuentas_Diarias', data=datos_cli, palette=['#8ecae6','#ffb703'])\n",
    "    plt.title('Cuentas Diarias vs Churn')\n",
    "    plt.xlabel('Churn (0=No, 1=Sí)')\n",
    "    plt.ylabel('Cuentas Diarias')\n",
    "    plt.show()\n",
    "\n",
    "# Gráfico de dispersión: Cantidad de servicios contratados vs Churn\n",
    "# Suponiendo que hay una columna 'num_services' o similar, si no, ajusta el nombre\n",
    "if 'num_services' in datos_cli.columns and 'churn' in datos_cli.columns:\n",
    "    sns.boxplot(x='churn', y='num_services', data=datos_cli, palette=['#8ecae6','#ffb703'])\n",
    "    plt.title('Cantidad de servicios contratados vs Churn')\n",
    "    plt.xlabel('Churn (0=No, 1=Sí)')\n",
    "    plt.ylabel('Cantidad de servicios contratados')\n",
    "    plt.show()"
   ]
  }
 ],
 "metadata": {
  "kernelspec": {
   "display_name": "Python 3",
   "language": "python",
   "name": "python3"
  },
  "language_info": {
   "codemirror_mode": {
    "name": "ipython",
    "version": 3
   },
   "file_extension": ".py",
   "mimetype": "text/x-python",
   "name": "python",
   "nbconvert_exporter": "python",
   "pygments_lexer": "ipython3",
   "version": "3.12.10"
  }
 },
 "nbformat": 4,
 "nbformat_minor": 5
}
