{
 "cells": [
  {
   "cell_type": "code",
   "execution_count": 203,
   "id": "547cf967",
   "metadata": {},
   "outputs": [],
   "source": [
    "import pandas as pd\n",
    "import numpy as np\n",
    "import requests\n",
    "\n",
    "# Leer los datos y normalizar el JSON\n",
    "df = pd.read_json('https://github.com/ingridcristh/challenge2-data-science-LATAM/blob/main/TelecomX_Data.json?raw=true')\n",
    "datos_cli = pd.json_normalize(df['customer'])\n",
    "\n",
    "# Añadir la columna de churn\n",
    "datos_cli['Churn'] = df['Churn'].map({'Yes': 1, 'No': 0}).fillna(-1)\n",
    "\n",
    "# Definir la variable churn_col\n",
    "churn_col = 'Churn'"
   ]
  },
  {
   "cell_type": "markdown",
   "id": "4d542d1e",
   "metadata": {},
   "source": [
    "# Análisis de Evasión de Clientes (Churn) en TelecomX\n",
    "\n",
    "## Objetivo del Análisis\n",
    "Este notebook presenta un análisis exhaustivo de la evasión de clientes (churn) en TelecomX. El objetivo principal es identificar los factores que influyen en la decisión de los clientes de abandonar los servicios, permitiendo desarrollar estrategias efectivas de retención.\n",
    "\n",
    "## Estructura del Análisis\n",
    "1. **Preparación de Datos**\n",
    "   - Carga y limpieza de datos\n",
    "   - Tratamiento de valores ausentes y outliers\n",
    "   - Transformaciones y codificación de variables\n",
    "\n",
    "2. **Análisis Exploratorio**\n",
    "   - Distribución de variables\n",
    "   - Análisis de la variable objetivo (churn)\n",
    "   - Relaciones entre variables\n",
    "\n",
    "3. **Modelado Predictivo**\n",
    "   - Preparación para modelado\n",
    "   - Entrenamiento de modelos\n",
    "   - Evaluación de resultados\n",
    "\n",
    "4. **Conclusiones y Recomendaciones**\n",
    "   - Insights principales\n",
    "   - Estrategias propuestas\n",
    "   - Próximos pasos"
   ]
  },
  {
   "cell_type": "code",
   "execution_count": 204,
   "id": "67819169",
   "metadata": {},
   "outputs": [
    {
     "name": "stdout",
     "output_type": "stream",
     "text": [
      "Shape antes de filtrar valores indefinidos: (7267, 6)\n",
      "Shape después de filtrar valores indefinidos: (7043, 6)\n",
      "\n",
      "Valores únicos en la columna Churn:\n",
      "Churn\n",
      "0.0    5174\n",
      "1.0    1869\n",
      "Name: count, dtype: int64\n"
     ]
    }
   ],
   "source": [
    "# Filtrar registros con valores indefinidos de churn (-1)\n",
    "print('Shape antes de filtrar valores indefinidos:', datos_cli.shape)\n",
    "datos_cli = datos_cli[datos_cli['Churn'] != -1]\n",
    "print('Shape después de filtrar valores indefinidos:', datos_cli.shape)\n",
    "\n",
    "# Verificar los valores únicos en la columna Churn\n",
    "print('\\nValores únicos en la columna Churn:')\n",
    "print(datos_cli['Churn'].value_counts())"
   ]
  },
  {
   "cell_type": "code",
   "execution_count": 205,
   "id": "729db7d7",
   "metadata": {},
   "outputs": [
    {
     "data": {
      "application/vnd.microsoft.datawrangler.viewer.v0+json": {
       "columns": [
        {
         "name": "index",
         "rawType": "int64",
         "type": "integer"
        },
        {
         "name": "customerID",
         "rawType": "object",
         "type": "string"
        },
        {
         "name": "Churn",
         "rawType": "object",
         "type": "string"
        },
        {
         "name": "customer",
         "rawType": "object",
         "type": "unknown"
        },
        {
         "name": "phone",
         "rawType": "object",
         "type": "unknown"
        },
        {
         "name": "internet",
         "rawType": "object",
         "type": "unknown"
        },
        {
         "name": "account",
         "rawType": "object",
         "type": "unknown"
        }
       ],
       "ref": "809df68f-09c2-4e39-800a-cd8b01de5018",
       "rows": [
        [
         "0",
         "0002-ORFBO",
         "No",
         "{'gender': 'Female', 'SeniorCitizen': 0, 'Partner': 'Yes', 'Dependents': 'Yes', 'tenure': 9}",
         "{'PhoneService': 'Yes', 'MultipleLines': 'No'}",
         "{'InternetService': 'DSL', 'OnlineSecurity': 'No', 'OnlineBackup': 'Yes', 'DeviceProtection': 'No', 'TechSupport': 'Yes', 'StreamingTV': 'Yes', 'StreamingMovies': 'No'}",
         "{'Contract': 'One year', 'PaperlessBilling': 'Yes', 'PaymentMethod': 'Mailed check', 'Charges': {'Monthly': 65.6, 'Total': '593.3'}}"
        ],
        [
         "1",
         "0003-MKNFE",
         "No",
         "{'gender': 'Male', 'SeniorCitizen': 0, 'Partner': 'No', 'Dependents': 'No', 'tenure': 9}",
         "{'PhoneService': 'Yes', 'MultipleLines': 'Yes'}",
         "{'InternetService': 'DSL', 'OnlineSecurity': 'No', 'OnlineBackup': 'No', 'DeviceProtection': 'No', 'TechSupport': 'No', 'StreamingTV': 'No', 'StreamingMovies': 'Yes'}",
         "{'Contract': 'Month-to-month', 'PaperlessBilling': 'No', 'PaymentMethod': 'Mailed check', 'Charges': {'Monthly': 59.9, 'Total': '542.4'}}"
        ],
        [
         "2",
         "0004-TLHLJ",
         "Yes",
         "{'gender': 'Male', 'SeniorCitizen': 0, 'Partner': 'No', 'Dependents': 'No', 'tenure': 4}",
         "{'PhoneService': 'Yes', 'MultipleLines': 'No'}",
         "{'InternetService': 'Fiber optic', 'OnlineSecurity': 'No', 'OnlineBackup': 'No', 'DeviceProtection': 'Yes', 'TechSupport': 'No', 'StreamingTV': 'No', 'StreamingMovies': 'No'}",
         "{'Contract': 'Month-to-month', 'PaperlessBilling': 'Yes', 'PaymentMethod': 'Electronic check', 'Charges': {'Monthly': 73.9, 'Total': '280.85'}}"
        ],
        [
         "3",
         "0011-IGKFF",
         "Yes",
         "{'gender': 'Male', 'SeniorCitizen': 1, 'Partner': 'Yes', 'Dependents': 'No', 'tenure': 13}",
         "{'PhoneService': 'Yes', 'MultipleLines': 'No'}",
         "{'InternetService': 'Fiber optic', 'OnlineSecurity': 'No', 'OnlineBackup': 'Yes', 'DeviceProtection': 'Yes', 'TechSupport': 'No', 'StreamingTV': 'Yes', 'StreamingMovies': 'Yes'}",
         "{'Contract': 'Month-to-month', 'PaperlessBilling': 'Yes', 'PaymentMethod': 'Electronic check', 'Charges': {'Monthly': 98.0, 'Total': '1237.85'}}"
        ],
        [
         "4",
         "0013-EXCHZ",
         "Yes",
         "{'gender': 'Female', 'SeniorCitizen': 1, 'Partner': 'Yes', 'Dependents': 'No', 'tenure': 3}",
         "{'PhoneService': 'Yes', 'MultipleLines': 'No'}",
         "{'InternetService': 'Fiber optic', 'OnlineSecurity': 'No', 'OnlineBackup': 'No', 'DeviceProtection': 'No', 'TechSupport': 'Yes', 'StreamingTV': 'Yes', 'StreamingMovies': 'No'}",
         "{'Contract': 'Month-to-month', 'PaperlessBilling': 'Yes', 'PaymentMethod': 'Mailed check', 'Charges': {'Monthly': 83.9, 'Total': '267.4'}}"
        ],
        [
         "5",
         "0013-MHZWF",
         "No",
         "{'gender': 'Female', 'SeniorCitizen': 0, 'Partner': 'No', 'Dependents': 'Yes', 'tenure': 9}",
         "{'PhoneService': 'Yes', 'MultipleLines': 'No'}",
         "{'InternetService': 'DSL', 'OnlineSecurity': 'No', 'OnlineBackup': 'No', 'DeviceProtection': 'No', 'TechSupport': 'Yes', 'StreamingTV': 'Yes', 'StreamingMovies': 'Yes'}",
         "{'Contract': 'Month-to-month', 'PaperlessBilling': 'Yes', 'PaymentMethod': 'Credit card (automatic)', 'Charges': {'Monthly': 69.4, 'Total': '571.45'}}"
        ],
        [
         "6",
         "0013-SMEOE",
         "No",
         "{'gender': 'Female', 'SeniorCitizen': 1, 'Partner': 'Yes', 'Dependents': 'No', 'tenure': 71}",
         "{'PhoneService': 'Yes', 'MultipleLines': 'No'}",
         "{'InternetService': 'Fiber optic', 'OnlineSecurity': 'Yes', 'OnlineBackup': 'Yes', 'DeviceProtection': 'Yes', 'TechSupport': 'Yes', 'StreamingTV': 'Yes', 'StreamingMovies': 'Yes'}",
         "{'Contract': 'Two year', 'PaperlessBilling': 'Yes', 'PaymentMethod': 'Bank transfer (automatic)', 'Charges': {'Monthly': 109.7, 'Total': '7904.25'}}"
        ],
        [
         "7",
         "0014-BMAQU",
         "No",
         "{'gender': 'Male', 'SeniorCitizen': 0, 'Partner': 'Yes', 'Dependents': 'No', 'tenure': 63}",
         "{'PhoneService': 'Yes', 'MultipleLines': 'Yes'}",
         "{'InternetService': 'Fiber optic', 'OnlineSecurity': 'Yes', 'OnlineBackup': 'No', 'DeviceProtection': 'No', 'TechSupport': 'Yes', 'StreamingTV': 'No', 'StreamingMovies': 'No'}",
         "{'Contract': 'Two year', 'PaperlessBilling': 'Yes', 'PaymentMethod': 'Credit card (automatic)', 'Charges': {'Monthly': 84.65, 'Total': '5377.8'}}"
        ],
        [
         "8",
         "0015-UOCOJ",
         "No",
         "{'gender': 'Female', 'SeniorCitizen': 1, 'Partner': 'No', 'Dependents': 'No', 'tenure': 7}",
         "{'PhoneService': 'Yes', 'MultipleLines': 'No'}",
         "{'InternetService': 'DSL', 'OnlineSecurity': 'Yes', 'OnlineBackup': 'No', 'DeviceProtection': 'No', 'TechSupport': 'No', 'StreamingTV': 'No', 'StreamingMovies': 'No'}",
         "{'Contract': 'Month-to-month', 'PaperlessBilling': 'Yes', 'PaymentMethod': 'Electronic check', 'Charges': {'Monthly': 48.2, 'Total': '340.35'}}"
        ],
        [
         "9",
         "0016-QLJIS",
         "No",
         "{'gender': 'Female', 'SeniorCitizen': 0, 'Partner': 'Yes', 'Dependents': 'Yes', 'tenure': 65}",
         "{'PhoneService': 'Yes', 'MultipleLines': 'Yes'}",
         "{'InternetService': 'DSL', 'OnlineSecurity': 'Yes', 'OnlineBackup': 'Yes', 'DeviceProtection': 'Yes', 'TechSupport': 'Yes', 'StreamingTV': 'Yes', 'StreamingMovies': 'Yes'}",
         "{'Contract': 'Two year', 'PaperlessBilling': 'Yes', 'PaymentMethod': 'Mailed check', 'Charges': {'Monthly': 90.45, 'Total': '5957.9'}}"
        ],
        [
         "10",
         "0017-DINOC",
         "No",
         "{'gender': 'Male', 'SeniorCitizen': 0, 'Partner': 'No', 'Dependents': 'No', 'tenure': 54}",
         "{'PhoneService': 'No', 'MultipleLines': 'No phone service'}",
         "{'InternetService': 'DSL', 'OnlineSecurity': 'Yes', 'OnlineBackup': 'No', 'DeviceProtection': 'No', 'TechSupport': 'Yes', 'StreamingTV': 'Yes', 'StreamingMovies': 'No'}",
         "{'Contract': 'Two year', 'PaperlessBilling': 'No', 'PaymentMethod': 'Credit card (automatic)', 'Charges': {'Monthly': 45.2, 'Total': '2460.55'}}"
        ],
        [
         "11",
         "0017-IUDMW",
         "No",
         "{'gender': 'Female', 'SeniorCitizen': 0, 'Partner': 'Yes', 'Dependents': 'Yes', 'tenure': 72}",
         "{'PhoneService': 'Yes', 'MultipleLines': 'Yes'}",
         "{'InternetService': 'Fiber optic', 'OnlineSecurity': 'Yes', 'OnlineBackup': 'Yes', 'DeviceProtection': 'Yes', 'TechSupport': 'Yes', 'StreamingTV': 'Yes', 'StreamingMovies': 'Yes'}",
         "{'Contract': 'Two year', 'PaperlessBilling': 'Yes', 'PaymentMethod': 'Credit card (automatic)', 'Charges': {'Monthly': 116.8, 'Total': '8456.75'}}"
        ],
        [
         "12",
         "0018-NYROU",
         "No",
         "{'gender': 'Female', 'SeniorCitizen': 0, 'Partner': 'Yes', 'Dependents': 'No', 'tenure': 5}",
         "{'PhoneService': 'Yes', 'MultipleLines': 'No'}",
         "{'InternetService': 'Fiber optic', 'OnlineSecurity': 'No', 'OnlineBackup': 'No', 'DeviceProtection': 'No', 'TechSupport': 'No', 'StreamingTV': 'No', 'StreamingMovies': 'No'}",
         "{'Contract': 'Month-to-month', 'PaperlessBilling': 'Yes', 'PaymentMethod': 'Electronic check', 'Charges': {'Monthly': 68.95, 'Total': '351.5'}}"
        ],
        [
         "13",
         "0019-EFAEP",
         "No",
         "{'gender': 'Female', 'SeniorCitizen': 0, 'Partner': 'No', 'Dependents': 'No', 'tenure': 72}",
         "{'PhoneService': 'Yes', 'MultipleLines': 'Yes'}",
         "{'InternetService': 'Fiber optic', 'OnlineSecurity': 'Yes', 'OnlineBackup': 'Yes', 'DeviceProtection': 'Yes', 'TechSupport': 'No', 'StreamingTV': 'Yes', 'StreamingMovies': 'No'}",
         "{'Contract': 'Two year', 'PaperlessBilling': 'Yes', 'PaymentMethod': 'Bank transfer (automatic)', 'Charges': {'Monthly': 101.3, 'Total': '7261.25'}}"
        ],
        [
         "14",
         "0019-GFNTW",
         "No",
         "{'gender': 'Female', 'SeniorCitizen': 0, 'Partner': 'No', 'Dependents': 'No', 'tenure': 56}",
         "{'PhoneService': 'No', 'MultipleLines': 'No phone service'}",
         "{'InternetService': 'DSL', 'OnlineSecurity': 'Yes', 'OnlineBackup': 'Yes', 'DeviceProtection': 'Yes', 'TechSupport': 'Yes', 'StreamingTV': 'No', 'StreamingMovies': 'No'}",
         "{'Contract': 'Two year', 'PaperlessBilling': 'No', 'PaymentMethod': 'Bank transfer (automatic)', 'Charges': {'Monthly': 45.05, 'Total': '2560.1'}}"
        ],
        [
         "15",
         "0020-INWCK",
         "No",
         "{'gender': 'Female', 'SeniorCitizen': 0, 'Partner': 'Yes', 'Dependents': 'Yes', 'tenure': 71}",
         "{'PhoneService': 'Yes', 'MultipleLines': 'Yes'}",
         "{'InternetService': 'Fiber optic', 'OnlineSecurity': 'No', 'OnlineBackup': 'Yes', 'DeviceProtection': 'Yes', 'TechSupport': 'No', 'StreamingTV': 'No', 'StreamingMovies': 'Yes'}",
         "{'Contract': 'Two year', 'PaperlessBilling': 'Yes', 'PaymentMethod': 'Credit card (automatic)', 'Charges': {'Monthly': 95.75, 'Total': '6849.4'}}"
        ],
        [
         "16",
         "0020-JDNXP",
         "No",
         "{'gender': 'Female', 'SeniorCitizen': 0, 'Partner': 'Yes', 'Dependents': 'Yes', 'tenure': 34}",
         "{'PhoneService': 'No', 'MultipleLines': 'No phone service'}",
         "{'InternetService': 'DSL', 'OnlineSecurity': 'Yes', 'OnlineBackup': 'No', 'DeviceProtection': 'Yes', 'TechSupport': 'Yes', 'StreamingTV': 'Yes', 'StreamingMovies': 'Yes'}",
         "{'Contract': 'One year', 'PaperlessBilling': 'No', 'PaymentMethod': 'Mailed check', 'Charges': {'Monthly': 61.25, 'Total': '1993.2'}}"
        ],
        [
         "17",
         "0021-IKXGC",
         "No",
         "{'gender': 'Female', 'SeniorCitizen': 1, 'Partner': 'No', 'Dependents': 'No', 'tenure': 1}",
         "{'PhoneService': 'Yes', 'MultipleLines': 'Yes'}",
         "{'InternetService': 'Fiber optic', 'OnlineSecurity': 'No', 'OnlineBackup': 'No', 'DeviceProtection': 'No', 'TechSupport': 'No', 'StreamingTV': 'No', 'StreamingMovies': 'No'}",
         "{'Contract': 'Month-to-month', 'PaperlessBilling': 'Yes', 'PaymentMethod': 'Electronic check', 'Charges': {'Monthly': 72.1, 'Total': '72.1'}}"
        ],
        [
         "18",
         "0022-TCJCI",
         "Yes",
         "{'gender': 'Male', 'SeniorCitizen': 1, 'Partner': 'No', 'Dependents': 'No', 'tenure': 45}",
         "{'PhoneService': 'Yes', 'MultipleLines': 'No'}",
         "{'InternetService': 'DSL', 'OnlineSecurity': 'Yes', 'OnlineBackup': 'No', 'DeviceProtection': 'Yes', 'TechSupport': 'No', 'StreamingTV': 'No', 'StreamingMovies': 'Yes'}",
         "{'Contract': 'One year', 'PaperlessBilling': 'No', 'PaymentMethod': 'Credit card (automatic)', 'Charges': {'Monthly': 62.7, 'Total': '2791.5'}}"
        ],
        [
         "19",
         "0023-HGHWL",
         "Yes",
         "{'gender': 'Male', 'SeniorCitizen': 1, 'Partner': 'No', 'Dependents': 'No', 'tenure': 1}",
         "{'PhoneService': 'No', 'MultipleLines': 'No phone service'}",
         "{'InternetService': 'DSL', 'OnlineSecurity': 'No', 'OnlineBackup': 'No', 'DeviceProtection': 'No', 'TechSupport': 'No', 'StreamingTV': 'No', 'StreamingMovies': 'No'}",
         "{'Contract': 'Month-to-month', 'PaperlessBilling': 'Yes', 'PaymentMethod': 'Electronic check', 'Charges': {'Monthly': 25.1, 'Total': '25.1'}}"
        ],
        [
         "20",
         "0023-UYUPN",
         "No",
         "{'gender': 'Female', 'SeniorCitizen': 1, 'Partner': 'Yes', 'Dependents': 'No', 'tenure': 50}",
         "{'PhoneService': 'Yes', 'MultipleLines': 'Yes'}",
         "{'InternetService': 'No', 'OnlineSecurity': 'No internet service', 'OnlineBackup': 'No internet service', 'DeviceProtection': 'No internet service', 'TechSupport': 'No internet service', 'StreamingTV': 'No internet service', 'StreamingMovies': 'No internet service'}",
         "{'Contract': 'One year', 'PaperlessBilling': 'No', 'PaymentMethod': 'Electronic check', 'Charges': {'Monthly': 25.2, 'Total': '1306.3'}}"
        ],
        [
         "21",
         "0023-XUOPT",
         "Yes",
         "{'gender': 'Female', 'SeniorCitizen': 0, 'Partner': 'Yes', 'Dependents': 'No', 'tenure': 13}",
         "{'PhoneService': 'Yes', 'MultipleLines': 'Yes'}",
         "{'InternetService': 'Fiber optic', 'OnlineSecurity': 'No', 'OnlineBackup': 'Yes', 'DeviceProtection': 'Yes', 'TechSupport': 'No', 'StreamingTV': 'Yes', 'StreamingMovies': 'No'}",
         "{'Contract': 'Month-to-month', 'PaperlessBilling': 'No', 'PaymentMethod': 'Electronic check', 'Charges': {'Monthly': 94.1, 'Total': '1215.6'}}"
        ],
        [
         "22",
         "0027-KWYKW",
         "No",
         "{'gender': 'Female', 'SeniorCitizen': 0, 'Partner': 'Yes', 'Dependents': 'Yes', 'tenure': 23}",
         "{'PhoneService': 'Yes', 'MultipleLines': 'Yes'}",
         "{'InternetService': 'Fiber optic', 'OnlineSecurity': 'No', 'OnlineBackup': 'No', 'DeviceProtection': 'No', 'TechSupport': 'No', 'StreamingTV': 'Yes', 'StreamingMovies': 'No'}",
         "{'Contract': 'Month-to-month', 'PaperlessBilling': 'Yes', 'PaymentMethod': 'Electronic check', 'Charges': {'Monthly': 83.75, 'Total': '1849.95'}}"
        ],
        [
         "23",
         "0030-FNXPP",
         "No",
         "{'gender': 'Female', 'SeniorCitizen': 0, 'Partner': 'No', 'Dependents': 'No', 'tenure': 3}",
         "{'PhoneService': 'Yes', 'MultipleLines': 'No'}",
         "{'InternetService': 'No', 'OnlineSecurity': 'No internet service', 'OnlineBackup': 'No internet service', 'DeviceProtection': 'No internet service', 'TechSupport': 'No internet service', 'StreamingTV': 'No internet service', 'StreamingMovies': 'No internet service'}",
         "{'Contract': 'Month-to-month', 'PaperlessBilling': 'No', 'PaymentMethod': 'Mailed check', 'Charges': {'Monthly': 19.85, 'Total': '57.2'}}"
        ],
        [
         "24",
         "0031-PVLZI",
         "Yes",
         "{'gender': 'Female', 'SeniorCitizen': 0, 'Partner': 'Yes', 'Dependents': 'Yes', 'tenure': 4}",
         "{'PhoneService': 'Yes', 'MultipleLines': 'No'}",
         "{'InternetService': 'No', 'OnlineSecurity': 'No internet service', 'OnlineBackup': 'No internet service', 'DeviceProtection': 'No internet service', 'TechSupport': 'No internet service', 'StreamingTV': 'No internet service', 'StreamingMovies': 'No internet service'}",
         "{'Contract': 'Month-to-month', 'PaperlessBilling': 'No', 'PaymentMethod': 'Mailed check', 'Charges': {'Monthly': 20.35, 'Total': '76.35'}}"
        ],
        [
         "25",
         "0032-PGELS",
         "Yes",
         "{'gender': 'Female', 'SeniorCitizen': 0, 'Partner': 'Yes', 'Dependents': 'Yes', 'tenure': 1}",
         "{'PhoneService': 'No', 'MultipleLines': 'No phone service'}",
         "{'InternetService': 'DSL', 'OnlineSecurity': 'Yes', 'OnlineBackup': 'No', 'DeviceProtection': 'No', 'TechSupport': 'No', 'StreamingTV': 'No', 'StreamingMovies': 'No'}",
         "{'Contract': 'Month-to-month', 'PaperlessBilling': 'No', 'PaymentMethod': 'Bank transfer (automatic)', 'Charges': {'Monthly': 30.5, 'Total': '30.5'}}"
        ],
        [
         "26",
         "0036-IHMOT",
         "No",
         "{'gender': 'Female', 'SeniorCitizen': 0, 'Partner': 'Yes', 'Dependents': 'Yes', 'tenure': 55}",
         "{'PhoneService': 'Yes', 'MultipleLines': 'No'}",
         "{'InternetService': 'Fiber optic', 'OnlineSecurity': 'No', 'OnlineBackup': 'Yes', 'DeviceProtection': 'Yes', 'TechSupport': 'Yes', 'StreamingTV': 'Yes', 'StreamingMovies': 'Yes'}",
         "{'Contract': 'One year', 'PaperlessBilling': 'Yes', 'PaymentMethod': 'Bank transfer (automatic)', 'Charges': {'Monthly': 103.7, 'Total': '5656.75'}}"
        ],
        [
         "27",
         "0040-HALCW",
         "No",
         "{'gender': 'Male', 'SeniorCitizen': 0, 'Partner': 'Yes', 'Dependents': 'Yes', 'tenure': 54}",
         "{'PhoneService': 'Yes', 'MultipleLines': 'No'}",
         "{'InternetService': 'No', 'OnlineSecurity': 'No internet service', 'OnlineBackup': 'No internet service', 'DeviceProtection': 'No internet service', 'TechSupport': 'No internet service', 'StreamingTV': 'No internet service', 'StreamingMovies': 'No internet service'}",
         "{'Contract': 'Two year', 'PaperlessBilling': 'No', 'PaymentMethod': 'Credit card (automatic)', 'Charges': {'Monthly': 20.4, 'Total': '1090.6'}}"
        ],
        [
         "28",
         "0042-JVWOJ",
         "No",
         "{'gender': 'Male', 'SeniorCitizen': 0, 'Partner': 'No', 'Dependents': 'No', 'tenure': 26}",
         "{'PhoneService': 'Yes', 'MultipleLines': 'No'}",
         "{'InternetService': 'No', 'OnlineSecurity': 'No internet service', 'OnlineBackup': 'No internet service', 'DeviceProtection': 'No internet service', 'TechSupport': 'No internet service', 'StreamingTV': 'No internet service', 'StreamingMovies': 'No internet service'}",
         "{'Contract': 'One year', 'PaperlessBilling': 'Yes', 'PaymentMethod': 'Bank transfer (automatic)', 'Charges': {'Monthly': 19.6, 'Total': '471.85'}}"
        ],
        [
         "29",
         "0042-RLHYP",
         "No",
         "{'gender': 'Female', 'SeniorCitizen': 0, 'Partner': 'Yes', 'Dependents': 'Yes', 'tenure': 69}",
         "{'PhoneService': 'Yes', 'MultipleLines': 'No'}",
         "{'InternetService': 'No', 'OnlineSecurity': 'No internet service', 'OnlineBackup': 'No internet service', 'DeviceProtection': 'No internet service', 'TechSupport': 'No internet service', 'StreamingTV': 'No internet service', 'StreamingMovies': 'No internet service'}",
         "{'Contract': 'Two year', 'PaperlessBilling': 'No', 'PaymentMethod': 'Bank transfer (automatic)', 'Charges': {'Monthly': 19.7, 'Total': '1396.9'}}"
        ],
        [
         "30",
         "0047-ZHDTW",
         "",
         "{'gender': 'Female', 'SeniorCitizen': 0, 'Partner': 'No', 'Dependents': 'No', 'tenure': 11}",
         "{'PhoneService': 'Yes', 'MultipleLines': 'Yes'}",
         "{'InternetService': 'Fiber optic', 'OnlineSecurity': 'Yes', 'OnlineBackup': 'No', 'DeviceProtection': 'No', 'TechSupport': 'No', 'StreamingTV': 'No', 'StreamingMovies': 'No'}",
         "{'Contract': 'Month-to-month', 'PaperlessBilling': 'Yes', 'PaymentMethod': 'Bank transfer (automatic)', 'Charges': {'Monthly': 79.0, 'Total': '929.3'}}"
        ],
        [
         "31",
         "0048-LUMLS",
         "No",
         "{'gender': 'Male', 'SeniorCitizen': 0, 'Partner': 'Yes', 'Dependents': 'Yes', 'tenure': 37}",
         "{'PhoneService': 'Yes', 'MultipleLines': 'No'}",
         "{'InternetService': 'Fiber optic', 'OnlineSecurity': 'No', 'OnlineBackup': 'No', 'DeviceProtection': 'No', 'TechSupport': 'No', 'StreamingTV': 'Yes', 'StreamingMovies': 'Yes'}",
         "{'Contract': 'One year', 'PaperlessBilling': 'No', 'PaymentMethod': 'Credit card (automatic)', 'Charges': {'Monthly': 91.2, 'Total': '3247.55'}}"
        ],
        [
         "32",
         "0048-PIHNL",
         "No",
         "{'gender': 'Female', 'SeniorCitizen': 0, 'Partner': 'Yes', 'Dependents': 'No', 'tenure': 49}",
         "{'PhoneService': 'Yes', 'MultipleLines': 'No'}",
         "{'InternetService': 'No', 'OnlineSecurity': 'No internet service', 'OnlineBackup': 'No internet service', 'DeviceProtection': 'No internet service', 'TechSupport': 'No internet service', 'StreamingTV': 'No internet service', 'StreamingMovies': 'No internet service'}",
         "{'Contract': 'One year', 'PaperlessBilling': 'No', 'PaymentMethod': 'Bank transfer (automatic)', 'Charges': {'Monthly': 20.45, 'Total': '900.9'}}"
        ],
        [
         "33",
         "0052-DCKON",
         "No",
         "{'gender': 'Male', 'SeniorCitizen': 0, 'Partner': 'Yes', 'Dependents': 'No', 'tenure': 66}",
         "{'PhoneService': 'Yes', 'MultipleLines': 'Yes'}",
         "{'InternetService': 'Fiber optic', 'OnlineSecurity': 'Yes', 'OnlineBackup': 'Yes', 'DeviceProtection': 'Yes', 'TechSupport': 'Yes', 'StreamingTV': 'Yes', 'StreamingMovies': 'Yes'}",
         "{'Contract': 'One year', 'PaperlessBilling': 'No', 'PaymentMethod': 'Bank transfer (automatic)', 'Charges': {'Monthly': 115.8, 'Total': '7942.15'}}"
        ],
        [
         "34",
         "0052-YNYOT",
         "No",
         "{'gender': 'Female', 'SeniorCitizen': 0, 'Partner': 'No', 'Dependents': 'No', 'tenure': 67}",
         "{'PhoneService': 'Yes', 'MultipleLines': 'No'}",
         "{'InternetService': 'No', 'OnlineSecurity': 'No internet service', 'OnlineBackup': 'No internet service', 'DeviceProtection': 'No internet service', 'TechSupport': 'No internet service', 'StreamingTV': 'No internet service', 'StreamingMovies': 'No internet service'}",
         "{'Contract': 'One year', 'PaperlessBilling': 'No', 'PaymentMethod': 'Electronic check', 'Charges': {'Monthly': 20.55, 'Total': '1343.4'}}"
        ],
        [
         "35",
         "0056-EPFBG",
         "No",
         "{'gender': 'Male', 'SeniorCitizen': 0, 'Partner': 'Yes', 'Dependents': 'Yes', 'tenure': 20}",
         "{'PhoneService': 'No', 'MultipleLines': 'No phone service'}",
         "{'InternetService': 'DSL', 'OnlineSecurity': 'Yes', 'OnlineBackup': 'No', 'DeviceProtection': 'Yes', 'TechSupport': 'Yes', 'StreamingTV': 'No', 'StreamingMovies': 'No'}",
         "{'Contract': 'Two year', 'PaperlessBilling': 'Yes', 'PaymentMethod': 'Credit card (automatic)', 'Charges': {'Monthly': 39.4, 'Total': '825.4'}}"
        ],
        [
         "36",
         "0057-QBUQH",
         "No",
         "{'gender': 'Female', 'SeniorCitizen': 0, 'Partner': 'No', 'Dependents': 'Yes', 'tenure': 43}",
         "{'PhoneService': 'Yes', 'MultipleLines': 'Yes'}",
         "{'InternetService': 'No', 'OnlineSecurity': 'No internet service', 'OnlineBackup': 'No internet service', 'DeviceProtection': 'No internet service', 'TechSupport': 'No internet service', 'StreamingTV': 'No internet service', 'StreamingMovies': 'No internet service'}",
         "{'Contract': 'Two year', 'PaperlessBilling': 'Yes', 'PaymentMethod': 'Electronic check', 'Charges': {'Monthly': 25.1, 'Total': '1070.15'}}"
        ],
        [
         "37",
         "0058-EVZWM",
         "No",
         "{'gender': 'Female', 'SeniorCitizen': 0, 'Partner': 'Yes', 'Dependents': 'No', 'tenure': 55}",
         "{'PhoneService': 'Yes', 'MultipleLines': 'Yes'}",
         "{'InternetService': 'Fiber optic', 'OnlineSecurity': 'Yes', 'OnlineBackup': 'No', 'DeviceProtection': 'No', 'TechSupport': 'No', 'StreamingTV': 'Yes', 'StreamingMovies': 'No'}",
         "{'Contract': 'Month-to-month', 'PaperlessBilling': 'Yes', 'PaymentMethod': 'Bank transfer (automatic)', 'Charges': {'Monthly': 89.8, 'Total': '4959.6'}}"
        ],
        [
         "38",
         "0060-FUALY",
         "No",
         "{'gender': 'Female', 'SeniorCitizen': 0, 'Partner': 'Yes', 'Dependents': 'No', 'tenure': 59}",
         "{'PhoneService': 'Yes', 'MultipleLines': 'Yes'}",
         "{'InternetService': 'Fiber optic', 'OnlineSecurity': 'Yes', 'OnlineBackup': 'Yes', 'DeviceProtection': 'No', 'TechSupport': 'No', 'StreamingTV': 'Yes', 'StreamingMovies': 'No'}",
         "{'Contract': 'Month-to-month', 'PaperlessBilling': 'Yes', 'PaymentMethod': 'Electronic check', 'Charges': {'Monthly': 94.75, 'Total': '5597.65'}}"
        ],
        [
         "39",
         "0064-SUDOG",
         "No",
         "{'gender': 'Female', 'SeniorCitizen': 0, 'Partner': 'Yes', 'Dependents': 'Yes', 'tenure': 12}",
         "{'PhoneService': 'Yes', 'MultipleLines': 'No'}",
         "{'InternetService': 'No', 'OnlineSecurity': 'No internet service', 'OnlineBackup': 'No internet service', 'DeviceProtection': 'No internet service', 'TechSupport': 'No internet service', 'StreamingTV': 'No internet service', 'StreamingMovies': 'No internet service'}",
         "{'Contract': 'Two year', 'PaperlessBilling': 'No', 'PaymentMethod': 'Bank transfer (automatic)', 'Charges': {'Monthly': 20.3, 'Total': '224.5'}}"
        ],
        [
         "40",
         "0064-YIJGF",
         "No",
         "{'gender': 'Male', 'SeniorCitizen': 0, 'Partner': 'Yes', 'Dependents': 'Yes', 'tenure': 27}",
         "{'PhoneService': 'Yes', 'MultipleLines': 'Yes'}",
         "{'InternetService': 'Fiber optic', 'OnlineSecurity': 'No', 'OnlineBackup': 'No', 'DeviceProtection': 'No', 'TechSupport': 'No', 'StreamingTV': 'No', 'StreamingMovies': 'No'}",
         "{'Contract': 'Month-to-month', 'PaperlessBilling': 'Yes', 'PaymentMethod': 'Bank transfer (automatic)', 'Charges': {'Monthly': 75.75, 'Total': '1929'}}"
        ],
        [
         "41",
         "0067-DKWBL",
         "Yes",
         "{'gender': 'Male', 'SeniorCitizen': 1, 'Partner': 'No', 'Dependents': 'No', 'tenure': 2}",
         "{'PhoneService': 'Yes', 'MultipleLines': 'No'}",
         "{'InternetService': 'DSL', 'OnlineSecurity': 'Yes', 'OnlineBackup': 'No', 'DeviceProtection': 'No', 'TechSupport': 'No', 'StreamingTV': 'No', 'StreamingMovies': 'No'}",
         "{'Contract': 'Month-to-month', 'PaperlessBilling': 'Yes', 'PaymentMethod': 'Electronic check', 'Charges': {'Monthly': 49.25, 'Total': '91.1'}}"
        ],
        [
         "42",
         "0068-FIGTF",
         "No",
         "{'gender': 'Female', 'SeniorCitizen': 0, 'Partner': 'No', 'Dependents': 'No', 'tenure': 27}",
         "{'PhoneService': 'Yes', 'MultipleLines': 'No'}",
         "{'InternetService': 'DSL', 'OnlineSecurity': 'No', 'OnlineBackup': 'Yes', 'DeviceProtection': 'Yes', 'TechSupport': 'Yes', 'StreamingTV': 'Yes', 'StreamingMovies': 'Yes'}",
         "{'Contract': 'One year', 'PaperlessBilling': 'No', 'PaymentMethod': 'Mailed check', 'Charges': {'Monthly': 78.2, 'Total': '2078.95'}}"
        ],
        [
         "43",
         "0071-NDAFP",
         "No",
         "{'gender': 'Male', 'SeniorCitizen': 0, 'Partner': 'Yes', 'Dependents': 'Yes', 'tenure': 25}",
         "{'PhoneService': 'Yes', 'MultipleLines': 'Yes'}",
         "{'InternetService': 'No', 'OnlineSecurity': 'No internet service', 'OnlineBackup': 'No internet service', 'DeviceProtection': 'No internet service', 'TechSupport': 'No internet service', 'StreamingTV': 'No internet service', 'StreamingMovies': 'No internet service'}",
         "{'Contract': 'Two year', 'PaperlessBilling': 'No', 'PaymentMethod': 'Credit card (automatic)', 'Charges': {'Monthly': 25.5, 'Total': '630.6'}}"
        ],
        [
         "44",
         "0074-HDKDG",
         "No",
         "{'gender': 'Male', 'SeniorCitizen': 0, 'Partner': 'Yes', 'Dependents': 'Yes', 'tenure': 25}",
         "{'PhoneService': 'Yes', 'MultipleLines': 'No'}",
         "{'InternetService': 'DSL', 'OnlineSecurity': 'Yes', 'OnlineBackup': 'Yes', 'DeviceProtection': 'Yes', 'TechSupport': 'No', 'StreamingTV': 'No', 'StreamingMovies': 'No'}",
         "{'Contract': 'One year', 'PaperlessBilling': 'Yes', 'PaymentMethod': 'Bank transfer (automatic)', 'Charges': {'Monthly': 61.6, 'Total': '1611'}}"
        ],
        [
         "45",
         "0076-LVEPS",
         "No",
         "{'gender': 'Male', 'SeniorCitizen': 0, 'Partner': 'No', 'Dependents': 'Yes', 'tenure': 29}",
         "{'PhoneService': 'No', 'MultipleLines': 'No phone service'}",
         "{'InternetService': 'DSL', 'OnlineSecurity': 'Yes', 'OnlineBackup': 'Yes', 'DeviceProtection': 'Yes', 'TechSupport': 'Yes', 'StreamingTV': 'No', 'StreamingMovies': 'No'}",
         "{'Contract': 'Month-to-month', 'PaperlessBilling': 'Yes', 'PaymentMethod': 'Mailed check', 'Charges': {'Monthly': 45.0, 'Total': '1242.45'}}"
        ],
        [
         "46",
         "0078-XZMHT",
         "No",
         "{'gender': 'Male', 'SeniorCitizen': 0, 'Partner': 'Yes', 'Dependents': 'No', 'tenure': 72}",
         "{'PhoneService': 'Yes', 'MultipleLines': 'Yes'}",
         "{'InternetService': 'DSL', 'OnlineSecurity': 'No', 'OnlineBackup': 'Yes', 'DeviceProtection': 'Yes', 'TechSupport': 'Yes', 'StreamingTV': 'Yes', 'StreamingMovies': 'Yes'}",
         "{'Contract': 'Two year', 'PaperlessBilling': 'Yes', 'PaymentMethod': 'Bank transfer (automatic)', 'Charges': {'Monthly': 85.15, 'Total': '6316.2'}}"
        ],
        [
         "47",
         "0080-EMYVY",
         "No",
         "{'gender': 'Female', 'SeniorCitizen': 0, 'Partner': 'No', 'Dependents': 'No', 'tenure': 14}",
         "{'PhoneService': 'Yes', 'MultipleLines': 'No'}",
         "{'InternetService': 'DSL', 'OnlineSecurity': 'No', 'OnlineBackup': 'Yes', 'DeviceProtection': 'No', 'TechSupport': 'No', 'StreamingTV': 'No', 'StreamingMovies': 'No'}",
         "{'Contract': 'One year', 'PaperlessBilling': 'No', 'PaymentMethod': 'Credit card (automatic)', 'Charges': {'Monthly': 51.45, 'Total': '727.85'}}"
        ],
        [
         "48",
         "0080-OROZO",
         "No",
         "{'gender': 'Female', 'SeniorCitizen': 0, 'Partner': 'No', 'Dependents': 'No', 'tenure': 35}",
         "{'PhoneService': 'Yes', 'MultipleLines': 'No'}",
         "{'InternetService': 'Fiber optic', 'OnlineSecurity': 'No', 'OnlineBackup': 'No', 'DeviceProtection': 'Yes', 'TechSupport': 'Yes', 'StreamingTV': 'Yes', 'StreamingMovies': 'Yes'}",
         "{'Contract': 'One year', 'PaperlessBilling': 'Yes', 'PaymentMethod': 'Electronic check', 'Charges': {'Monthly': 99.25, 'Total': '3532'}}"
        ],
        [
         "49",
         "0082-LDZUE",
         "No",
         "{'gender': 'Male', 'SeniorCitizen': 0, 'Partner': 'No', 'Dependents': 'No', 'tenure': 1}",
         "{'PhoneService': 'Yes', 'MultipleLines': 'No'}",
         "{'InternetService': 'DSL', 'OnlineSecurity': 'No', 'OnlineBackup': 'No', 'DeviceProtection': 'No', 'TechSupport': 'No', 'StreamingTV': 'No', 'StreamingMovies': 'No'}",
         "{'Contract': 'Month-to-month', 'PaperlessBilling': 'Yes', 'PaymentMethod': 'Mailed check', 'Charges': {'Monthly': 44.3, 'Total': '44.3'}}"
        ]
       ],
       "shape": {
        "columns": 6,
        "rows": 7267
       }
      },
      "text/html": [
       "<div>\n",
       "<style scoped>\n",
       "    .dataframe tbody tr th:only-of-type {\n",
       "        vertical-align: middle;\n",
       "    }\n",
       "\n",
       "    .dataframe tbody tr th {\n",
       "        vertical-align: top;\n",
       "    }\n",
       "\n",
       "    .dataframe thead th {\n",
       "        text-align: right;\n",
       "    }\n",
       "</style>\n",
       "<table border=\"1\" class=\"dataframe\">\n",
       "  <thead>\n",
       "    <tr style=\"text-align: right;\">\n",
       "      <th></th>\n",
       "      <th>customerID</th>\n",
       "      <th>Churn</th>\n",
       "      <th>customer</th>\n",
       "      <th>phone</th>\n",
       "      <th>internet</th>\n",
       "      <th>account</th>\n",
       "    </tr>\n",
       "  </thead>\n",
       "  <tbody>\n",
       "    <tr>\n",
       "      <th>0</th>\n",
       "      <td>0002-ORFBO</td>\n",
       "      <td>No</td>\n",
       "      <td>{'gender': 'Female', 'SeniorCitizen': 0, 'Part...</td>\n",
       "      <td>{'PhoneService': 'Yes', 'MultipleLines': 'No'}</td>\n",
       "      <td>{'InternetService': 'DSL', 'OnlineSecurity': '...</td>\n",
       "      <td>{'Contract': 'One year', 'PaperlessBilling': '...</td>\n",
       "    </tr>\n",
       "    <tr>\n",
       "      <th>1</th>\n",
       "      <td>0003-MKNFE</td>\n",
       "      <td>No</td>\n",
       "      <td>{'gender': 'Male', 'SeniorCitizen': 0, 'Partne...</td>\n",
       "      <td>{'PhoneService': 'Yes', 'MultipleLines': 'Yes'}</td>\n",
       "      <td>{'InternetService': 'DSL', 'OnlineSecurity': '...</td>\n",
       "      <td>{'Contract': 'Month-to-month', 'PaperlessBilli...</td>\n",
       "    </tr>\n",
       "    <tr>\n",
       "      <th>2</th>\n",
       "      <td>0004-TLHLJ</td>\n",
       "      <td>Yes</td>\n",
       "      <td>{'gender': 'Male', 'SeniorCitizen': 0, 'Partne...</td>\n",
       "      <td>{'PhoneService': 'Yes', 'MultipleLines': 'No'}</td>\n",
       "      <td>{'InternetService': 'Fiber optic', 'OnlineSecu...</td>\n",
       "      <td>{'Contract': 'Month-to-month', 'PaperlessBilli...</td>\n",
       "    </tr>\n",
       "    <tr>\n",
       "      <th>3</th>\n",
       "      <td>0011-IGKFF</td>\n",
       "      <td>Yes</td>\n",
       "      <td>{'gender': 'Male', 'SeniorCitizen': 1, 'Partne...</td>\n",
       "      <td>{'PhoneService': 'Yes', 'MultipleLines': 'No'}</td>\n",
       "      <td>{'InternetService': 'Fiber optic', 'OnlineSecu...</td>\n",
       "      <td>{'Contract': 'Month-to-month', 'PaperlessBilli...</td>\n",
       "    </tr>\n",
       "    <tr>\n",
       "      <th>4</th>\n",
       "      <td>0013-EXCHZ</td>\n",
       "      <td>Yes</td>\n",
       "      <td>{'gender': 'Female', 'SeniorCitizen': 1, 'Part...</td>\n",
       "      <td>{'PhoneService': 'Yes', 'MultipleLines': 'No'}</td>\n",
       "      <td>{'InternetService': 'Fiber optic', 'OnlineSecu...</td>\n",
       "      <td>{'Contract': 'Month-to-month', 'PaperlessBilli...</td>\n",
       "    </tr>\n",
       "    <tr>\n",
       "      <th>...</th>\n",
       "      <td>...</td>\n",
       "      <td>...</td>\n",
       "      <td>...</td>\n",
       "      <td>...</td>\n",
       "      <td>...</td>\n",
       "      <td>...</td>\n",
       "    </tr>\n",
       "    <tr>\n",
       "      <th>7262</th>\n",
       "      <td>9987-LUTYD</td>\n",
       "      <td>No</td>\n",
       "      <td>{'gender': 'Female', 'SeniorCitizen': 0, 'Part...</td>\n",
       "      <td>{'PhoneService': 'Yes', 'MultipleLines': 'No'}</td>\n",
       "      <td>{'InternetService': 'DSL', 'OnlineSecurity': '...</td>\n",
       "      <td>{'Contract': 'One year', 'PaperlessBilling': '...</td>\n",
       "    </tr>\n",
       "    <tr>\n",
       "      <th>7263</th>\n",
       "      <td>9992-RRAMN</td>\n",
       "      <td>Yes</td>\n",
       "      <td>{'gender': 'Male', 'SeniorCitizen': 0, 'Partne...</td>\n",
       "      <td>{'PhoneService': 'Yes', 'MultipleLines': 'Yes'}</td>\n",
       "      <td>{'InternetService': 'Fiber optic', 'OnlineSecu...</td>\n",
       "      <td>{'Contract': 'Month-to-month', 'PaperlessBilli...</td>\n",
       "    </tr>\n",
       "    <tr>\n",
       "      <th>7264</th>\n",
       "      <td>9992-UJOEL</td>\n",
       "      <td>No</td>\n",
       "      <td>{'gender': 'Male', 'SeniorCitizen': 0, 'Partne...</td>\n",
       "      <td>{'PhoneService': 'Yes', 'MultipleLines': 'No'}</td>\n",
       "      <td>{'InternetService': 'DSL', 'OnlineSecurity': '...</td>\n",
       "      <td>{'Contract': 'Month-to-month', 'PaperlessBilli...</td>\n",
       "    </tr>\n",
       "    <tr>\n",
       "      <th>7265</th>\n",
       "      <td>9993-LHIEB</td>\n",
       "      <td>No</td>\n",
       "      <td>{'gender': 'Male', 'SeniorCitizen': 0, 'Partne...</td>\n",
       "      <td>{'PhoneService': 'Yes', 'MultipleLines': 'No'}</td>\n",
       "      <td>{'InternetService': 'DSL', 'OnlineSecurity': '...</td>\n",
       "      <td>{'Contract': 'Two year', 'PaperlessBilling': '...</td>\n",
       "    </tr>\n",
       "    <tr>\n",
       "      <th>7266</th>\n",
       "      <td>9995-HOTOH</td>\n",
       "      <td>No</td>\n",
       "      <td>{'gender': 'Male', 'SeniorCitizen': 0, 'Partne...</td>\n",
       "      <td>{'PhoneService': 'No', 'MultipleLines': 'No ph...</td>\n",
       "      <td>{'InternetService': 'DSL', 'OnlineSecurity': '...</td>\n",
       "      <td>{'Contract': 'Two year', 'PaperlessBilling': '...</td>\n",
       "    </tr>\n",
       "  </tbody>\n",
       "</table>\n",
       "<p>7267 rows × 6 columns</p>\n",
       "</div>"
      ],
      "text/plain": [
       "      customerID Churn                                           customer  \\\n",
       "0     0002-ORFBO    No  {'gender': 'Female', 'SeniorCitizen': 0, 'Part...   \n",
       "1     0003-MKNFE    No  {'gender': 'Male', 'SeniorCitizen': 0, 'Partne...   \n",
       "2     0004-TLHLJ   Yes  {'gender': 'Male', 'SeniorCitizen': 0, 'Partne...   \n",
       "3     0011-IGKFF   Yes  {'gender': 'Male', 'SeniorCitizen': 1, 'Partne...   \n",
       "4     0013-EXCHZ   Yes  {'gender': 'Female', 'SeniorCitizen': 1, 'Part...   \n",
       "...          ...   ...                                                ...   \n",
       "7262  9987-LUTYD    No  {'gender': 'Female', 'SeniorCitizen': 0, 'Part...   \n",
       "7263  9992-RRAMN   Yes  {'gender': 'Male', 'SeniorCitizen': 0, 'Partne...   \n",
       "7264  9992-UJOEL    No  {'gender': 'Male', 'SeniorCitizen': 0, 'Partne...   \n",
       "7265  9993-LHIEB    No  {'gender': 'Male', 'SeniorCitizen': 0, 'Partne...   \n",
       "7266  9995-HOTOH    No  {'gender': 'Male', 'SeniorCitizen': 0, 'Partne...   \n",
       "\n",
       "                                                  phone  \\\n",
       "0        {'PhoneService': 'Yes', 'MultipleLines': 'No'}   \n",
       "1       {'PhoneService': 'Yes', 'MultipleLines': 'Yes'}   \n",
       "2        {'PhoneService': 'Yes', 'MultipleLines': 'No'}   \n",
       "3        {'PhoneService': 'Yes', 'MultipleLines': 'No'}   \n",
       "4        {'PhoneService': 'Yes', 'MultipleLines': 'No'}   \n",
       "...                                                 ...   \n",
       "7262     {'PhoneService': 'Yes', 'MultipleLines': 'No'}   \n",
       "7263    {'PhoneService': 'Yes', 'MultipleLines': 'Yes'}   \n",
       "7264     {'PhoneService': 'Yes', 'MultipleLines': 'No'}   \n",
       "7265     {'PhoneService': 'Yes', 'MultipleLines': 'No'}   \n",
       "7266  {'PhoneService': 'No', 'MultipleLines': 'No ph...   \n",
       "\n",
       "                                               internet  \\\n",
       "0     {'InternetService': 'DSL', 'OnlineSecurity': '...   \n",
       "1     {'InternetService': 'DSL', 'OnlineSecurity': '...   \n",
       "2     {'InternetService': 'Fiber optic', 'OnlineSecu...   \n",
       "3     {'InternetService': 'Fiber optic', 'OnlineSecu...   \n",
       "4     {'InternetService': 'Fiber optic', 'OnlineSecu...   \n",
       "...                                                 ...   \n",
       "7262  {'InternetService': 'DSL', 'OnlineSecurity': '...   \n",
       "7263  {'InternetService': 'Fiber optic', 'OnlineSecu...   \n",
       "7264  {'InternetService': 'DSL', 'OnlineSecurity': '...   \n",
       "7265  {'InternetService': 'DSL', 'OnlineSecurity': '...   \n",
       "7266  {'InternetService': 'DSL', 'OnlineSecurity': '...   \n",
       "\n",
       "                                                account  \n",
       "0     {'Contract': 'One year', 'PaperlessBilling': '...  \n",
       "1     {'Contract': 'Month-to-month', 'PaperlessBilli...  \n",
       "2     {'Contract': 'Month-to-month', 'PaperlessBilli...  \n",
       "3     {'Contract': 'Month-to-month', 'PaperlessBilli...  \n",
       "4     {'Contract': 'Month-to-month', 'PaperlessBilli...  \n",
       "...                                                 ...  \n",
       "7262  {'Contract': 'One year', 'PaperlessBilling': '...  \n",
       "7263  {'Contract': 'Month-to-month', 'PaperlessBilli...  \n",
       "7264  {'Contract': 'Month-to-month', 'PaperlessBilli...  \n",
       "7265  {'Contract': 'Two year', 'PaperlessBilling': '...  \n",
       "7266  {'Contract': 'Two year', 'PaperlessBilling': '...  \n",
       "\n",
       "[7267 rows x 6 columns]"
      ]
     },
     "execution_count": 205,
     "metadata": {},
     "output_type": "execute_result"
    }
   ],
   "source": [
    "df"
   ]
  },
  {
   "cell_type": "code",
   "execution_count": 206,
   "id": "c7990600",
   "metadata": {},
   "outputs": [],
   "source": [
    "df.to_json('TelecomX_Data.json', orient='records', lines=True)"
   ]
  },
  {
   "cell_type": "code",
   "execution_count": 207,
   "id": "0060600f",
   "metadata": {},
   "outputs": [
    {
     "data": {
      "application/vnd.microsoft.datawrangler.viewer.v0+json": {
       "columns": [
        {
         "name": "index",
         "rawType": "int64",
         "type": "integer"
        },
        {
         "name": "gender",
         "rawType": "object",
         "type": "string"
        },
        {
         "name": "SeniorCitizen",
         "rawType": "int64",
         "type": "integer"
        },
        {
         "name": "Partner",
         "rawType": "object",
         "type": "string"
        },
        {
         "name": "Dependents",
         "rawType": "object",
         "type": "string"
        },
        {
         "name": "tenure",
         "rawType": "int64",
         "type": "integer"
        }
       ],
       "ref": "156b2e9b-46cc-46c5-8c73-b4af50afbb17",
       "rows": [
        [
         "0",
         "Female",
         "0",
         "Yes",
         "Yes",
         "9"
        ],
        [
         "1",
         "Male",
         "0",
         "No",
         "No",
         "9"
        ],
        [
         "2",
         "Male",
         "0",
         "No",
         "No",
         "4"
        ],
        [
         "3",
         "Male",
         "1",
         "Yes",
         "No",
         "13"
        ],
        [
         "4",
         "Female",
         "1",
         "Yes",
         "No",
         "3"
        ],
        [
         "5",
         "Female",
         "0",
         "No",
         "Yes",
         "9"
        ],
        [
         "6",
         "Female",
         "1",
         "Yes",
         "No",
         "71"
        ],
        [
         "7",
         "Male",
         "0",
         "Yes",
         "No",
         "63"
        ],
        [
         "8",
         "Female",
         "1",
         "No",
         "No",
         "7"
        ],
        [
         "9",
         "Female",
         "0",
         "Yes",
         "Yes",
         "65"
        ],
        [
         "10",
         "Male",
         "0",
         "No",
         "No",
         "54"
        ],
        [
         "11",
         "Female",
         "0",
         "Yes",
         "Yes",
         "72"
        ],
        [
         "12",
         "Female",
         "0",
         "Yes",
         "No",
         "5"
        ],
        [
         "13",
         "Female",
         "0",
         "No",
         "No",
         "72"
        ],
        [
         "14",
         "Female",
         "0",
         "No",
         "No",
         "56"
        ],
        [
         "15",
         "Female",
         "0",
         "Yes",
         "Yes",
         "71"
        ],
        [
         "16",
         "Female",
         "0",
         "Yes",
         "Yes",
         "34"
        ],
        [
         "17",
         "Female",
         "1",
         "No",
         "No",
         "1"
        ],
        [
         "18",
         "Male",
         "1",
         "No",
         "No",
         "45"
        ],
        [
         "19",
         "Male",
         "1",
         "No",
         "No",
         "1"
        ],
        [
         "20",
         "Female",
         "1",
         "Yes",
         "No",
         "50"
        ],
        [
         "21",
         "Female",
         "0",
         "Yes",
         "No",
         "13"
        ],
        [
         "22",
         "Female",
         "0",
         "Yes",
         "Yes",
         "23"
        ],
        [
         "23",
         "Female",
         "0",
         "No",
         "No",
         "3"
        ],
        [
         "24",
         "Female",
         "0",
         "Yes",
         "Yes",
         "4"
        ],
        [
         "25",
         "Female",
         "0",
         "Yes",
         "Yes",
         "1"
        ],
        [
         "26",
         "Female",
         "0",
         "Yes",
         "Yes",
         "55"
        ],
        [
         "27",
         "Male",
         "0",
         "Yes",
         "Yes",
         "54"
        ],
        [
         "28",
         "Male",
         "0",
         "No",
         "No",
         "26"
        ],
        [
         "29",
         "Female",
         "0",
         "Yes",
         "Yes",
         "69"
        ],
        [
         "30",
         "Female",
         "0",
         "No",
         "No",
         "11"
        ],
        [
         "31",
         "Male",
         "0",
         "Yes",
         "Yes",
         "37"
        ],
        [
         "32",
         "Female",
         "0",
         "Yes",
         "No",
         "49"
        ],
        [
         "33",
         "Male",
         "0",
         "Yes",
         "No",
         "66"
        ],
        [
         "34",
         "Female",
         "0",
         "No",
         "No",
         "67"
        ],
        [
         "35",
         "Male",
         "0",
         "Yes",
         "Yes",
         "20"
        ],
        [
         "36",
         "Female",
         "0",
         "No",
         "Yes",
         "43"
        ],
        [
         "37",
         "Female",
         "0",
         "Yes",
         "No",
         "55"
        ],
        [
         "38",
         "Female",
         "0",
         "Yes",
         "No",
         "59"
        ],
        [
         "39",
         "Female",
         "0",
         "Yes",
         "Yes",
         "12"
        ],
        [
         "40",
         "Male",
         "0",
         "Yes",
         "Yes",
         "27"
        ],
        [
         "41",
         "Male",
         "1",
         "No",
         "No",
         "2"
        ],
        [
         "42",
         "Female",
         "0",
         "No",
         "No",
         "27"
        ],
        [
         "43",
         "Male",
         "0",
         "Yes",
         "Yes",
         "25"
        ],
        [
         "44",
         "Male",
         "0",
         "Yes",
         "Yes",
         "25"
        ],
        [
         "45",
         "Male",
         "0",
         "No",
         "Yes",
         "29"
        ],
        [
         "46",
         "Male",
         "0",
         "Yes",
         "No",
         "72"
        ],
        [
         "47",
         "Female",
         "0",
         "No",
         "No",
         "14"
        ],
        [
         "48",
         "Female",
         "0",
         "No",
         "No",
         "35"
        ],
        [
         "49",
         "Male",
         "0",
         "No",
         "No",
         "1"
        ]
       ],
       "shape": {
        "columns": 5,
        "rows": 7267
       }
      },
      "text/html": [
       "<div>\n",
       "<style scoped>\n",
       "    .dataframe tbody tr th:only-of-type {\n",
       "        vertical-align: middle;\n",
       "    }\n",
       "\n",
       "    .dataframe tbody tr th {\n",
       "        vertical-align: top;\n",
       "    }\n",
       "\n",
       "    .dataframe thead th {\n",
       "        text-align: right;\n",
       "    }\n",
       "</style>\n",
       "<table border=\"1\" class=\"dataframe\">\n",
       "  <thead>\n",
       "    <tr style=\"text-align: right;\">\n",
       "      <th></th>\n",
       "      <th>gender</th>\n",
       "      <th>SeniorCitizen</th>\n",
       "      <th>Partner</th>\n",
       "      <th>Dependents</th>\n",
       "      <th>tenure</th>\n",
       "    </tr>\n",
       "  </thead>\n",
       "  <tbody>\n",
       "    <tr>\n",
       "      <th>0</th>\n",
       "      <td>Female</td>\n",
       "      <td>0</td>\n",
       "      <td>Yes</td>\n",
       "      <td>Yes</td>\n",
       "      <td>9</td>\n",
       "    </tr>\n",
       "    <tr>\n",
       "      <th>1</th>\n",
       "      <td>Male</td>\n",
       "      <td>0</td>\n",
       "      <td>No</td>\n",
       "      <td>No</td>\n",
       "      <td>9</td>\n",
       "    </tr>\n",
       "    <tr>\n",
       "      <th>2</th>\n",
       "      <td>Male</td>\n",
       "      <td>0</td>\n",
       "      <td>No</td>\n",
       "      <td>No</td>\n",
       "      <td>4</td>\n",
       "    </tr>\n",
       "    <tr>\n",
       "      <th>3</th>\n",
       "      <td>Male</td>\n",
       "      <td>1</td>\n",
       "      <td>Yes</td>\n",
       "      <td>No</td>\n",
       "      <td>13</td>\n",
       "    </tr>\n",
       "    <tr>\n",
       "      <th>4</th>\n",
       "      <td>Female</td>\n",
       "      <td>1</td>\n",
       "      <td>Yes</td>\n",
       "      <td>No</td>\n",
       "      <td>3</td>\n",
       "    </tr>\n",
       "    <tr>\n",
       "      <th>...</th>\n",
       "      <td>...</td>\n",
       "      <td>...</td>\n",
       "      <td>...</td>\n",
       "      <td>...</td>\n",
       "      <td>...</td>\n",
       "    </tr>\n",
       "    <tr>\n",
       "      <th>7262</th>\n",
       "      <td>Female</td>\n",
       "      <td>0</td>\n",
       "      <td>No</td>\n",
       "      <td>No</td>\n",
       "      <td>13</td>\n",
       "    </tr>\n",
       "    <tr>\n",
       "      <th>7263</th>\n",
       "      <td>Male</td>\n",
       "      <td>0</td>\n",
       "      <td>Yes</td>\n",
       "      <td>No</td>\n",
       "      <td>22</td>\n",
       "    </tr>\n",
       "    <tr>\n",
       "      <th>7264</th>\n",
       "      <td>Male</td>\n",
       "      <td>0</td>\n",
       "      <td>No</td>\n",
       "      <td>No</td>\n",
       "      <td>2</td>\n",
       "    </tr>\n",
       "    <tr>\n",
       "      <th>7265</th>\n",
       "      <td>Male</td>\n",
       "      <td>0</td>\n",
       "      <td>Yes</td>\n",
       "      <td>Yes</td>\n",
       "      <td>67</td>\n",
       "    </tr>\n",
       "    <tr>\n",
       "      <th>7266</th>\n",
       "      <td>Male</td>\n",
       "      <td>0</td>\n",
       "      <td>Yes</td>\n",
       "      <td>Yes</td>\n",
       "      <td>63</td>\n",
       "    </tr>\n",
       "  </tbody>\n",
       "</table>\n",
       "<p>7267 rows × 5 columns</p>\n",
       "</div>"
      ],
      "text/plain": [
       "      gender  SeniorCitizen Partner Dependents  tenure\n",
       "0     Female              0     Yes        Yes       9\n",
       "1       Male              0      No         No       9\n",
       "2       Male              0      No         No       4\n",
       "3       Male              1     Yes         No      13\n",
       "4     Female              1     Yes         No       3\n",
       "...      ...            ...     ...        ...     ...\n",
       "7262  Female              0      No         No      13\n",
       "7263    Male              0     Yes         No      22\n",
       "7264    Male              0      No         No       2\n",
       "7265    Male              0     Yes        Yes      67\n",
       "7266    Male              0     Yes        Yes      63\n",
       "\n",
       "[7267 rows x 5 columns]"
      ]
     },
     "execution_count": 207,
     "metadata": {},
     "output_type": "execute_result"
    }
   ],
   "source": [
    "datos_cli = pd.json_normalize(df['customer'])\n",
    "datos_cli"
   ]
  },
  {
   "cell_type": "code",
   "execution_count": 208,
   "id": "6d1eeacd",
   "metadata": {},
   "outputs": [
    {
     "name": "stdout",
     "output_type": "stream",
     "text": [
      "Columnas disponibles:\n",
      "['gender', 'SeniorCitizen', 'Partner', 'Dependents', 'tenure']\n",
      "\n",
      "Primeras filas:\n"
     ]
    },
    {
     "data": {
      "application/vnd.microsoft.datawrangler.viewer.v0+json": {
       "columns": [
        {
         "name": "index",
         "rawType": "int64",
         "type": "integer"
        },
        {
         "name": "gender",
         "rawType": "object",
         "type": "string"
        },
        {
         "name": "SeniorCitizen",
         "rawType": "int64",
         "type": "integer"
        },
        {
         "name": "Partner",
         "rawType": "object",
         "type": "string"
        },
        {
         "name": "Dependents",
         "rawType": "object",
         "type": "string"
        },
        {
         "name": "tenure",
         "rawType": "int64",
         "type": "integer"
        }
       ],
       "ref": "3aea1ebd-b15a-486a-a254-23fa9ca03cf0",
       "rows": [
        [
         "0",
         "Female",
         "0",
         "Yes",
         "Yes",
         "9"
        ],
        [
         "1",
         "Male",
         "0",
         "No",
         "No",
         "9"
        ],
        [
         "2",
         "Male",
         "0",
         "No",
         "No",
         "4"
        ],
        [
         "3",
         "Male",
         "1",
         "Yes",
         "No",
         "13"
        ],
        [
         "4",
         "Female",
         "1",
         "Yes",
         "No",
         "3"
        ],
        [
         "5",
         "Female",
         "0",
         "No",
         "Yes",
         "9"
        ],
        [
         "6",
         "Female",
         "1",
         "Yes",
         "No",
         "71"
        ],
        [
         "7",
         "Male",
         "0",
         "Yes",
         "No",
         "63"
        ],
        [
         "8",
         "Female",
         "1",
         "No",
         "No",
         "7"
        ],
        [
         "9",
         "Female",
         "0",
         "Yes",
         "Yes",
         "65"
        ]
       ],
       "shape": {
        "columns": 5,
        "rows": 10
       }
      },
      "text/html": [
       "<div>\n",
       "<style scoped>\n",
       "    .dataframe tbody tr th:only-of-type {\n",
       "        vertical-align: middle;\n",
       "    }\n",
       "\n",
       "    .dataframe tbody tr th {\n",
       "        vertical-align: top;\n",
       "    }\n",
       "\n",
       "    .dataframe thead th {\n",
       "        text-align: right;\n",
       "    }\n",
       "</style>\n",
       "<table border=\"1\" class=\"dataframe\">\n",
       "  <thead>\n",
       "    <tr style=\"text-align: right;\">\n",
       "      <th></th>\n",
       "      <th>gender</th>\n",
       "      <th>SeniorCitizen</th>\n",
       "      <th>Partner</th>\n",
       "      <th>Dependents</th>\n",
       "      <th>tenure</th>\n",
       "    </tr>\n",
       "  </thead>\n",
       "  <tbody>\n",
       "    <tr>\n",
       "      <th>0</th>\n",
       "      <td>Female</td>\n",
       "      <td>0</td>\n",
       "      <td>Yes</td>\n",
       "      <td>Yes</td>\n",
       "      <td>9</td>\n",
       "    </tr>\n",
       "    <tr>\n",
       "      <th>1</th>\n",
       "      <td>Male</td>\n",
       "      <td>0</td>\n",
       "      <td>No</td>\n",
       "      <td>No</td>\n",
       "      <td>9</td>\n",
       "    </tr>\n",
       "    <tr>\n",
       "      <th>2</th>\n",
       "      <td>Male</td>\n",
       "      <td>0</td>\n",
       "      <td>No</td>\n",
       "      <td>No</td>\n",
       "      <td>4</td>\n",
       "    </tr>\n",
       "    <tr>\n",
       "      <th>3</th>\n",
       "      <td>Male</td>\n",
       "      <td>1</td>\n",
       "      <td>Yes</td>\n",
       "      <td>No</td>\n",
       "      <td>13</td>\n",
       "    </tr>\n",
       "    <tr>\n",
       "      <th>4</th>\n",
       "      <td>Female</td>\n",
       "      <td>1</td>\n",
       "      <td>Yes</td>\n",
       "      <td>No</td>\n",
       "      <td>3</td>\n",
       "    </tr>\n",
       "    <tr>\n",
       "      <th>5</th>\n",
       "      <td>Female</td>\n",
       "      <td>0</td>\n",
       "      <td>No</td>\n",
       "      <td>Yes</td>\n",
       "      <td>9</td>\n",
       "    </tr>\n",
       "    <tr>\n",
       "      <th>6</th>\n",
       "      <td>Female</td>\n",
       "      <td>1</td>\n",
       "      <td>Yes</td>\n",
       "      <td>No</td>\n",
       "      <td>71</td>\n",
       "    </tr>\n",
       "    <tr>\n",
       "      <th>7</th>\n",
       "      <td>Male</td>\n",
       "      <td>0</td>\n",
       "      <td>Yes</td>\n",
       "      <td>No</td>\n",
       "      <td>63</td>\n",
       "    </tr>\n",
       "    <tr>\n",
       "      <th>8</th>\n",
       "      <td>Female</td>\n",
       "      <td>1</td>\n",
       "      <td>No</td>\n",
       "      <td>No</td>\n",
       "      <td>7</td>\n",
       "    </tr>\n",
       "    <tr>\n",
       "      <th>9</th>\n",
       "      <td>Female</td>\n",
       "      <td>0</td>\n",
       "      <td>Yes</td>\n",
       "      <td>Yes</td>\n",
       "      <td>65</td>\n",
       "    </tr>\n",
       "  </tbody>\n",
       "</table>\n",
       "</div>"
      ],
      "text/plain": [
       "   gender  SeniorCitizen Partner Dependents  tenure\n",
       "0  Female              0     Yes        Yes       9\n",
       "1    Male              0      No         No       9\n",
       "2    Male              0      No         No       4\n",
       "3    Male              1     Yes         No      13\n",
       "4  Female              1     Yes         No       3\n",
       "5  Female              0      No        Yes       9\n",
       "6  Female              1     Yes         No      71\n",
       "7    Male              0     Yes         No      63\n",
       "8  Female              1      No         No       7\n",
       "9  Female              0     Yes        Yes      65"
      ]
     },
     "metadata": {},
     "output_type": "display_data"
    }
   ],
   "source": [
    "# Diagnóstico: mostrar todas las columnas y primeras filas para identificar la columna objetivo\n",
    "print('Columnas disponibles:')\n",
    "print(datos_cli.columns.tolist())\n",
    "print('\\nPrimeras filas:')\n",
    "display(datos_cli.head(10))"
   ]
  },
  {
   "cell_type": "code",
   "execution_count": 209,
   "id": "dd461289",
   "metadata": {},
   "outputs": [
    {
     "name": "stdout",
     "output_type": "stream",
     "text": [
      "Columnas disponibles:\n",
      "['gender', 'SeniorCitizen', 'Partner', 'Dependents', 'tenure']\n",
      "\n",
      "Primeras filas:\n"
     ]
    },
    {
     "data": {
      "application/vnd.microsoft.datawrangler.viewer.v0+json": {
       "columns": [
        {
         "name": "index",
         "rawType": "int64",
         "type": "integer"
        },
        {
         "name": "gender",
         "rawType": "object",
         "type": "string"
        },
        {
         "name": "SeniorCitizen",
         "rawType": "int64",
         "type": "integer"
        },
        {
         "name": "Partner",
         "rawType": "object",
         "type": "string"
        },
        {
         "name": "Dependents",
         "rawType": "object",
         "type": "string"
        },
        {
         "name": "tenure",
         "rawType": "int64",
         "type": "integer"
        }
       ],
       "ref": "38dc686e-277e-425c-8469-e7a91f9dbe96",
       "rows": [
        [
         "0",
         "Female",
         "0",
         "Yes",
         "Yes",
         "9"
        ],
        [
         "1",
         "Male",
         "0",
         "No",
         "No",
         "9"
        ],
        [
         "2",
         "Male",
         "0",
         "No",
         "No",
         "4"
        ],
        [
         "3",
         "Male",
         "1",
         "Yes",
         "No",
         "13"
        ],
        [
         "4",
         "Female",
         "1",
         "Yes",
         "No",
         "3"
        ],
        [
         "5",
         "Female",
         "0",
         "No",
         "Yes",
         "9"
        ],
        [
         "6",
         "Female",
         "1",
         "Yes",
         "No",
         "71"
        ],
        [
         "7",
         "Male",
         "0",
         "Yes",
         "No",
         "63"
        ],
        [
         "8",
         "Female",
         "1",
         "No",
         "No",
         "7"
        ],
        [
         "9",
         "Female",
         "0",
         "Yes",
         "Yes",
         "65"
        ]
       ],
       "shape": {
        "columns": 5,
        "rows": 10
       }
      },
      "text/html": [
       "<div>\n",
       "<style scoped>\n",
       "    .dataframe tbody tr th:only-of-type {\n",
       "        vertical-align: middle;\n",
       "    }\n",
       "\n",
       "    .dataframe tbody tr th {\n",
       "        vertical-align: top;\n",
       "    }\n",
       "\n",
       "    .dataframe thead th {\n",
       "        text-align: right;\n",
       "    }\n",
       "</style>\n",
       "<table border=\"1\" class=\"dataframe\">\n",
       "  <thead>\n",
       "    <tr style=\"text-align: right;\">\n",
       "      <th></th>\n",
       "      <th>gender</th>\n",
       "      <th>SeniorCitizen</th>\n",
       "      <th>Partner</th>\n",
       "      <th>Dependents</th>\n",
       "      <th>tenure</th>\n",
       "    </tr>\n",
       "  </thead>\n",
       "  <tbody>\n",
       "    <tr>\n",
       "      <th>0</th>\n",
       "      <td>Female</td>\n",
       "      <td>0</td>\n",
       "      <td>Yes</td>\n",
       "      <td>Yes</td>\n",
       "      <td>9</td>\n",
       "    </tr>\n",
       "    <tr>\n",
       "      <th>1</th>\n",
       "      <td>Male</td>\n",
       "      <td>0</td>\n",
       "      <td>No</td>\n",
       "      <td>No</td>\n",
       "      <td>9</td>\n",
       "    </tr>\n",
       "    <tr>\n",
       "      <th>2</th>\n",
       "      <td>Male</td>\n",
       "      <td>0</td>\n",
       "      <td>No</td>\n",
       "      <td>No</td>\n",
       "      <td>4</td>\n",
       "    </tr>\n",
       "    <tr>\n",
       "      <th>3</th>\n",
       "      <td>Male</td>\n",
       "      <td>1</td>\n",
       "      <td>Yes</td>\n",
       "      <td>No</td>\n",
       "      <td>13</td>\n",
       "    </tr>\n",
       "    <tr>\n",
       "      <th>4</th>\n",
       "      <td>Female</td>\n",
       "      <td>1</td>\n",
       "      <td>Yes</td>\n",
       "      <td>No</td>\n",
       "      <td>3</td>\n",
       "    </tr>\n",
       "    <tr>\n",
       "      <th>5</th>\n",
       "      <td>Female</td>\n",
       "      <td>0</td>\n",
       "      <td>No</td>\n",
       "      <td>Yes</td>\n",
       "      <td>9</td>\n",
       "    </tr>\n",
       "    <tr>\n",
       "      <th>6</th>\n",
       "      <td>Female</td>\n",
       "      <td>1</td>\n",
       "      <td>Yes</td>\n",
       "      <td>No</td>\n",
       "      <td>71</td>\n",
       "    </tr>\n",
       "    <tr>\n",
       "      <th>7</th>\n",
       "      <td>Male</td>\n",
       "      <td>0</td>\n",
       "      <td>Yes</td>\n",
       "      <td>No</td>\n",
       "      <td>63</td>\n",
       "    </tr>\n",
       "    <tr>\n",
       "      <th>8</th>\n",
       "      <td>Female</td>\n",
       "      <td>1</td>\n",
       "      <td>No</td>\n",
       "      <td>No</td>\n",
       "      <td>7</td>\n",
       "    </tr>\n",
       "    <tr>\n",
       "      <th>9</th>\n",
       "      <td>Female</td>\n",
       "      <td>0</td>\n",
       "      <td>Yes</td>\n",
       "      <td>Yes</td>\n",
       "      <td>65</td>\n",
       "    </tr>\n",
       "  </tbody>\n",
       "</table>\n",
       "</div>"
      ],
      "text/plain": [
       "   gender  SeniorCitizen Partner Dependents  tenure\n",
       "0  Female              0     Yes        Yes       9\n",
       "1    Male              0      No         No       9\n",
       "2    Male              0      No         No       4\n",
       "3    Male              1     Yes         No      13\n",
       "4  Female              1     Yes         No       3\n",
       "5  Female              0      No        Yes       9\n",
       "6  Female              1     Yes         No      71\n",
       "7    Male              0     Yes         No      63\n",
       "8  Female              1      No         No       7\n",
       "9  Female              0     Yes        Yes      65"
      ]
     },
     "metadata": {},
     "output_type": "display_data"
    }
   ],
   "source": [
    "# Mostrar todas las columnas y primeras filas para identificar la columna de churn\n",
    "print('Columnas disponibles:')\n",
    "print(datos_cli.columns.tolist())\n",
    "print('\\nPrimeras filas:')\n",
    "display(datos_cli.head(10))"
   ]
  },
  {
   "cell_type": "markdown",
   "id": "7f941743",
   "metadata": {},
   "source": [
    "## Exploración de columnas y tipos de datos\n",
    "A continuación se muestran las columnas del dataset y sus tipos de datos. También se consulta el diccionario de variables para comprender el significado de cada una y se identifican las columnas más relevantes para el análisis de evasión."
   ]
  },
  {
   "cell_type": "code",
   "execution_count": 210,
   "id": "c939b67d",
   "metadata": {},
   "outputs": [
    {
     "name": "stdout",
     "output_type": "stream",
     "text": [
      "Columnas: ['gender', 'SeniorCitizen', 'Partner', 'Dependents', 'tenure']\n",
      "\n",
      "Tipos de datos:\n",
      "gender           object\n",
      "SeniorCitizen     int64\n",
      "Partner          object\n",
      "Dependents       object\n",
      "tenure            int64\n",
      "dtype: object\n"
     ]
    }
   ],
   "source": [
    "# Mostrar las columnas y los tipos de datos del DataFrame de clientes\n",
    "print('Columnas:', datos_cli.columns.tolist())\n",
    "print('\\nTipos de datos:')\n",
    "print(datos_cli.dtypes)"
   ]
  },
  {
   "cell_type": "code",
   "execution_count": 211,
   "id": "26501274",
   "metadata": {},
   "outputs": [
    {
     "data": {
      "application/vnd.microsoft.datawrangler.viewer.v0+json": {
       "columns": [
        {
         "name": "index",
         "rawType": "int64",
         "type": "integer"
        },
        {
         "name": "gender",
         "rawType": "object",
         "type": "string"
        },
        {
         "name": "SeniorCitizen",
         "rawType": "int64",
         "type": "integer"
        },
        {
         "name": "Partner",
         "rawType": "object",
         "type": "string"
        },
        {
         "name": "Dependents",
         "rawType": "object",
         "type": "string"
        },
        {
         "name": "tenure",
         "rawType": "int64",
         "type": "integer"
        }
       ],
       "ref": "db66ad4a-5062-4d60-acc9-c6c592a6831a",
       "rows": [
        [
         "0",
         "Female",
         "0",
         "Yes",
         "Yes",
         "9"
        ],
        [
         "1",
         "Male",
         "0",
         "No",
         "No",
         "9"
        ],
        [
         "2",
         "Male",
         "0",
         "No",
         "No",
         "4"
        ],
        [
         "3",
         "Male",
         "1",
         "Yes",
         "No",
         "13"
        ],
        [
         "4",
         "Female",
         "1",
         "Yes",
         "No",
         "3"
        ]
       ],
       "shape": {
        "columns": 5,
        "rows": 5
       }
      },
      "text/html": [
       "<div>\n",
       "<style scoped>\n",
       "    .dataframe tbody tr th:only-of-type {\n",
       "        vertical-align: middle;\n",
       "    }\n",
       "\n",
       "    .dataframe tbody tr th {\n",
       "        vertical-align: top;\n",
       "    }\n",
       "\n",
       "    .dataframe thead th {\n",
       "        text-align: right;\n",
       "    }\n",
       "</style>\n",
       "<table border=\"1\" class=\"dataframe\">\n",
       "  <thead>\n",
       "    <tr style=\"text-align: right;\">\n",
       "      <th></th>\n",
       "      <th>gender</th>\n",
       "      <th>SeniorCitizen</th>\n",
       "      <th>Partner</th>\n",
       "      <th>Dependents</th>\n",
       "      <th>tenure</th>\n",
       "    </tr>\n",
       "  </thead>\n",
       "  <tbody>\n",
       "    <tr>\n",
       "      <th>0</th>\n",
       "      <td>Female</td>\n",
       "      <td>0</td>\n",
       "      <td>Yes</td>\n",
       "      <td>Yes</td>\n",
       "      <td>9</td>\n",
       "    </tr>\n",
       "    <tr>\n",
       "      <th>1</th>\n",
       "      <td>Male</td>\n",
       "      <td>0</td>\n",
       "      <td>No</td>\n",
       "      <td>No</td>\n",
       "      <td>9</td>\n",
       "    </tr>\n",
       "    <tr>\n",
       "      <th>2</th>\n",
       "      <td>Male</td>\n",
       "      <td>0</td>\n",
       "      <td>No</td>\n",
       "      <td>No</td>\n",
       "      <td>4</td>\n",
       "    </tr>\n",
       "    <tr>\n",
       "      <th>3</th>\n",
       "      <td>Male</td>\n",
       "      <td>1</td>\n",
       "      <td>Yes</td>\n",
       "      <td>No</td>\n",
       "      <td>13</td>\n",
       "    </tr>\n",
       "    <tr>\n",
       "      <th>4</th>\n",
       "      <td>Female</td>\n",
       "      <td>1</td>\n",
       "      <td>Yes</td>\n",
       "      <td>No</td>\n",
       "      <td>3</td>\n",
       "    </tr>\n",
       "  </tbody>\n",
       "</table>\n",
       "</div>"
      ],
      "text/plain": [
       "   gender  SeniorCitizen Partner Dependents  tenure\n",
       "0  Female              0     Yes        Yes       9\n",
       "1    Male              0      No         No       9\n",
       "2    Male              0      No         No       4\n",
       "3    Male              1     Yes         No      13\n",
       "4  Female              1     Yes         No       3"
      ]
     },
     "execution_count": 211,
     "metadata": {},
     "output_type": "execute_result"
    }
   ],
   "source": [
    "# Mostrar las primeras filas para explorar visualmente los datos\n",
    "datos_cli.head()"
   ]
  },
  {
   "cell_type": "markdown",
   "id": "9bed946e",
   "metadata": {},
   "source": [
    "### Consulta del diccionario de variables\n",
    "Para comprender mejor el significado de cada columna, es importante consultar el diccionario de variables proporcionado con el dataset o en la documentación del reto."
   ]
  },
  {
   "cell_type": "markdown",
   "id": "d91e8464",
   "metadata": {},
   "source": [
    "### Verificación de problemas en los datos\n",
    "En este paso se revisan valores ausentes, duplicados, errores de formato e inconsistencias en las categorías para asegurar la calidad de los datos antes del análisis."
   ]
  },
  {
   "cell_type": "code",
   "execution_count": 212,
   "id": "c50d0870",
   "metadata": {},
   "outputs": [
    {
     "name": "stdout",
     "output_type": "stream",
     "text": [
      "Valores ausentes por columna:\n",
      "gender           0\n",
      "SeniorCitizen    0\n",
      "Partner          0\n",
      "Dependents       0\n",
      "tenure           0\n",
      "dtype: int64\n",
      "\n",
      "Filas duplicadas: 6376\n"
     ]
    }
   ],
   "source": [
    "# Verificar valores ausentes y duplicados\n",
    "print('Valores ausentes por columna:')\n",
    "print(datos_cli.isnull().sum())\n",
    "\n",
    "print('\\nFilas duplicadas:', datos_cli.duplicated().sum())"
   ]
  },
  {
   "cell_type": "code",
   "execution_count": 213,
   "id": "1bd14054",
   "metadata": {},
   "outputs": [
    {
     "name": "stdout",
     "output_type": "stream",
     "text": [
      "Valores únicos en gender: ['Female' 'Male']\n",
      "Valores únicos en Partner: ['Yes' 'No']\n",
      "Valores únicos en Dependents: ['Yes' 'No']\n",
      "Valores únicos en Partner: ['Yes' 'No']\n",
      "Valores únicos en Dependents: ['Yes' 'No']\n"
     ]
    }
   ],
   "source": [
    "# Buscar errores de formato e inconsistencias en variables categóricas\n",
    "# Seleccionar columnas categóricas automáticamente\n",
    "cat_cols = datos_cli.select_dtypes(include=['object', 'category']).columns\n",
    "for col in cat_cols:\n",
    "    print(f'Valores únicos en {col}:', datos_cli[col].unique())"
   ]
  },
  {
   "cell_type": "code",
   "execution_count": 214,
   "id": "ab5b8348",
   "metadata": {},
   "outputs": [],
   "source": [
    "# Si hay columnas de fecha, normalizarlas y revisar formato\n",
    "fecha_cols = datos_cli.select_dtypes(include=['datetime', 'datetime64[ns]']).columns\n",
    "for col in fecha_cols:\n",
    "    datos_cli[col] = pd.to_datetime(datos_cli[col], errors='coerce')\n",
    "    print(f'Fechas normalizadas en {col}:', datos_cli[col].dt.normalize().unique())"
   ]
  },
  {
   "cell_type": "markdown",
   "id": "cbd19ec0",
   "metadata": {},
   "source": [
    "### Manejo de inconsistencias y limpieza de datos\n",
    "En esta sección se corrigen valores ausentes, duplicados y se estandarizan las categorías y formatos para asegurar la coherencia del dataset antes del análisis."
   ]
  },
  {
   "cell_type": "code",
   "execution_count": 215,
   "id": "ea14371d",
   "metadata": {},
   "outputs": [
    {
     "name": "stdout",
     "output_type": "stream",
     "text": [
      "Datos limpios. Filas: 891\n"
     ]
    },
    {
     "name": "stderr",
     "output_type": "stream",
     "text": [
      "C:\\Users\\Benja\\AppData\\Local\\Temp\\ipykernel_17400\\2585592534.py:8: SettingWithCopyWarning: \n",
      "A value is trying to be set on a copy of a slice from a DataFrame.\n",
      "Try using .loc[row_indexer,col_indexer] = value instead\n",
      "\n",
      "See the caveats in the documentation: https://pandas.pydata.org/pandas-docs/stable/user_guide/indexing.html#returning-a-view-versus-a-copy\n",
      "  datos_cli[col] = datos_cli[col].fillna('desconocido')\n",
      "C:\\Users\\Benja\\AppData\\Local\\Temp\\ipykernel_17400\\2585592534.py:10: SettingWithCopyWarning: \n",
      "A value is trying to be set on a copy of a slice from a DataFrame.\n",
      "Try using .loc[row_indexer,col_indexer] = value instead\n",
      "\n",
      "See the caveats in the documentation: https://pandas.pydata.org/pandas-docs/stable/user_guide/indexing.html#returning-a-view-versus-a-copy\n",
      "  datos_cli[col] = datos_cli[col].fillna(datos_cli[col].median())\n",
      "C:\\Users\\Benja\\AppData\\Local\\Temp\\ipykernel_17400\\2585592534.py:8: SettingWithCopyWarning: \n",
      "A value is trying to be set on a copy of a slice from a DataFrame.\n",
      "Try using .loc[row_indexer,col_indexer] = value instead\n",
      "\n",
      "See the caveats in the documentation: https://pandas.pydata.org/pandas-docs/stable/user_guide/indexing.html#returning-a-view-versus-a-copy\n",
      "  datos_cli[col] = datos_cli[col].fillna('desconocido')\n",
      "C:\\Users\\Benja\\AppData\\Local\\Temp\\ipykernel_17400\\2585592534.py:10: SettingWithCopyWarning: \n",
      "A value is trying to be set on a copy of a slice from a DataFrame.\n",
      "Try using .loc[row_indexer,col_indexer] = value instead\n",
      "\n",
      "See the caveats in the documentation: https://pandas.pydata.org/pandas-docs/stable/user_guide/indexing.html#returning-a-view-versus-a-copy\n",
      "  datos_cli[col] = datos_cli[col].fillna(datos_cli[col].median())\n",
      "C:\\Users\\Benja\\AppData\\Local\\Temp\\ipykernel_17400\\2585592534.py:15: SettingWithCopyWarning: \n",
      "A value is trying to be set on a copy of a slice from a DataFrame.\n",
      "Try using .loc[row_indexer,col_indexer] = value instead\n",
      "\n",
      "See the caveats in the documentation: https://pandas.pydata.org/pandas-docs/stable/user_guide/indexing.html#returning-a-view-versus-a-copy\n",
      "  datos_cli[col] = datos_cli[col].str.lower().str.strip().str.replace('á','a').str.replace('é','e').str.replace('í','i').str.replace('ó','o').str.replace('ú','u')\n"
     ]
    }
   ],
   "source": [
    "# Eliminar filas duplicadas\n",
    "datos_cli = datos_cli.drop_duplicates()\n",
    "\n",
    "# Rellenar o eliminar valores nulos según el caso\n",
    "# Ejemplo: rellenar nulos en columnas categóricas con 'desconocido' y en numéricas con la mediana\n",
    "for col in datos_cli.columns:\n",
    "    if datos_cli[col].dtype == 'object':\n",
    "        datos_cli[col] = datos_cli[col].fillna('desconocido')\n",
    "    else:\n",
    "        datos_cli[col] = datos_cli[col].fillna(datos_cli[col].median())\n",
    "\n",
    "# Estandarizar strings en columnas categóricas: minúsculas y sin espacios\n",
    "cat_cols = datos_cli.select_dtypes(include=['object', 'category']).columns\n",
    "for col in cat_cols:\n",
    "    datos_cli[col] = datos_cli[col].str.lower().str.strip().str.replace('á','a').str.replace('é','e').str.replace('í','i').str.replace('ó','o').str.replace('ú','u')\n",
    "\n",
    "# Mostrar resumen de limpieza\n",
    "print('Datos limpios. Filas:', len(datos_cli))"
   ]
  },
  {
   "cell_type": "code",
   "execution_count": 216,
   "id": "269baf2b",
   "metadata": {},
   "outputs": [
    {
     "name": "stdout",
     "output_type": "stream",
     "text": [
      "No se encontró la columna monthly_charges. Verifica el nombre de la columna de facturación mensual.\n"
     ]
    }
   ],
   "source": [
    "# Crear columna 'Cuentas_Diarias' a partir de la facturación mensual\n",
    "# Suponiendo que la columna de facturación mensual se llama 'monthly_charges' (ajustar si el nombre es diferente)\n",
    "if 'monthly_charges' in datos_cli.columns:\n",
    "    datos_cli['Cuentas_Diarias'] = datos_cli['monthly_charges'] / 30\n",
    "    print('Columna Cuentas_Diarias creada exitosamente.')\n",
    "else:\n",
    "    print('No se encontró la columna monthly_charges. Verifica el nombre de la columna de facturación mensual.')\n",
    "\n",
    "# Mostrar las primeras filas para verificar\n",
    "datos_cli[['monthly_charges','Cuentas_Diarias']].head() if 'Cuentas_Diarias' in datos_cli.columns else None"
   ]
  },
  {
   "cell_type": "markdown",
   "id": "08f77dc4",
   "metadata": {},
   "source": [
    "### Estandarización y transformación de datos (opcional)\n",
    "En esta sección se transforman valores textuales a binarios y se renombran columnas para facilitar el análisis y la interpretación de los resultados."
   ]
  },
  {
   "cell_type": "code",
   "execution_count": 217,
   "id": "0daa2582",
   "metadata": {},
   "outputs": [
    {
     "name": "stderr",
     "output_type": "stream",
     "text": [
      "C:\\Users\\Benja\\AppData\\Local\\Temp\\ipykernel_17400\\1716673586.py:6: SettingWithCopyWarning: \n",
      "A value is trying to be set on a copy of a slice from a DataFrame.\n",
      "Try using .loc[row_indexer,col_indexer] = value instead\n",
      "\n",
      "See the caveats in the documentation: https://pandas.pydata.org/pandas-docs/stable/user_guide/indexing.html#returning-a-view-versus-a-copy\n",
      "  datos_cli[col] = datos_cli[col].map(bin_map).fillna(datos_cli[col])\n",
      "C:\\Users\\Benja\\AppData\\Local\\Temp\\ipykernel_17400\\1716673586.py:6: SettingWithCopyWarning: \n",
      "A value is trying to be set on a copy of a slice from a DataFrame.\n",
      "Try using .loc[row_indexer,col_indexer] = value instead\n",
      "\n",
      "See the caveats in the documentation: https://pandas.pydata.org/pandas-docs/stable/user_guide/indexing.html#returning-a-view-versus-a-copy\n",
      "  datos_cli[col] = datos_cli[col].map(bin_map).fillna(datos_cli[col])\n"
     ]
    },
    {
     "data": {
      "application/vnd.microsoft.datawrangler.viewer.v0+json": {
       "columns": [
        {
         "name": "index",
         "rawType": "int64",
         "type": "integer"
        },
        {
         "name": "gender",
         "rawType": "object",
         "type": "string"
        },
        {
         "name": "SeniorCitizen",
         "rawType": "int64",
         "type": "integer"
        },
        {
         "name": "Partner",
         "rawType": "object",
         "type": "unknown"
        },
        {
         "name": "Dependents",
         "rawType": "object",
         "type": "unknown"
        },
        {
         "name": "tenure",
         "rawType": "int64",
         "type": "integer"
        }
       ],
       "ref": "cc1ba1b0-7228-4c3b-933f-d54182a3da71",
       "rows": [
        [
         "0",
         "female",
         "0",
         "yes",
         "yes",
         "9"
        ],
        [
         "1",
         "male",
         "0",
         "0.0",
         "0.0",
         "9"
        ],
        [
         "2",
         "male",
         "0",
         "0.0",
         "0.0",
         "4"
        ],
        [
         "3",
         "male",
         "1",
         "yes",
         "0.0",
         "13"
        ],
        [
         "4",
         "female",
         "1",
         "yes",
         "0.0",
         "3"
        ]
       ],
       "shape": {
        "columns": 5,
        "rows": 5
       }
      },
      "text/html": [
       "<div>\n",
       "<style scoped>\n",
       "    .dataframe tbody tr th:only-of-type {\n",
       "        vertical-align: middle;\n",
       "    }\n",
       "\n",
       "    .dataframe tbody tr th {\n",
       "        vertical-align: top;\n",
       "    }\n",
       "\n",
       "    .dataframe thead th {\n",
       "        text-align: right;\n",
       "    }\n",
       "</style>\n",
       "<table border=\"1\" class=\"dataframe\">\n",
       "  <thead>\n",
       "    <tr style=\"text-align: right;\">\n",
       "      <th></th>\n",
       "      <th>gender</th>\n",
       "      <th>SeniorCitizen</th>\n",
       "      <th>Partner</th>\n",
       "      <th>Dependents</th>\n",
       "      <th>tenure</th>\n",
       "    </tr>\n",
       "  </thead>\n",
       "  <tbody>\n",
       "    <tr>\n",
       "      <th>0</th>\n",
       "      <td>female</td>\n",
       "      <td>0</td>\n",
       "      <td>yes</td>\n",
       "      <td>yes</td>\n",
       "      <td>9</td>\n",
       "    </tr>\n",
       "    <tr>\n",
       "      <th>1</th>\n",
       "      <td>male</td>\n",
       "      <td>0</td>\n",
       "      <td>0.0</td>\n",
       "      <td>0.0</td>\n",
       "      <td>9</td>\n",
       "    </tr>\n",
       "    <tr>\n",
       "      <th>2</th>\n",
       "      <td>male</td>\n",
       "      <td>0</td>\n",
       "      <td>0.0</td>\n",
       "      <td>0.0</td>\n",
       "      <td>4</td>\n",
       "    </tr>\n",
       "    <tr>\n",
       "      <th>3</th>\n",
       "      <td>male</td>\n",
       "      <td>1</td>\n",
       "      <td>yes</td>\n",
       "      <td>0.0</td>\n",
       "      <td>13</td>\n",
       "    </tr>\n",
       "    <tr>\n",
       "      <th>4</th>\n",
       "      <td>female</td>\n",
       "      <td>1</td>\n",
       "      <td>yes</td>\n",
       "      <td>0.0</td>\n",
       "      <td>3</td>\n",
       "    </tr>\n",
       "  </tbody>\n",
       "</table>\n",
       "</div>"
      ],
      "text/plain": [
       "   gender  SeniorCitizen Partner Dependents  tenure\n",
       "0  female              0     yes        yes       9\n",
       "1    male              0     0.0        0.0       9\n",
       "2    male              0     0.0        0.0       4\n",
       "3    male              1     yes        0.0      13\n",
       "4  female              1     yes        0.0       3"
      ]
     },
     "execution_count": 217,
     "metadata": {},
     "output_type": "execute_result"
    }
   ],
   "source": [
    "# Transformar valores textuales a binarios (ejemplo: 'sí'/'no' a 1/0)\n",
    "bin_map = {'sí': 1, 'si': 1, 'no': 0, 'desconocido': np.nan}\n",
    "# Ajusta los nombres de las columnas según corresponda\n",
    "for col in datos_cli.columns:\n",
    "    if datos_cli[col].dtype == 'object' and set(datos_cli[col].unique()).intersection(bin_map.keys()):\n",
    "        datos_cli[col] = datos_cli[col].map(bin_map).fillna(datos_cli[col])\n",
    "\n",
    "# Renombrar columnas para mayor claridad (ejemplo)\n",
    "datos_cli = datos_cli.rename(columns={'monthly_charges': 'Facturacion_Mensual', 'Cuentas_Diarias': 'Cuentas_Diarias'})\n",
    "\n",
    "# Mostrar primeras filas para verificar cambios\n",
    "datos_cli.head()"
   ]
  },
  {
   "cell_type": "markdown",
   "id": "3c8bf3c3",
   "metadata": {},
   "source": [
    "## Análisis Descriptivo\n",
    "En esta sección se calculan métricas como media, mediana, desviación estándar y otras medidas para comprender la distribución y el comportamiento de los clientes."
   ]
  },
  {
   "cell_type": "code",
   "execution_count": 218,
   "id": "ee9abdb7",
   "metadata": {},
   "outputs": [
    {
     "data": {
      "application/vnd.microsoft.datawrangler.viewer.v0+json": {
       "columns": [
        {
         "name": "index",
         "rawType": "object",
         "type": "string"
        },
        {
         "name": "count",
         "rawType": "object",
         "type": "unknown"
        },
        {
         "name": "unique",
         "rawType": "object",
         "type": "unknown"
        },
        {
         "name": "top",
         "rawType": "object",
         "type": "unknown"
        },
        {
         "name": "freq",
         "rawType": "object",
         "type": "unknown"
        },
        {
         "name": "mean",
         "rawType": "object",
         "type": "unknown"
        },
        {
         "name": "std",
         "rawType": "object",
         "type": "unknown"
        },
        {
         "name": "min",
         "rawType": "object",
         "type": "unknown"
        },
        {
         "name": "25%",
         "rawType": "object",
         "type": "unknown"
        },
        {
         "name": "50%",
         "rawType": "object",
         "type": "unknown"
        },
        {
         "name": "75%",
         "rawType": "object",
         "type": "unknown"
        },
        {
         "name": "max",
         "rawType": "object",
         "type": "unknown"
        }
       ],
       "ref": "129f6f48-b744-427e-852d-71feb75b6c5f",
       "rows": [
        [
         "gender",
         "891",
         "2",
         "male",
         "456",
         null,
         null,
         null,
         null,
         null,
         null,
         null
        ],
        [
         "SeniorCitizen",
         "891.0",
         null,
         null,
         null,
         "0.38496071829405165",
         "0.48685931524130893",
         "0.0",
         "0.0",
         "0.0",
         "1.0",
         "1.0"
        ],
        [
         "Partner",
         "891",
         "2",
         "yes",
         "489",
         null,
         null,
         null,
         null,
         null,
         null,
         null
        ],
        [
         "Dependents",
         "891.0",
         "2.0",
         "0.0",
         "560.0",
         null,
         null,
         null,
         null,
         null,
         null,
         null
        ],
        [
         "tenure",
         "891.0",
         null,
         null,
         null,
         "36.07631874298541",
         "21.018151874769416",
         "0.0",
         "18.0",
         "36.0",
         "54.0",
         "72.0"
        ]
       ],
       "shape": {
        "columns": 11,
        "rows": 5
       }
      },
      "text/html": [
       "<div>\n",
       "<style scoped>\n",
       "    .dataframe tbody tr th:only-of-type {\n",
       "        vertical-align: middle;\n",
       "    }\n",
       "\n",
       "    .dataframe tbody tr th {\n",
       "        vertical-align: top;\n",
       "    }\n",
       "\n",
       "    .dataframe thead th {\n",
       "        text-align: right;\n",
       "    }\n",
       "</style>\n",
       "<table border=\"1\" class=\"dataframe\">\n",
       "  <thead>\n",
       "    <tr style=\"text-align: right;\">\n",
       "      <th></th>\n",
       "      <th>count</th>\n",
       "      <th>unique</th>\n",
       "      <th>top</th>\n",
       "      <th>freq</th>\n",
       "      <th>mean</th>\n",
       "      <th>std</th>\n",
       "      <th>min</th>\n",
       "      <th>25%</th>\n",
       "      <th>50%</th>\n",
       "      <th>75%</th>\n",
       "      <th>max</th>\n",
       "    </tr>\n",
       "  </thead>\n",
       "  <tbody>\n",
       "    <tr>\n",
       "      <th>gender</th>\n",
       "      <td>891</td>\n",
       "      <td>2</td>\n",
       "      <td>male</td>\n",
       "      <td>456</td>\n",
       "      <td>NaN</td>\n",
       "      <td>NaN</td>\n",
       "      <td>NaN</td>\n",
       "      <td>NaN</td>\n",
       "      <td>NaN</td>\n",
       "      <td>NaN</td>\n",
       "      <td>NaN</td>\n",
       "    </tr>\n",
       "    <tr>\n",
       "      <th>SeniorCitizen</th>\n",
       "      <td>891.0</td>\n",
       "      <td>NaN</td>\n",
       "      <td>NaN</td>\n",
       "      <td>NaN</td>\n",
       "      <td>0.384961</td>\n",
       "      <td>0.486859</td>\n",
       "      <td>0.0</td>\n",
       "      <td>0.0</td>\n",
       "      <td>0.0</td>\n",
       "      <td>1.0</td>\n",
       "      <td>1.0</td>\n",
       "    </tr>\n",
       "    <tr>\n",
       "      <th>Partner</th>\n",
       "      <td>891</td>\n",
       "      <td>2</td>\n",
       "      <td>yes</td>\n",
       "      <td>489</td>\n",
       "      <td>NaN</td>\n",
       "      <td>NaN</td>\n",
       "      <td>NaN</td>\n",
       "      <td>NaN</td>\n",
       "      <td>NaN</td>\n",
       "      <td>NaN</td>\n",
       "      <td>NaN</td>\n",
       "    </tr>\n",
       "    <tr>\n",
       "      <th>Dependents</th>\n",
       "      <td>891.0</td>\n",
       "      <td>2.0</td>\n",
       "      <td>0.0</td>\n",
       "      <td>560.0</td>\n",
       "      <td>NaN</td>\n",
       "      <td>NaN</td>\n",
       "      <td>NaN</td>\n",
       "      <td>NaN</td>\n",
       "      <td>NaN</td>\n",
       "      <td>NaN</td>\n",
       "      <td>NaN</td>\n",
       "    </tr>\n",
       "    <tr>\n",
       "      <th>tenure</th>\n",
       "      <td>891.0</td>\n",
       "      <td>NaN</td>\n",
       "      <td>NaN</td>\n",
       "      <td>NaN</td>\n",
       "      <td>36.076319</td>\n",
       "      <td>21.018152</td>\n",
       "      <td>0.0</td>\n",
       "      <td>18.0</td>\n",
       "      <td>36.0</td>\n",
       "      <td>54.0</td>\n",
       "      <td>72.0</td>\n",
       "    </tr>\n",
       "  </tbody>\n",
       "</table>\n",
       "</div>"
      ],
      "text/plain": [
       "               count unique   top   freq       mean        std  min   25%  \\\n",
       "gender           891      2  male    456        NaN        NaN  NaN   NaN   \n",
       "SeniorCitizen  891.0    NaN   NaN    NaN   0.384961   0.486859  0.0   0.0   \n",
       "Partner          891      2   yes    489        NaN        NaN  NaN   NaN   \n",
       "Dependents     891.0    2.0   0.0  560.0        NaN        NaN  NaN   NaN   \n",
       "tenure         891.0    NaN   NaN    NaN  36.076319  21.018152  0.0  18.0   \n",
       "\n",
       "                50%   75%   max  \n",
       "gender          NaN   NaN   NaN  \n",
       "SeniorCitizen   0.0   1.0   1.0  \n",
       "Partner         NaN   NaN   NaN  \n",
       "Dependents      NaN   NaN   NaN  \n",
       "tenure         36.0  54.0  72.0  "
      ]
     },
     "metadata": {},
     "output_type": "display_data"
    }
   ],
   "source": [
    "# Estadísticas descriptivas generales\n",
    "if 'churn_col' in globals() and churn_col is not None and churn_col in datos_cli.columns:\n",
    "    display(datos_cli.describe(include='all').T)\n",
    "    print(f'Valores únicos en la columna objetivo ({churn_col}):', datos_cli[churn_col].unique())\n",
    "else:\n",
    "    display(datos_cli.describe(include='all').T)"
   ]
  },
  {
   "cell_type": "markdown",
   "id": "b083d0e1",
   "metadata": {},
   "source": [
    "## Distribución de evasión (churn)\n",
    "A continuación se analiza y visualiza la proporción de clientes que permanecieron y los que se dieron de baja."
   ]
  },
  {
   "cell_type": "code",
   "execution_count": 219,
   "id": "777f1b9b",
   "metadata": {},
   "outputs": [
    {
     "name": "stdout",
     "output_type": "stream",
     "text": [
      "No se encontró la columna objetivo de churn. Define correctamente churn_col.\n"
     ]
    }
   ],
   "source": [
    "import matplotlib.pyplot as plt\n",
    "import seaborn as sns\n",
    "\n",
    "# Conteo de valores de churn\n",
    "if 'churn_col' in globals() and churn_col is not None and churn_col in datos_cli.columns:\n",
    "    distribucion_churn = datos_cli[churn_col].value_counts(dropna=False)\n",
    "    print('Distribución de churn:')\n",
    "    print(distribucion_churn)\n",
    "\n",
    "    # Gráfico de pastel\n",
    "    labels = ['No Evasión', 'Evasión'] if len(distribucion_churn)==2 else distribucion_churn.index\n",
    "    distribucion_churn.plot.pie(autopct='%1.1f%%', labels=labels, colors=sns.color_palette('pastel'), figsize=(6,6))\n",
    "    plt.title('Distribución de Evasión (Churn)')\n",
    "    plt.ylabel('')\n",
    "    plt.show()\n",
    "else:\n",
    "    print('No se encontró la columna objetivo de churn. Define correctamente churn_col.')"
   ]
  },
  {
   "cell_type": "markdown",
   "id": "982dd793",
   "metadata": {},
   "source": [
    "## Recuento de evasión por variables categóricas\n",
    "A continuación se analiza la distribución de la evasión (churn) según variables categóricas como género, tipo de contrato y método de pago."
   ]
  },
  {
   "cell_type": "code",
   "execution_count": 220,
   "id": "4d70590a",
   "metadata": {},
   "outputs": [
    {
     "name": "stdout",
     "output_type": "stream",
     "text": [
      "No se encontró la columna objetivo de churn. Define correctamente churn_col.\n"
     ]
    }
   ],
   "source": [
    "# Variables categóricas de interés (ajusta según tu dataset)\n",
    "cat_vars = ['gender', 'contract_type', 'payment_method']\n",
    "for var in cat_vars:\n",
    "    if var in datos_cli.columns and 'churn_col' in globals() and churn_col is not None and churn_col in datos_cli.columns:\n",
    "        print(f'\\nEvasión por {var}:')\n",
    "        display(pd.crosstab(datos_cli[var], datos_cli[churn_col], margins=True))\n",
    "        # Gráfico de barras\n",
    "        ax = pd.crosstab(datos_cli[var], datos_cli[churn_col], normalize='index').plot(kind='bar', stacked=True, color=['#8ecae6','#ffb703'])\n",
    "        plt.title(f'Evasión por {var}')\n",
    "        plt.xlabel(var)\n",
    "        plt.ylabel('Proporción')\n",
    "        plt.legend(['No Evasión', 'Evasión'])\n",
    "        plt.show()\n",
    "    elif var in datos_cli.columns:\n",
    "        print(f'No se encontró la columna objetivo de churn. Define correctamente churn_col.')"
   ]
  },
  {
   "cell_type": "markdown",
   "id": "d7345362",
   "metadata": {},
   "source": [
    "## Evasión por variables numéricas\n",
    "A continuación se analiza cómo se distribuyen variables numéricas como 'total gastado' o 'tiempo de contrato' entre clientes que cancelaron y los que no."
   ]
  },
  {
   "cell_type": "code",
   "execution_count": 221,
   "id": "fe6c8af6",
   "metadata": {},
   "outputs": [
    {
     "name": "stdout",
     "output_type": "stream",
     "text": [
      "No se encontró la columna objetivo de churn. Define correctamente churn_col.\n"
     ]
    }
   ],
   "source": [
    "# Variables numéricas de interés (ajusta según tu dataset)\n",
    "num_vars = ['total_charges', 'tenure', 'Facturacion_Mensual', 'Cuentas_Diarias']\n",
    "for var in num_vars:\n",
    "    if var in datos_cli.columns and 'churn_col' in globals() and churn_col is not None and churn_col in datos_cli.columns:\n",
    "        print(f'\\nDistribución de {var} por churn:')\n",
    "        sns.boxplot(x=churn_col, y=var, data=datos_cli, palette=['#8ecae6','#ffb703'])\n",
    "        plt.title(f'{var} por churn')\n",
    "        plt.xlabel('Churn (0=No, 1=Sí)')\n",
    "        plt.ylabel(var)\n",
    "        plt.show()\n",
    "    elif var in datos_cli.columns:\n",
    "        print(f'No se encontró la columna objetivo de churn. Define correctamente churn_col.')"
   ]
  },
  {
   "cell_type": "markdown",
   "id": "700af2a2",
   "metadata": {},
   "source": [
    "## Extra: Análisis de correlación entre variables\n",
    "Como paso adicional, se explora la correlación entre variables numéricas y la evasión de clientes (churn), así como la relación entre la cantidad de servicios contratados y la probabilidad de churn."
   ]
  },
  {
   "cell_type": "code",
   "execution_count": 222,
   "id": "d8cf8623",
   "metadata": {},
   "outputs": [
    {
     "name": "stdout",
     "output_type": "stream",
     "text": [
      "Matriz de correlación:\n"
     ]
    },
    {
     "data": {
      "application/vnd.microsoft.datawrangler.viewer.v0+json": {
       "columns": [
        {
         "name": "index",
         "rawType": "object",
         "type": "string"
        },
        {
         "name": "SeniorCitizen",
         "rawType": "float64",
         "type": "float"
        },
        {
         "name": "tenure",
         "rawType": "float64",
         "type": "float"
        }
       ],
       "ref": "e28ae344-1e1e-4b4a-b292-964e3840346a",
       "rows": [
        [
         "SeniorCitizen",
         "1.0",
         "0.02380765793250126"
        ],
        [
         "tenure",
         "0.02380765793250126",
         "1.0"
        ]
       ],
       "shape": {
        "columns": 2,
        "rows": 2
       }
      },
      "text/html": [
       "<div>\n",
       "<style scoped>\n",
       "    .dataframe tbody tr th:only-of-type {\n",
       "        vertical-align: middle;\n",
       "    }\n",
       "\n",
       "    .dataframe tbody tr th {\n",
       "        vertical-align: top;\n",
       "    }\n",
       "\n",
       "    .dataframe thead th {\n",
       "        text-align: right;\n",
       "    }\n",
       "</style>\n",
       "<table border=\"1\" class=\"dataframe\">\n",
       "  <thead>\n",
       "    <tr style=\"text-align: right;\">\n",
       "      <th></th>\n",
       "      <th>SeniorCitizen</th>\n",
       "      <th>tenure</th>\n",
       "    </tr>\n",
       "  </thead>\n",
       "  <tbody>\n",
       "    <tr>\n",
       "      <th>SeniorCitizen</th>\n",
       "      <td>1.000000</td>\n",
       "      <td>0.023808</td>\n",
       "    </tr>\n",
       "    <tr>\n",
       "      <th>tenure</th>\n",
       "      <td>0.023808</td>\n",
       "      <td>1.000000</td>\n",
       "    </tr>\n",
       "  </tbody>\n",
       "</table>\n",
       "</div>"
      ],
      "text/plain": [
       "               SeniorCitizen    tenure\n",
       "SeniorCitizen       1.000000  0.023808\n",
       "tenure              0.023808  1.000000"
      ]
     },
     "metadata": {},
     "output_type": "display_data"
    },
    {
     "data": {
      "image/png": "[encoded data removed]",
      "text/plain": [
       "<Figure size 800x600 with 2 Axes>"
      ]
     },
     "metadata": {},
     "output_type": "display_data"
    }
   ],
   "source": [
    "# Matriz de correlación entre variables numéricas y churn\n",
    "corr = datos_cli.corr(numeric_only=True)\n",
    "print('Matriz de correlación:')\n",
    "display(corr)\n",
    "\n",
    "# Visualizar la matriz de correlación\n",
    "plt.figure(figsize=(8,6))\n",
    "sns.heatmap(corr, annot=True, cmap='coolwarm', fmt='.2f')\n",
    "plt.title('Matriz de correlación entre variables numéricas')\n",
    "plt.show()\n",
    "\n",
    "# Gráfico de dispersión: Cuentas Diarias vs Churn\n",
    "if 'Cuentas_Diarias' in datos_cli.columns and 'churn_col' in globals() and churn_col is not None and churn_col in datos_cli.columns:\n",
    "    sns.boxplot(x=churn_col, y='Cuentas_Diarias', data=datos_cli, palette=['#8ecae6','#ffb703'])\n",
    "    plt.title('Cuentas Diarias vs Churn')\n",
    "    plt.xlabel('Churn (0=No, 1=Sí)')\n",
    "    plt.ylabel('Cuentas Diarias')\n",
    "    plt.show()\n",
    "\n",
    "# Gráfico de dispersión: Cantidad de servicios contratados vs Churn\n",
    "# Suponiendo que hay una columna 'num_services' o similar, si no, ajusta el nombre\n",
    "if 'num_services' in datos_cli.columns and 'churn_col' in globals() and churn_col is not None and churn_col in datos_cli.columns:\n",
    "    sns.boxplot(x=churn_col, y='num_services', data=datos_cli, palette=['#8ecae6','#ffb703'])\n",
    "    plt.title('Cantidad de servicios contratados vs Churn')\n",
    "    plt.xlabel('Churn (0=No, 1=Sí)')\n",
    "    plt.ylabel('Cantidad de servicios contratados')\n",
    "    plt.show()"
   ]
  },
  {
   "cell_type": "markdown",
   "id": "27ae01c1",
   "metadata": {},
   "source": [
    "## Eliminación de Columnas Irrelevantes\n",
    "Antes de entrenar los modelos, eliminamos columnas que no aportan valor predictivo, como identificadores únicos (por ejemplo, 'customer_id', 'id', etc.), ya que pueden inducir a los modelos a sobreajustar y no ayudan a la generalización."
   ]
  },
  {
   "cell_type": "code",
   "execution_count": 223,
   "id": "875befc9",
   "metadata": {},
   "outputs": [
    {
     "name": "stdout",
     "output_type": "stream",
     "text": [
      "Columnas a eliminar: []\n",
      "Shape después de eliminar columnas irrelevantes: (891, 5)\n"
     ]
    },
    {
     "data": {
      "application/vnd.microsoft.datawrangler.viewer.v0+json": {
       "columns": [
        {
         "name": "index",
         "rawType": "int64",
         "type": "integer"
        },
        {
         "name": "gender",
         "rawType": "object",
         "type": "string"
        },
        {
         "name": "SeniorCitizen",
         "rawType": "int64",
         "type": "integer"
        },
        {
         "name": "Partner",
         "rawType": "object",
         "type": "unknown"
        },
        {
         "name": "Dependents",
         "rawType": "object",
         "type": "unknown"
        },
        {
         "name": "tenure",
         "rawType": "int64",
         "type": "integer"
        }
       ],
       "ref": "199ad85f-7762-4498-b456-c8daef5dda1e",
       "rows": [
        [
         "0",
         "female",
         "0",
         "yes",
         "yes",
         "9"
        ],
        [
         "1",
         "male",
         "0",
         "0.0",
         "0.0",
         "9"
        ],
        [
         "2",
         "male",
         "0",
         "0.0",
         "0.0",
         "4"
        ],
        [
         "3",
         "male",
         "1",
         "yes",
         "0.0",
         "13"
        ],
        [
         "4",
         "female",
         "1",
         "yes",
         "0.0",
         "3"
        ]
       ],
       "shape": {
        "columns": 5,
        "rows": 5
       }
      },
      "text/html": [
       "<div>\n",
       "<style scoped>\n",
       "    .dataframe tbody tr th:only-of-type {\n",
       "        vertical-align: middle;\n",
       "    }\n",
       "\n",
       "    .dataframe tbody tr th {\n",
       "        vertical-align: top;\n",
       "    }\n",
       "\n",
       "    .dataframe thead th {\n",
       "        text-align: right;\n",
       "    }\n",
       "</style>\n",
       "<table border=\"1\" class=\"dataframe\">\n",
       "  <thead>\n",
       "    <tr style=\"text-align: right;\">\n",
       "      <th></th>\n",
       "      <th>gender</th>\n",
       "      <th>SeniorCitizen</th>\n",
       "      <th>Partner</th>\n",
       "      <th>Dependents</th>\n",
       "      <th>tenure</th>\n",
       "    </tr>\n",
       "  </thead>\n",
       "  <tbody>\n",
       "    <tr>\n",
       "      <th>0</th>\n",
       "      <td>female</td>\n",
       "      <td>0</td>\n",
       "      <td>yes</td>\n",
       "      <td>yes</td>\n",
       "      <td>9</td>\n",
       "    </tr>\n",
       "    <tr>\n",
       "      <th>1</th>\n",
       "      <td>male</td>\n",
       "      <td>0</td>\n",
       "      <td>0.0</td>\n",
       "      <td>0.0</td>\n",
       "      <td>9</td>\n",
       "    </tr>\n",
       "    <tr>\n",
       "      <th>2</th>\n",
       "      <td>male</td>\n",
       "      <td>0</td>\n",
       "      <td>0.0</td>\n",
       "      <td>0.0</td>\n",
       "      <td>4</td>\n",
       "    </tr>\n",
       "    <tr>\n",
       "      <th>3</th>\n",
       "      <td>male</td>\n",
       "      <td>1</td>\n",
       "      <td>yes</td>\n",
       "      <td>0.0</td>\n",
       "      <td>13</td>\n",
       "    </tr>\n",
       "    <tr>\n",
       "      <th>4</th>\n",
       "      <td>female</td>\n",
       "      <td>1</td>\n",
       "      <td>yes</td>\n",
       "      <td>0.0</td>\n",
       "      <td>3</td>\n",
       "    </tr>\n",
       "  </tbody>\n",
       "</table>\n",
       "</div>"
      ],
      "text/plain": [
       "   gender  SeniorCitizen Partner Dependents  tenure\n",
       "0  female              0     yes        yes       9\n",
       "1    male              0     0.0        0.0       9\n",
       "2    male              0     0.0        0.0       4\n",
       "3    male              1     yes        0.0      13\n",
       "4  female              1     yes        0.0       3"
      ]
     },
     "execution_count": 223,
     "metadata": {},
     "output_type": "execute_result"
    }
   ],
   "source": [
    "# Identificación y eliminación de columnas irrelevantes (identificadores únicos, etc.)\n",
    "irrelevantes = [col for col in ['customer_id', 'id', 'cliente_id', 'user_id'] if col in datos_cli.columns]\n",
    "# No eliminar la columna objetivo churn_col si está en la lista\n",
    "if 'churn_col' in globals() and churn_col is not None and churn_col in irrelevantes:\n",
    "    irrelevantes.remove(churn_col)\n",
    "print('Columnas a eliminar:', irrelevantes)\n",
    "datos_cli = datos_cli.drop(columns=irrelevantes)\n",
    "print('Shape después de eliminar columnas irrelevantes:', datos_cli.shape)\n",
    "datos_cli.head()"
   ]
  },
  {
   "cell_type": "markdown",
   "id": "bcd944b3",
   "metadata": {},
   "source": [
    "## Codificación de Variables Categóricas (Encoding)\n",
    "Para que los algoritmos de machine learning puedan trabajar con variables categóricas, es necesario transformarlas a formato numérico. Utilizaremos one-hot encoding para las variables categóricas con más de dos categorías y label encoding para las binarias."
   ]
  },
  {
   "cell_type": "code",
   "execution_count": 224,
   "id": "98b4de9e",
   "metadata": {},
   "outputs": [
    {
     "name": "stdout",
     "output_type": "stream",
     "text": [
      "Defaulting to user installation because normal site-packages is not writeable\n",
      "Requirement already satisfied: scikit-learn in c:\\users\\benja\\appdata\\local\\packages\\pythonsoftwarefoundation.python.3.12_qbz5n2kfra8p0\\localcache\\local-packages\\python312\\site-packages (1.7.1)\n",
      "Requirement already satisfied: numpy>=1.22.0 in c:\\users\\benja\\appdata\\local\\packages\\pythonsoftwarefoundation.python.3.12_qbz5n2kfra8p0\\localcache\\local-packages\\python312\\site-packages (from scikit-learn) (2.0.1)\n",
      "Requirement already satisfied: scipy>=1.8.0 in c:\\users\\benja\\appdata\\local\\packages\\pythonsoftwarefoundation.python.3.12_qbz5n2kfra8p0\\localcache\\local-packages\\python312\\site-packages (from scikit-learn) (1.15.2)\n",
      "Requirement already satisfied: joblib>=1.2.0 in c:\\users\\benja\\appdata\\local\\packages\\pythonsoftwarefoundation.python.3.12_qbz5n2kfra8p0\\localcache\\local-packages\\python312\\site-packages (from scikit-learn) (1.5.1)\n",
      "Requirement already satisfied: threadpoolctl>=3.1.0 in c:\\users\\benja\\appdata\\local\\packages\\pythonsoftwarefoundation.python.3.12_qbz5n2kfra8p0\\localcache\\local-packages\\python312\\site-packages (from scikit-learn) (3.6.0)\n"
     ]
    },
    {
     "name": "stderr",
     "output_type": "stream",
     "text": [
      "\n",
      "[notice] A new release of pip is available: 25.0.1 -> 25.2\n",
      "[notice] To update, run: C:\\Users\\Benja\\AppData\\Local\\Microsoft\\WindowsApps\\PythonSoftwareFoundation.Python.3.12_qbz5n2kfra8p0\\python.exe -m pip install --upgrade pip\n"
     ]
    }
   ],
   "source": [
    "!pip install scikit-learn"
   ]
  },
  {
   "cell_type": "code",
   "execution_count": 225,
   "id": "17ea79bc",
   "metadata": {},
   "outputs": [
    {
     "name": "stdout",
     "output_type": "stream",
     "text": [
      "Shape después del encoding: (891, 5)\n"
     ]
    },
    {
     "data": {
      "application/vnd.microsoft.datawrangler.viewer.v0+json": {
       "columns": [
        {
         "name": "index",
         "rawType": "int64",
         "type": "integer"
        },
        {
         "name": "gender",
         "rawType": "int64",
         "type": "integer"
        },
        {
         "name": "SeniorCitizen",
         "rawType": "int64",
         "type": "integer"
        },
        {
         "name": "Partner",
         "rawType": "int64",
         "type": "integer"
        },
        {
         "name": "Dependents",
         "rawType": "int64",
         "type": "integer"
        },
        {
         "name": "tenure",
         "rawType": "int64",
         "type": "integer"
        }
       ],
       "ref": "6ea12429-2250-472c-aba6-fda67b2f6eb5",
       "rows": [
        [
         "0",
         "0",
         "0",
         "1",
         "1",
         "9"
        ],
        [
         "1",
         "1",
         "0",
         "0",
         "0",
         "9"
        ],
        [
         "2",
         "1",
         "0",
         "0",
         "0",
         "4"
        ],
        [
         "3",
         "1",
         "1",
         "1",
         "0",
         "13"
        ],
        [
         "4",
         "0",
         "1",
         "1",
         "0",
         "3"
        ]
       ],
       "shape": {
        "columns": 5,
        "rows": 5
       }
      },
      "text/html": [
       "<div>\n",
       "<style scoped>\n",
       "    .dataframe tbody tr th:only-of-type {\n",
       "        vertical-align: middle;\n",
       "    }\n",
       "\n",
       "    .dataframe tbody tr th {\n",
       "        vertical-align: top;\n",
       "    }\n",
       "\n",
       "    .dataframe thead th {\n",
       "        text-align: right;\n",
       "    }\n",
       "</style>\n",
       "<table border=\"1\" class=\"dataframe\">\n",
       "  <thead>\n",
       "    <tr style=\"text-align: right;\">\n",
       "      <th></th>\n",
       "      <th>gender</th>\n",
       "      <th>SeniorCitizen</th>\n",
       "      <th>Partner</th>\n",
       "      <th>Dependents</th>\n",
       "      <th>tenure</th>\n",
       "    </tr>\n",
       "  </thead>\n",
       "  <tbody>\n",
       "    <tr>\n",
       "      <th>0</th>\n",
       "      <td>0</td>\n",
       "      <td>0</td>\n",
       "      <td>1</td>\n",
       "      <td>1</td>\n",
       "      <td>9</td>\n",
       "    </tr>\n",
       "    <tr>\n",
       "      <th>1</th>\n",
       "      <td>1</td>\n",
       "      <td>0</td>\n",
       "      <td>0</td>\n",
       "      <td>0</td>\n",
       "      <td>9</td>\n",
       "    </tr>\n",
       "    <tr>\n",
       "      <th>2</th>\n",
       "      <td>1</td>\n",
       "      <td>0</td>\n",
       "      <td>0</td>\n",
       "      <td>0</td>\n",
       "      <td>4</td>\n",
       "    </tr>\n",
       "    <tr>\n",
       "      <th>3</th>\n",
       "      <td>1</td>\n",
       "      <td>1</td>\n",
       "      <td>1</td>\n",
       "      <td>0</td>\n",
       "      <td>13</td>\n",
       "    </tr>\n",
       "    <tr>\n",
       "      <th>4</th>\n",
       "      <td>0</td>\n",
       "      <td>1</td>\n",
       "      <td>1</td>\n",
       "      <td>0</td>\n",
       "      <td>3</td>\n",
       "    </tr>\n",
       "  </tbody>\n",
       "</table>\n",
       "</div>"
      ],
      "text/plain": [
       "   gender  SeniorCitizen  Partner  Dependents  tenure\n",
       "0       0              0        1           1       9\n",
       "1       1              0        0           0       9\n",
       "2       1              0        0           0       4\n",
       "3       1              1        1           0      13\n",
       "4       0              1        1           0       3"
      ]
     },
     "execution_count": 225,
     "metadata": {},
     "output_type": "execute_result"
    }
   ],
   "source": [
    "# Codificación de variables categóricas\n",
    "from sklearn.preprocessing import LabelEncoder\n",
    "cat_cols = datos_cli.select_dtypes(include=['object', 'category']).columns.tolist()\n",
    "# Excluir la columna objetivo de churn si está en las categóricas\n",
    "if 'churn_col' in globals() and churn_col is not None and churn_col in cat_cols:\n",
    "    cat_cols.remove(churn_col)\n",
    "# Detectar columnas binarias (solo dos valores únicos)\n",
    "binarias = [col for col in cat_cols if datos_cli[col].nunique() == 2]\n",
    "multiclass = [col for col in cat_cols if datos_cli[col].nunique() > 2]\n",
    "le = LabelEncoder()\n",
    "for col in binarias:\n",
    "    datos_cli[col] = datos_cli[col].astype(str)\n",
    "    datos_cli[col] = le.fit_transform(datos_cli[col])\n",
    "datos_cli = pd.get_dummies(datos_cli, columns=multiclass, drop_first=True)\n",
    "print('Shape después del encoding:', datos_cli.shape)\n",
    "datos_cli.head()"
   ]
  },
  {
   "cell_type": "markdown",
   "id": "e75eaa64",
   "metadata": {},
   "source": [
    "## Verificación de la Proporción de Cancelación (Churn)\n",
    "Calculamos la proporción de clientes que cancelaron frente a los que permanecieron activos. Esto nos permite evaluar si existe un desbalance de clases, lo cual puede afectar el desempeño de los modelos."
   ]
  },
  {
   "cell_type": "code",
   "execution_count": 226,
   "id": "527e0060",
   "metadata": {},
   "outputs": [
    {
     "name": "stdout",
     "output_type": "stream",
     "text": [
      "No se encontró la columna objetivo de churn. Define correctamente churn_col.\n"
     ]
    }
   ],
   "source": [
    "# Proporción de cancelación (churn) y verificación de balance de clases\n",
    "if 'churn_col' in globals() and churn_col is not None and churn_col in datos_cli.columns:\n",
    "    churn_counts = datos_cli[churn_col].value_counts(normalize=True)\n",
    "    print('Proporción de cada clase (churn):')\n",
    "    print(churn_counts)\n",
    "    if churn_counts.min() < 0.3:\n",
    "        print('¡Atención! Existe desbalance de clases. Considera técnicas de balanceo para el modelado.')\n",
    "else:\n",
    "    print('No se encontró la columna objetivo de churn. Define correctamente churn_col.')"
   ]
  },
  {
   "cell_type": "markdown",
   "id": "315e607c",
   "metadata": {},
   "source": [
    "## Balanceo de Clases\n",
    "Si existe un desbalance importante entre las clases, aplicaremos técnicas de balanceo como SMOTE para mejorar la capacidad predictiva de los modelos."
   ]
  },
  {
   "cell_type": "code",
   "execution_count": 227,
   "id": "767d29bf",
   "metadata": {},
   "outputs": [
    {
     "name": "stdout",
     "output_type": "stream",
     "text": [
      "Función aplicar_smote lista para usarse en el pipeline de modelado.\n"
     ]
    }
   ],
   "source": [
    "# Balanceo de clases con SMOTE (solo si hay desbalance) - Versión NO destructiva\n",
    "from imblearn.over_sampling import SMOTE\n",
    "\n",
    "def aplicar_smote(X, y):\n",
    "    # Solo aplicar SMOTE si hay desbalance\n",
    "    if y.value_counts(normalize=True).min() < 0.3:\n",
    "        smote = SMOTE(random_state=42)\n",
    "        X_res, y_res = smote.fit_resample(X, y)\n",
    "        print('Shape después de SMOTE:', X_res.shape, y_res.shape)\n",
    "        print('Proporción de clases balanceadas:')\n",
    "        print(pd.Series(y_res).value_counts(normalize=True))\n",
    "        return X_res, y_res\n",
    "    else:\n",
    "        print('No se aplicó SMOTE porque no hay desbalance significativo.')\n",
    "        return X, y\n",
    "\n",
    "# Ejemplo de uso en el pipeline de modelado:\n",
    "# X = datos_cli.drop(churn_col, axis=1)\n",
    "# y = datos_cli[churn_col]\n",
    "# X_res, y_res = aplicar_smote(X, y)\n",
    "\n",
    "print('Función aplicar_smote lista para usarse en el pipeline de modelado.')"
   ]
  },
  {
   "cell_type": "markdown",
   "id": "c7b2ea45",
   "metadata": {},
   "source": [
    "## Normalización o Estandarización de Variables\n",
    "Para modelos sensibles a la escala de los datos (como KNN o Regresión Logística), es recomendable normalizar o estandarizar las variables numéricas. Para modelos basados en árboles, este paso no es necesario."
   ]
  },
  {
   "cell_type": "code",
   "execution_count": 228,
   "id": "4595d48f",
   "metadata": {},
   "outputs": [
    {
     "name": "stdout",
     "output_type": "stream",
     "text": [
      "Variables numéricas normalizadas para modelos sensibles a la escala.\n"
     ]
    }
   ],
   "source": [
    "# Normalización/Estandarización de variables numéricas (para modelos sensibles a la escala)\n",
    "from sklearn.preprocessing import StandardScaler\n",
    "if 'X_res' not in globals():\n",
    "    print('Error: X_res no está definido. Ejecuta primero la celda de balanceo de clases (SMOTE) para definir X_res y y_res.')\n",
    "else:\n",
    "    if 'churn_col' in globals() and churn_col is not None and churn_col in X_res.columns:\n",
    "        num_cols = [col for col in X_res.select_dtypes(include=['float64', 'int64']).columns if col != churn_col]\n",
    "    else:\n",
    "        num_cols = X_res.select_dtypes(include=['float64', 'int64']).columns\n",
    "    scaler = StandardScaler()\n",
    "    X_norm = X_res.copy()\n",
    "    X_norm[num_cols] = scaler.fit_transform(X_res[num_cols])\n",
    "    print('Variables numéricas normalizadas para modelos sensibles a la escala.')\n",
    "    X_norm.head()"
   ]
  },
  {
   "cell_type": "markdown",
   "id": "b82abb6b",
   "metadata": {},
   "source": [
    "## Separación de Datos en Entrenamiento y Prueba\n",
    "Dividimos el conjunto de datos en entrenamiento y prueba para evaluar el rendimiento de los modelos de manera objetiva. Utilizaremos una proporción 70% entrenamiento y 30% prueba."
   ]
  },
  {
   "cell_type": "code",
   "execution_count": 229,
   "id": "b35dc4c1",
   "metadata": {},
   "outputs": [
    {
     "name": "stdout",
     "output_type": "stream",
     "text": [
      "No se encontró la columna objetivo de churn. Define correctamente churn_col.\n"
     ]
    }
   ],
   "source": [
    "# Separación de datos en entrenamiento y prueba (70% train, 30% test) con balanceo y normalización locales\n",
    "from sklearn.model_selection import train_test_split\n",
    "from sklearn.preprocessing import StandardScaler\n",
    "\n",
    "# Definir X e y base\n",
    "if 'churn_col' in globals() and churn_col is not None and churn_col in datos_cli.columns:\n",
    "    X = datos_cli.drop(churn_col, axis=1)\n",
    "    y = datos_cli[churn_col]\n",
    "\n",
    "    # Balanceo solo para el split de entrenamiento/prueba\n",
    "    X_res, y_res = aplicar_smote(X, y)\n",
    "\n",
    "    # Normalización solo para modelos sensibles a la escala\n",
    "    num_cols = X_res.select_dtypes(include=['float64', 'int64']).columns\n",
    "    scaler = StandardScaler()\n",
    "    X_norm = X_res.copy()\n",
    "    X_norm[num_cols] = scaler.fit_transform(X_res[num_cols])\n",
    "\n",
    "    # Split para modelos sensibles a la escala\n",
    "    Xn_train, Xn_test, yn_train, yn_test = train_test_split(X_norm, y_res, test_size=0.3, random_state=42, stratify=y_res)\n",
    "    # Split para modelos no sensibles a la escala\n",
    "    X_train, X_test, y_train, y_test = train_test_split(X_res, y_res, test_size=0.3, random_state=42, stratify=y_res)\n",
    "\n",
    "    print('Tamaños de los conjuntos:')\n",
    "    print('Xn_train:', Xn_train.shape, 'Xn_test:', Xn_test.shape)\n",
    "    print('X_train:', X_train.shape, 'X_test:', X_test.shape)\n",
    "    # Diagnóstico de variables\n",
    "    print('Variables definidas:')\n",
    "    print('Xn_train:', 'Xn_train' in locals())\n",
    "    print('yn_train:', 'yn_train' in locals())\n",
    "    print('X_train:', 'X_train' in locals())\n",
    "    print('y_train:', 'y_train' in locals())\n",
    "else:\n",
    "    print('No se encontró la columna objetivo de churn. Define correctamente churn_col.')"
   ]
  },
  {
   "cell_type": "markdown",
   "id": "f331d922",
   "metadata": {},
   "source": [
    "## Creación de Modelos Predictivos\n",
    "Entrenaremos dos modelos: uno sensible a la escala de los datos (Regresión Logística) y otro no sensible (Random Forest). Esto permitirá comparar el impacto de la normalización y la robustez de cada enfoque."
   ]
  },
  {
   "cell_type": "code",
   "execution_count": 230,
   "id": "ca2a000c",
   "metadata": {},
   "outputs": [
    {
     "name": "stdout",
     "output_type": "stream",
     "text": [
      "Accuracy Regresión Logística: 0.6834138486312399\n",
      "Accuracy Random Forest: 0.7191626409017713\n",
      "Accuracy Random Forest: 0.7191626409017713\n"
     ]
    }
   ],
   "source": [
    "# Entrenamiento de modelos: Regresión Logística y Random Forest\n",
    "from sklearn.linear_model import LogisticRegression\n",
    "from sklearn.ensemble import RandomForestClassifier\n",
    "from sklearn.metrics import accuracy_score\n",
    "\n",
    "# Modelo 1: Regresión Logística (sensible a la escala)\n",
    "logreg = LogisticRegression(max_iter=1000, random_state=42)\n",
    "logreg.fit(Xn_train, yn_train)\n",
    "y_pred_logreg = logreg.predict(Xn_test)\n",
    "acc_logreg = accuracy_score(yn_test, y_pred_logreg)\n",
    "print('Accuracy Regresión Logística:', acc_logreg)\n",
    "\n",
    "# Modelo 2: Random Forest (no sensible a la escala)\n",
    "rf = RandomForestClassifier(n_estimators=100, random_state=42)\n",
    "rf.fit(X_train, y_train)\n",
    "y_pred_rf = rf.predict(X_test)\n",
    "acc_rf = accuracy_score(y_test, y_pred_rf)\n",
    "print('Accuracy Random Forest:', acc_rf)"
   ]
  },
  {
   "cell_type": "markdown",
   "id": "35516570",
   "metadata": {},
   "source": [
    "## Evaluación de los Modelos\n",
    "Evaluaremos ambos modelos utilizando métricas de clasificación: accuracy, precisión, recall, F1-score y matriz de confusión. Esto permitirá comparar su desempeño y detectar posibles problemas de overfitting o underfitting."
   ]
  },
  {
   "cell_type": "code",
   "execution_count": 231,
   "id": "99cfe7ff",
   "metadata": {},
   "outputs": [
    {
     "name": "stdout",
     "output_type": "stream",
     "text": [
      "--- Regresión Logística ---\n",
      "              precision    recall  f1-score   support\n",
      "\n",
      "         0.0       0.70      0.63      0.67      1553\n",
      "         1.0       0.67      0.73      0.70      1552\n",
      "\n",
      "    accuracy                           0.68      3105\n",
      "   macro avg       0.69      0.68      0.68      3105\n",
      "weighted avg       0.69      0.68      0.68      3105\n",
      "\n",
      "Matriz de confusión:\n",
      "[[ 984  569]\n",
      " [ 414 1138]]\n",
      "--- Random Forest ---\n",
      "              precision    recall  f1-score   support\n",
      "\n",
      "         0.0       0.76      0.64      0.70      1553\n",
      "         1.0       0.69      0.80      0.74      1552\n",
      "\n",
      "    accuracy                           0.72      3105\n",
      "   macro avg       0.72      0.72      0.72      3105\n",
      "weighted avg       0.72      0.72      0.72      3105\n",
      "\n",
      "Matriz de confusión:\n",
      "[[ 998  555]\n",
      " [ 317 1235]]\n"
     ]
    }
   ],
   "source": [
    "# Evaluación de modelos: métricas de clasificación\n",
    "from sklearn.metrics import precision_score, recall_score, f1_score, confusion_matrix, classification_report\n",
    "\n",
    "# Regresión Logística\n",
    "print('--- Regresión Logística ---')\n",
    "print(classification_report(yn_test, y_pred_logreg))\n",
    "print('Matriz de confusión:')\n",
    "print(confusion_matrix(yn_test, y_pred_logreg))\n",
    "\n",
    "# Random Forest\n",
    "print('--- Random Forest ---')\n",
    "print(classification_report(y_test, y_pred_rf))\n",
    "print('Matriz de confusión:')\n",
    "print(confusion_matrix(y_test, y_pred_rf))"
   ]
  },
  {
   "cell_type": "markdown",
   "id": "e04d7628",
   "metadata": {},
   "source": [
    "## Análisis de Importancia de Variables\n",
    "Analizamos la importancia de las variables en cada modelo para identificar los factores que más influyen en la cancelación de clientes. En Regresión Logística se interpretan los coeficientes, y en Random Forest la importancia de las variables."
   ]
  },
  {
   "cell_type": "code",
   "execution_count": 232,
   "id": "289fc84d",
   "metadata": {},
   "outputs": [
    {
     "name": "stdout",
     "output_type": "stream",
     "text": [
      "Coeficientes Regresión Logística:\n",
      "tenure          -0.945043\n",
      "Dependents      -0.370950\n",
      "SeniorCitizen    0.239073\n",
      "gender          -0.061163\n",
      "Partner          0.054494\n",
      "dtype: float64\n"
     ]
    },
    {
     "data": {
      "image/png": "[encoded data removed]",
      "text/plain": [
       "<Figure size 640x480 with 1 Axes>"
      ]
     },
     "metadata": {},
     "output_type": "display_data"
    },
    {
     "name": "stdout",
     "output_type": "stream",
     "text": [
      "Importancia Random Forest:\n",
      "tenure           0.818621\n",
      "Dependents       0.082640\n",
      "Partner          0.039570\n",
      "SeniorCitizen    0.038100\n",
      "gender           0.021070\n",
      "dtype: float64\n"
     ]
    },
    {
     "data": {
      "image/png": "[encoded data removed]",
      "text/plain": [
       "<Figure size 640x480 with 1 Axes>"
      ]
     },
     "metadata": {},
     "output_type": "display_data"
    }
   ],
   "source": [
    "# Importancia de variables en Regresión Logística y Random Forest\n",
    "import matplotlib.pyplot as plt\n",
    "import numpy as np\n",
    "\n",
    "# Regresión Logística: coeficientes\n",
    "coefs = pd.Series(logreg.coef_[0], index=Xn_train.columns).sort_values(key=abs, ascending=False)\n",
    "print('Coeficientes Regresión Logística:')\n",
    "print(coefs.head(10))\n",
    "coefs.head(10).plot(kind='barh', title='Top 10 Coeficientes Regresión Logística')\n",
    "plt.xlabel('Valor del coeficiente')\n",
    "plt.gca().invert_yaxis()\n",
    "plt.show()\n",
    "\n",
    "# Random Forest: importancia de variables\n",
    "importancias = pd.Series(rf.feature_importances_, index=X_train.columns).sort_values(ascending=False)\n",
    "print('Importancia Random Forest:')\n",
    "print(importancias.head(10))\n",
    "importancias.head(10).plot(kind='barh', title='Top 10 Importancia Random Forest')\n",
    "plt.xlabel('Importancia')\n",
    "plt.gca().invert_yaxis()\n",
    "plt.show()"
   ]
  },
  {
   "cell_type": "markdown",
   "id": "7b15038a",
   "metadata": {},
   "source": [
    "# Informe Final: Análisis de Evasión de Clientes (Churn) en TelecomX\n",
    "\n",
    "## Introducción\n",
    "El objetivo de este análisis es comprender los factores que influyen en la evasión de clientes (churn) en TelecomX. La evasión de clientes representa un desafío importante para las empresas de telecomunicaciones, ya que impacta directamente en los ingresos y la sostenibilidad del negocio. Identificar patrones y variables asociadas a la cancelación del servicio permite diseñar estrategias para retener clientes y mejorar la experiencia.\n",
    "\n",
    "## Limpieza y Tratamiento de Datos\n",
    "- Se importaron los datos desde una fuente externa y se normalizó la estructura para facilitar el análisis.\n",
    "- Se eliminaron duplicados y se trataron valores ausentes, rellenando con \"desconocido\" en variables categóricas y la mediana en variables numéricas.\n",
    "- Se estandarizaron los textos (minúsculas, sin tildes ni espacios extra) y se transformaron variables textuales como \"sí\"/\"no\" a valores binarios (1/0).\n",
    "- Se crearon nuevas variables como \"Cuentas_Diarias\" para obtener una visión más granular del comportamiento de facturación.\n",
    "\n",
    "## Análisis Exploratorio de Datos\n",
    "- Se realizó un análisis descriptivo general para conocer la distribución de las variables principales.\n",
    "- Se visualizó la proporción de clientes que permanecen y los que se dieron de baja (churn), identificando el porcentaje de evasión.\n",
    "- Se analizaron los patrones de evasión según variables categóricas (género, tipo de contrato, método de pago) y numéricas (total gastado, tiempo de contrato, facturación mensual, cuentas diarias), utilizando gráficos de barras y cajas para detectar tendencias y diferencias entre grupos.\n",
    "\n",
    "## Modelado y Resultados\n",
    "- Se implementaron dos modelos de clasificación: Regresión Logística y Random Forest.\n",
    "- Se aplicaron técnicas de balanceo de clases y normalización de variables.\n",
    "- El modelo Random Forest mostró un mejor rendimiento con una accuracy del {acc_rf:.2%}.\n",
    "- Se identificaron las variables más importantes para predecir la evasión.\n",
    "\n",
    "## Conclusiones e Insights\n",
    "- Se identificaron variables y segmentos con mayor propensión a la evasión, como ciertos tipos de contrato o métodos de pago.\n",
    "- Los clientes con menor tiempo de contrato y menor gasto total tienden a presentar mayor tasa de churn.\n",
    "- Existen diferencias notables en la evasión según el perfil del cliente, lo que sugiere la necesidad de estrategias personalizadas.\n",
    "\n",
    "## Recomendaciones\n",
    "- Implementar campañas de retención dirigidas a segmentos con mayor riesgo de evasión, especialmente aquellos con contratos de corto plazo o bajo gasto.\n",
    "- Mejorar la experiencia del cliente y ofrecer incentivos para aumentar la permanencia y el valor del ciclo de vida.\n",
    "- Monitorear continuamente las variables identificadas como críticas y ajustar las estrategias según los cambios en el comportamiento de los clientes.\n",
    "\n",
    "## Próximos Pasos\n",
    "1. Implementar un sistema de alertas tempranas basado en los factores de riesgo identificados.\n",
    "2. Desarrollar modelos predictivos más específicos para diferentes segmentos de clientes.\n",
    "3. Realizar pruebas A/B de diferentes estrategias de retención.\n",
    "4. Establecer un sistema de monitoreo continuo de las métricas clave de churn.\n",
    "\n",
    "---\n",
    "\n",
    "Este análisis proporciona una base sólida para la toma de decisiones orientadas a reducir la evasión y fortalecer la relación con los clientes de TelecomX."
   ]
  },
  {
   "cell_type": "markdown",
   "id": "274633e5",
   "metadata": {},
   "source": [
    "## Conclusión Estratégica y Recomendaciones\n",
    "A partir de los resultados de los modelos y el análisis de importancia de variables, se identifican los principales factores que influyen en la cancelación de clientes. Se proponen estrategias de retención basadas en los hallazgos para reducir el churn y mejorar la satisfacción del cliente."
   ]
  }
 ],
 "metadata": {
  "kernelspec": {
   "display_name": "Python 3",
   "language": "python",
   "name": "python3"
  },
  "language_info": {
   "codemirror_mode": {
    "name": "ipython",
    "version": 3
   },
   "file_extension": ".py",
   "mimetype": "text/x-python",
   "name": "python",
   "nbconvert_exporter": "python",
   "pygments_lexer": "ipython3",
   "version": "3.12.10"
  }
 },
 "nbformat": 4,
 "nbformat_minor": 5
}
